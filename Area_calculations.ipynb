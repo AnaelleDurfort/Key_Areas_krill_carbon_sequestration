{
 "cells": [
  {
   "cell_type": "markdown",
   "id": "c31c7bbb",
   "metadata": {},
   "source": [
    "# Area and proportion calculations\n",
    "\n",
    "This files is meant to calculate the interresting values to present in the results, like the % coverage of the important areas for krill mediated carbone sequestration (i.e., overlap between high krill density and efficient carbon sequestration).\n",
    "\n",
    "## Load areas of cells\n",
    "\n",
    "Particulary toward the poles, the cells of a regular grid in degres (here 2°x2°) have very different surface (km²). Thus, we used the OCIM data in which we also have the area of each cell."
   ]
  },
  {
   "cell_type": "code",
   "execution_count": 2,
   "id": "7a2c623f",
   "metadata": {},
   "outputs": [
    {
     "name": "stderr",
     "output_type": "stream",
     "text": [
      "Cannot find header.dxf (GDAL_DATA is not defined)\n"
     ]
    }
   ],
   "source": [
    "# import libraries (ok sous base anaconda)\n",
    "import matplotlib.pyplot as plt\n",
    "import xarray as xr\n",
    "import numpy as np\n",
    "import pandas as pd\n",
    "import geopandas as gpd\n",
    "import os\n",
    "import scipy\n",
    "import math\n",
    "import seaborn as sns\n",
    "\n",
    "import cartopy.crs as ccrs\n",
    "import cartopy.feature as cfeature\n",
    "from cartopy.mpl.gridliner import LONGITUDE_FORMATTER, LATITUDE_FORMATTER"
   ]
  },
  {
   "cell_type": "markdown",
   "id": "56a22b67",
   "metadata": {},
   "source": [
    "### Load OCIM data with area"
   ]
  },
  {
   "cell_type": "code",
   "execution_count": 3,
   "id": "98c7f78f",
   "metadata": {},
   "outputs": [
    {
     "data": {
      "text/html": [
       "<div><svg style=\"position: absolute; width: 0; height: 0; overflow: hidden\">\n",
       "<defs>\n",
       "<symbol id=\"icon-database\" viewBox=\"0 0 32 32\">\n",
       "<path d=\"M16 0c-8.837 0-16 2.239-16 5v4c0 2.761 7.163 5 16 5s16-2.239 16-5v-4c0-2.761-7.163-5-16-5z\"></path>\n",
       "<path d=\"M16 17c-8.837 0-16-2.239-16-5v6c0 2.761 7.163 5 16 5s16-2.239 16-5v-6c0 2.761-7.163 5-16 5z\"></path>\n",
       "<path d=\"M16 26c-8.837 0-16-2.239-16-5v6c0 2.761 7.163 5 16 5s16-2.239 16-5v-6c0 2.761-7.163 5-16 5z\"></path>\n",
       "</symbol>\n",
       "<symbol id=\"icon-file-text2\" viewBox=\"0 0 32 32\">\n",
       "<path d=\"M28.681 7.159c-0.694-0.947-1.662-2.053-2.724-3.116s-2.169-2.030-3.116-2.724c-1.612-1.182-2.393-1.319-2.841-1.319h-15.5c-1.378 0-2.5 1.121-2.5 2.5v27c0 1.378 1.122 2.5 2.5 2.5h23c1.378 0 2.5-1.122 2.5-2.5v-19.5c0-0.448-0.137-1.23-1.319-2.841zM24.543 5.457c0.959 0.959 1.712 1.825 2.268 2.543h-4.811v-4.811c0.718 0.556 1.584 1.309 2.543 2.268zM28 29.5c0 0.271-0.229 0.5-0.5 0.5h-23c-0.271 0-0.5-0.229-0.5-0.5v-27c0-0.271 0.229-0.5 0.5-0.5 0 0 15.499-0 15.5 0v7c0 0.552 0.448 1 1 1h7v19.5z\"></path>\n",
       "<path d=\"M23 26h-14c-0.552 0-1-0.448-1-1s0.448-1 1-1h14c0.552 0 1 0.448 1 1s-0.448 1-1 1z\"></path>\n",
       "<path d=\"M23 22h-14c-0.552 0-1-0.448-1-1s0.448-1 1-1h14c0.552 0 1 0.448 1 1s-0.448 1-1 1z\"></path>\n",
       "<path d=\"M23 18h-14c-0.552 0-1-0.448-1-1s0.448-1 1-1h14c0.552 0 1 0.448 1 1s-0.448 1-1 1z\"></path>\n",
       "</symbol>\n",
       "</defs>\n",
       "</svg>\n",
       "<style>/* CSS stylesheet for displaying xarray objects in jupyterlab.\n",
       " *\n",
       " */\n",
       "\n",
       ":root {\n",
       "  --xr-font-color0: var(--jp-content-font-color0, rgba(0, 0, 0, 1));\n",
       "  --xr-font-color2: var(--jp-content-font-color2, rgba(0, 0, 0, 0.54));\n",
       "  --xr-font-color3: var(--jp-content-font-color3, rgba(0, 0, 0, 0.38));\n",
       "  --xr-border-color: var(--jp-border-color2, #e0e0e0);\n",
       "  --xr-disabled-color: var(--jp-layout-color3, #bdbdbd);\n",
       "  --xr-background-color: var(--jp-layout-color0, white);\n",
       "  --xr-background-color-row-even: var(--jp-layout-color1, white);\n",
       "  --xr-background-color-row-odd: var(--jp-layout-color2, #eeeeee);\n",
       "}\n",
       "\n",
       "html[theme=dark],\n",
       "body[data-theme=dark],\n",
       "body.vscode-dark {\n",
       "  --xr-font-color0: rgba(255, 255, 255, 1);\n",
       "  --xr-font-color2: rgba(255, 255, 255, 0.54);\n",
       "  --xr-font-color3: rgba(255, 255, 255, 0.38);\n",
       "  --xr-border-color: #1F1F1F;\n",
       "  --xr-disabled-color: #515151;\n",
       "  --xr-background-color: #111111;\n",
       "  --xr-background-color-row-even: #111111;\n",
       "  --xr-background-color-row-odd: #313131;\n",
       "}\n",
       "\n",
       ".xr-wrap {\n",
       "  display: block !important;\n",
       "  min-width: 300px;\n",
       "  max-width: 700px;\n",
       "}\n",
       "\n",
       ".xr-text-repr-fallback {\n",
       "  /* fallback to plain text repr when CSS is not injected (untrusted notebook) */\n",
       "  display: none;\n",
       "}\n",
       "\n",
       ".xr-header {\n",
       "  padding-top: 6px;\n",
       "  padding-bottom: 6px;\n",
       "  margin-bottom: 4px;\n",
       "  border-bottom: solid 1px var(--xr-border-color);\n",
       "}\n",
       "\n",
       ".xr-header > div,\n",
       ".xr-header > ul {\n",
       "  display: inline;\n",
       "  margin-top: 0;\n",
       "  margin-bottom: 0;\n",
       "}\n",
       "\n",
       ".xr-obj-type,\n",
       ".xr-array-name {\n",
       "  margin-left: 2px;\n",
       "  margin-right: 10px;\n",
       "}\n",
       "\n",
       ".xr-obj-type {\n",
       "  color: var(--xr-font-color2);\n",
       "}\n",
       "\n",
       ".xr-sections {\n",
       "  padding-left: 0 !important;\n",
       "  display: grid;\n",
       "  grid-template-columns: 150px auto auto 1fr 20px 20px;\n",
       "}\n",
       "\n",
       ".xr-section-item {\n",
       "  display: contents;\n",
       "}\n",
       "\n",
       ".xr-section-item input {\n",
       "  display: none;\n",
       "}\n",
       "\n",
       ".xr-section-item input + label {\n",
       "  color: var(--xr-disabled-color);\n",
       "}\n",
       "\n",
       ".xr-section-item input:enabled + label {\n",
       "  cursor: pointer;\n",
       "  color: var(--xr-font-color2);\n",
       "}\n",
       "\n",
       ".xr-section-item input:enabled + label:hover {\n",
       "  color: var(--xr-font-color0);\n",
       "}\n",
       "\n",
       ".xr-section-summary {\n",
       "  grid-column: 1;\n",
       "  color: var(--xr-font-color2);\n",
       "  font-weight: 500;\n",
       "}\n",
       "\n",
       ".xr-section-summary > span {\n",
       "  display: inline-block;\n",
       "  padding-left: 0.5em;\n",
       "}\n",
       "\n",
       ".xr-section-summary-in:disabled + label {\n",
       "  color: var(--xr-font-color2);\n",
       "}\n",
       "\n",
       ".xr-section-summary-in + label:before {\n",
       "  display: inline-block;\n",
       "  content: '►';\n",
       "  font-size: 11px;\n",
       "  width: 15px;\n",
       "  text-align: center;\n",
       "}\n",
       "\n",
       ".xr-section-summary-in:disabled + label:before {\n",
       "  color: var(--xr-disabled-color);\n",
       "}\n",
       "\n",
       ".xr-section-summary-in:checked + label:before {\n",
       "  content: '▼';\n",
       "}\n",
       "\n",
       ".xr-section-summary-in:checked + label > span {\n",
       "  display: none;\n",
       "}\n",
       "\n",
       ".xr-section-summary,\n",
       ".xr-section-inline-details {\n",
       "  padding-top: 4px;\n",
       "  padding-bottom: 4px;\n",
       "}\n",
       "\n",
       ".xr-section-inline-details {\n",
       "  grid-column: 2 / -1;\n",
       "}\n",
       "\n",
       ".xr-section-details {\n",
       "  display: none;\n",
       "  grid-column: 1 / -1;\n",
       "  margin-bottom: 5px;\n",
       "}\n",
       "\n",
       ".xr-section-summary-in:checked ~ .xr-section-details {\n",
       "  display: contents;\n",
       "}\n",
       "\n",
       ".xr-array-wrap {\n",
       "  grid-column: 1 / -1;\n",
       "  display: grid;\n",
       "  grid-template-columns: 20px auto;\n",
       "}\n",
       "\n",
       ".xr-array-wrap > label {\n",
       "  grid-column: 1;\n",
       "  vertical-align: top;\n",
       "}\n",
       "\n",
       ".xr-preview {\n",
       "  color: var(--xr-font-color3);\n",
       "}\n",
       "\n",
       ".xr-array-preview,\n",
       ".xr-array-data {\n",
       "  padding: 0 5px !important;\n",
       "  grid-column: 2;\n",
       "}\n",
       "\n",
       ".xr-array-data,\n",
       ".xr-array-in:checked ~ .xr-array-preview {\n",
       "  display: none;\n",
       "}\n",
       "\n",
       ".xr-array-in:checked ~ .xr-array-data,\n",
       ".xr-array-preview {\n",
       "  display: inline-block;\n",
       "}\n",
       "\n",
       ".xr-dim-list {\n",
       "  display: inline-block !important;\n",
       "  list-style: none;\n",
       "  padding: 0 !important;\n",
       "  margin: 0;\n",
       "}\n",
       "\n",
       ".xr-dim-list li {\n",
       "  display: inline-block;\n",
       "  padding: 0;\n",
       "  margin: 0;\n",
       "}\n",
       "\n",
       ".xr-dim-list:before {\n",
       "  content: '(';\n",
       "}\n",
       "\n",
       ".xr-dim-list:after {\n",
       "  content: ')';\n",
       "}\n",
       "\n",
       ".xr-dim-list li:not(:last-child):after {\n",
       "  content: ',';\n",
       "  padding-right: 5px;\n",
       "}\n",
       "\n",
       ".xr-has-index {\n",
       "  font-weight: bold;\n",
       "}\n",
       "\n",
       ".xr-var-list,\n",
       ".xr-var-item {\n",
       "  display: contents;\n",
       "}\n",
       "\n",
       ".xr-var-item > div,\n",
       ".xr-var-item label,\n",
       ".xr-var-item > .xr-var-name span {\n",
       "  background-color: var(--xr-background-color-row-even);\n",
       "  margin-bottom: 0;\n",
       "}\n",
       "\n",
       ".xr-var-item > .xr-var-name:hover span {\n",
       "  padding-right: 5px;\n",
       "}\n",
       "\n",
       ".xr-var-list > li:nth-child(odd) > div,\n",
       ".xr-var-list > li:nth-child(odd) > label,\n",
       ".xr-var-list > li:nth-child(odd) > .xr-var-name span {\n",
       "  background-color: var(--xr-background-color-row-odd);\n",
       "}\n",
       "\n",
       ".xr-var-name {\n",
       "  grid-column: 1;\n",
       "}\n",
       "\n",
       ".xr-var-dims {\n",
       "  grid-column: 2;\n",
       "}\n",
       "\n",
       ".xr-var-dtype {\n",
       "  grid-column: 3;\n",
       "  text-align: right;\n",
       "  color: var(--xr-font-color2);\n",
       "}\n",
       "\n",
       ".xr-var-preview {\n",
       "  grid-column: 4;\n",
       "}\n",
       "\n",
       ".xr-index-preview {\n",
       "  grid-column: 2 / 5;\n",
       "  color: var(--xr-font-color2);\n",
       "}\n",
       "\n",
       ".xr-var-name,\n",
       ".xr-var-dims,\n",
       ".xr-var-dtype,\n",
       ".xr-preview,\n",
       ".xr-attrs dt {\n",
       "  white-space: nowrap;\n",
       "  overflow: hidden;\n",
       "  text-overflow: ellipsis;\n",
       "  padding-right: 10px;\n",
       "}\n",
       "\n",
       ".xr-var-name:hover,\n",
       ".xr-var-dims:hover,\n",
       ".xr-var-dtype:hover,\n",
       ".xr-attrs dt:hover {\n",
       "  overflow: visible;\n",
       "  width: auto;\n",
       "  z-index: 1;\n",
       "}\n",
       "\n",
       ".xr-var-attrs,\n",
       ".xr-var-data,\n",
       ".xr-index-data {\n",
       "  display: none;\n",
       "  background-color: var(--xr-background-color) !important;\n",
       "  padding-bottom: 5px !important;\n",
       "}\n",
       "\n",
       ".xr-var-attrs-in:checked ~ .xr-var-attrs,\n",
       ".xr-var-data-in:checked ~ .xr-var-data,\n",
       ".xr-index-data-in:checked ~ .xr-index-data {\n",
       "  display: block;\n",
       "}\n",
       "\n",
       ".xr-var-data > table {\n",
       "  float: right;\n",
       "}\n",
       "\n",
       ".xr-var-name span,\n",
       ".xr-var-data,\n",
       ".xr-index-name div,\n",
       ".xr-index-data,\n",
       ".xr-attrs {\n",
       "  padding-left: 25px !important;\n",
       "}\n",
       "\n",
       ".xr-attrs,\n",
       ".xr-var-attrs,\n",
       ".xr-var-data,\n",
       ".xr-index-data {\n",
       "  grid-column: 1 / -1;\n",
       "}\n",
       "\n",
       "dl.xr-attrs {\n",
       "  padding: 0;\n",
       "  margin: 0;\n",
       "  display: grid;\n",
       "  grid-template-columns: 125px auto;\n",
       "}\n",
       "\n",
       ".xr-attrs dt,\n",
       ".xr-attrs dd {\n",
       "  padding: 0;\n",
       "  margin: 0;\n",
       "  float: left;\n",
       "  padding-right: 10px;\n",
       "  width: auto;\n",
       "}\n",
       "\n",
       ".xr-attrs dt {\n",
       "  font-weight: normal;\n",
       "  grid-column: 1;\n",
       "}\n",
       "\n",
       ".xr-attrs dt:hover span {\n",
       "  display: inline-block;\n",
       "  background: var(--xr-background-color);\n",
       "  padding-right: 10px;\n",
       "}\n",
       "\n",
       ".xr-attrs dd {\n",
       "  grid-column: 2;\n",
       "  white-space: pre-wrap;\n",
       "  word-break: break-all;\n",
       "}\n",
       "\n",
       ".xr-icon-database,\n",
       ".xr-icon-file-text2,\n",
       ".xr-no-icon {\n",
       "  display: inline-block;\n",
       "  vertical-align: middle;\n",
       "  width: 1em;\n",
       "  height: 1.5em !important;\n",
       "  stroke-width: 0;\n",
       "  stroke: currentColor;\n",
       "  fill: currentColor;\n",
       "}\n",
       "</style><pre class='xr-text-repr-fallback'>&lt;xarray.Dataset&gt;\n",
       "Dimensions:        (ocean grid point: 405386, time: 1001, latitude: 20,\n",
       "                    longitude: 180, depth: 48)\n",
       "Coordinates:\n",
       "  * longitude      (longitude) float64 -179.0 -177.0 -175.0 ... 177.0 179.0\n",
       "  * depth          (depth) float64 4.935 14.88 25.12 ... 5.253e+03 5.582e+03\n",
       "  * latitude       (latitude) int32 -79 -77 -75 -73 -71 ... -49 -47 -45 -43 -41\n",
       "Dimensions without coordinates: ocean grid point, time\n",
       "Data variables:\n",
       "    fseq           (ocean grid point, time) float64 ...\n",
       "    MASK           (latitude, longitude, depth) float64 ...\n",
       "    LAT            (latitude, longitude, depth) float64 ...\n",
       "    LON            (latitude, longitude, depth) float64 ...\n",
       "    DEPTH          (latitude, longitude, depth) float64 ...\n",
       "    VOL            (latitude, longitude, depth) float64 ...\n",
       "    AREA           (latitude, longitude, depth) float64 ...\n",
       "    mean_seq_time  (latitude, longitude, depth) float64 ...</pre><div class='xr-wrap' style='display:none'><div class='xr-header'><div class='xr-obj-type'>xarray.Dataset</div></div><ul class='xr-sections'><li class='xr-section-item'><input id='section-8dbddeb1-107f-45e6-93cd-16ba27a95fb7' class='xr-section-summary-in' type='checkbox' disabled ><label for='section-8dbddeb1-107f-45e6-93cd-16ba27a95fb7' class='xr-section-summary'  title='Expand/collapse section'>Dimensions:</label><div class='xr-section-inline-details'><ul class='xr-dim-list'><li><span>ocean grid point</span>: 405386</li><li><span>time</span>: 1001</li><li><span class='xr-has-index'>latitude</span>: 20</li><li><span class='xr-has-index'>longitude</span>: 180</li><li><span class='xr-has-index'>depth</span>: 48</li></ul></div><div class='xr-section-details'></div></li><li class='xr-section-item'><input id='section-4f2a0b93-54f7-46e5-b9ac-b829fe1fb7f4' class='xr-section-summary-in' type='checkbox'  checked><label for='section-4f2a0b93-54f7-46e5-b9ac-b829fe1fb7f4' class='xr-section-summary' >Coordinates: <span>(3)</span></label><div class='xr-section-inline-details'></div><div class='xr-section-details'><ul class='xr-var-list'><li class='xr-var-item'><div class='xr-var-name'><span class='xr-has-index'>longitude</span></div><div class='xr-var-dims'>(longitude)</div><div class='xr-var-dtype'>float64</div><div class='xr-var-preview xr-preview'>-179.0 -177.0 ... 177.0 179.0</div><input id='attrs-53d9466f-391f-4984-bc69-43b9cec1dbb3' class='xr-var-attrs-in' type='checkbox' disabled><label for='attrs-53d9466f-391f-4984-bc69-43b9cec1dbb3' title='Show/Hide attributes'><svg class='icon xr-icon-file-text2'><use xlink:href='#icon-file-text2'></use></svg></label><input id='data-0c06d35c-71c8-4f86-a61a-61f9df00fdf3' class='xr-var-data-in' type='checkbox'><label for='data-0c06d35c-71c8-4f86-a61a-61f9df00fdf3' title='Show/Hide data repr'><svg class='icon xr-icon-database'><use xlink:href='#icon-database'></use></svg></label><div class='xr-var-attrs'><dl class='xr-attrs'></dl></div><div class='xr-var-data'><pre>array([-179., -177., -175., -173., -171., -169., -167., -165., -163., -161.,\n",
       "       -159., -157., -155., -153., -151., -149., -147., -145., -143., -141.,\n",
       "       -139., -137., -135., -133., -131., -129., -127., -125., -123., -121.,\n",
       "       -119., -117., -115., -113., -111., -109., -107., -105., -103., -101.,\n",
       "        -99.,  -97.,  -95.,  -93.,  -91.,  -89.,  -87.,  -85.,  -83.,  -81.,\n",
       "        -79.,  -77.,  -75.,  -73.,  -71.,  -69.,  -67.,  -65.,  -63.,  -61.,\n",
       "        -59.,  -57.,  -55.,  -53.,  -51.,  -49.,  -47.,  -45.,  -43.,  -41.,\n",
       "        -39.,  -37.,  -35.,  -33.,  -31.,  -29.,  -27.,  -25.,  -23.,  -21.,\n",
       "        -19.,  -17.,  -15.,  -13.,  -11.,   -9.,   -7.,   -5.,   -3.,   -1.,\n",
       "          1.,    3.,    5.,    7.,    9.,   11.,   13.,   15.,   17.,   19.,\n",
       "         21.,   23.,   25.,   27.,   29.,   31.,   33.,   35.,   37.,   39.,\n",
       "         41.,   43.,   45.,   47.,   49.,   51.,   53.,   55.,   57.,   59.,\n",
       "         61.,   63.,   65.,   67.,   69.,   71.,   73.,   75.,   77.,   79.,\n",
       "         81.,   83.,   85.,   87.,   89.,   91.,   93.,   95.,   97.,   99.,\n",
       "        101.,  103.,  105.,  107.,  109.,  111.,  113.,  115.,  117.,  119.,\n",
       "        121.,  123.,  125.,  127.,  129.,  131.,  133.,  135.,  137.,  139.,\n",
       "        141.,  143.,  145.,  147.,  149.,  151.,  153.,  155.,  157.,  159.,\n",
       "        161.,  163.,  165.,  167.,  169.,  171.,  173.,  175.,  177.,  179.])</pre></div></li><li class='xr-var-item'><div class='xr-var-name'><span class='xr-has-index'>depth</span></div><div class='xr-var-dims'>(depth)</div><div class='xr-var-dtype'>float64</div><div class='xr-var-preview xr-preview'>4.935 14.88 ... 5.253e+03 5.582e+03</div><input id='attrs-1ba60ac0-a598-4ad9-8f91-aec2e33fa4b5' class='xr-var-attrs-in' type='checkbox' ><label for='attrs-1ba60ac0-a598-4ad9-8f91-aec2e33fa4b5' title='Show/Hide attributes'><svg class='icon xr-icon-file-text2'><use xlink:href='#icon-file-text2'></use></svg></label><input id='data-a887a5d5-2c64-4f31-bedc-73a80e0bc91e' class='xr-var-data-in' type='checkbox'><label for='data-a887a5d5-2c64-4f31-bedc-73a80e0bc91e' title='Show/Hide data repr'><svg class='icon xr-icon-database'><use xlink:href='#icon-database'></use></svg></label><div class='xr-var-attrs'><dl class='xr-attrs'><dt><span>description :</span></dt><dd>depth below sea surface (m)</dd></dl></div><div class='xr-var-data'><pre>array([4.934541e+00, 1.487748e+01, 2.511584e+01, 3.594505e+01, 4.766054e+01,\n",
       "       6.055772e+01, 7.493203e+01, 9.107889e+01, 1.092937e+02, 1.298719e+02,\n",
       "       1.531090e+02, 1.793003e+02, 2.087412e+02, 2.417273e+02, 2.785539e+02,\n",
       "       3.195164e+02, 3.649103e+02, 4.150310e+02, 4.701739e+02, 5.306345e+02,\n",
       "       5.967081e+02, 6.686902e+02, 7.468762e+02, 8.315616e+02, 9.230417e+02,\n",
       "       1.021612e+03, 1.127568e+03, 1.241205e+03, 1.362818e+03, 1.492704e+03,\n",
       "       1.631156e+03, 1.778472e+03, 1.934945e+03, 2.100873e+03, 2.276549e+03,\n",
       "       2.462269e+03, 2.658330e+03, 2.865026e+03, 3.082652e+03, 3.311505e+03,\n",
       "       3.551879e+03, 3.804070e+03, 4.068373e+03, 4.345085e+03, 4.634499e+03,\n",
       "       4.936913e+03, 5.252620e+03, 5.581917e+03])</pre></div></li><li class='xr-var-item'><div class='xr-var-name'><span class='xr-has-index'>latitude</span></div><div class='xr-var-dims'>(latitude)</div><div class='xr-var-dtype'>int32</div><div class='xr-var-preview xr-preview'>-79 -77 -75 -73 ... -47 -45 -43 -41</div><input id='attrs-40c33ca9-0164-4cd1-9a72-97fb0295818c' class='xr-var-attrs-in' type='checkbox' ><label for='attrs-40c33ca9-0164-4cd1-9a72-97fb0295818c' title='Show/Hide attributes'><svg class='icon xr-icon-file-text2'><use xlink:href='#icon-file-text2'></use></svg></label><input id='data-37780ae5-178d-4bf7-a4fd-20165435942c' class='xr-var-data-in' type='checkbox'><label for='data-37780ae5-178d-4bf7-a4fd-20165435942c' title='Show/Hide data repr'><svg class='icon xr-icon-database'><use xlink:href='#icon-database'></use></svg></label><div class='xr-var-attrs'><dl class='xr-attrs'><dt><span>description :</span></dt><dd>latitude (degrees north)</dd></dl></div><div class='xr-var-data'><pre>array([-79, -77, -75, -73, -71, -69, -67, -65, -63, -61, -59, -57, -55, -53,\n",
       "       -51, -49, -47, -45, -43, -41])</pre></div></li></ul></div></li><li class='xr-section-item'><input id='section-2ac3e348-383f-4e76-9fac-fba4395ddaae' class='xr-section-summary-in' type='checkbox'  checked><label for='section-2ac3e348-383f-4e76-9fac-fba4395ddaae' class='xr-section-summary' >Data variables: <span>(8)</span></label><div class='xr-section-inline-details'></div><div class='xr-section-details'><ul class='xr-var-list'><li class='xr-var-item'><div class='xr-var-name'><span>fseq</span></div><div class='xr-var-dims'>(ocean grid point, time)</div><div class='xr-var-dtype'>float64</div><div class='xr-var-preview xr-preview'>...</div><input id='attrs-0d7b9890-7b8d-42cd-80c3-217b88af3f42' class='xr-var-attrs-in' type='checkbox' ><label for='attrs-0d7b9890-7b8d-42cd-80c3-217b88af3f42' title='Show/Hide attributes'><svg class='icon xr-icon-file-text2'><use xlink:href='#icon-file-text2'></use></svg></label><input id='data-244dbe80-2674-4849-bd0b-f8ca30269be7' class='xr-var-data-in' type='checkbox'><label for='data-244dbe80-2674-4849-bd0b-f8ca30269be7' title='Show/Hide data repr'><svg class='icon xr-icon-database'><use xlink:href='#icon-database'></use></svg></label><div class='xr-var-attrs'><dl class='xr-attrs'><dt><span>description :</span></dt><dd>the fraction of carbon remaining sequestered at each ocean grid cell as a function of time since injection; dimensions (m x n) where m is the number of ocean grid cells and n is the number of years since injection</dd></dl></div><div class='xr-var-data'><pre>[405791386 values with dtype=float64]</pre></div></li><li class='xr-var-item'><div class='xr-var-name'><span>MASK</span></div><div class='xr-var-dims'>(latitude, longitude, depth)</div><div class='xr-var-dtype'>float64</div><div class='xr-var-preview xr-preview'>...</div><input id='attrs-2074173d-aec2-43df-9b54-a15f6e87de07' class='xr-var-attrs-in' type='checkbox' ><label for='attrs-2074173d-aec2-43df-9b54-a15f6e87de07' title='Show/Hide attributes'><svg class='icon xr-icon-file-text2'><use xlink:href='#icon-file-text2'></use></svg></label><input id='data-c86a10bd-798e-4e5e-b64c-80f9f5d728cb' class='xr-var-data-in' type='checkbox'><label for='data-c86a10bd-798e-4e5e-b64c-80f9f5d728cb' title='Show/Hide data repr'><svg class='icon xr-icon-database'><use xlink:href='#icon-database'></use></svg></label><div class='xr-var-attrs'><dl class='xr-attrs'><dt><span>description :</span></dt><dd>land-sea mask (1 = land, 0 = ocean)</dd></dl></div><div class='xr-var-data'><pre>[172800 values with dtype=float64]</pre></div></li><li class='xr-var-item'><div class='xr-var-name'><span>LAT</span></div><div class='xr-var-dims'>(latitude, longitude, depth)</div><div class='xr-var-dtype'>float64</div><div class='xr-var-preview xr-preview'>...</div><input id='attrs-d4a5f555-ec69-4b23-b327-2c79062b4bdd' class='xr-var-attrs-in' type='checkbox' ><label for='attrs-d4a5f555-ec69-4b23-b327-2c79062b4bdd' title='Show/Hide attributes'><svg class='icon xr-icon-file-text2'><use xlink:href='#icon-file-text2'></use></svg></label><input id='data-616abe32-89f5-43d6-9845-120cc1abfe55' class='xr-var-data-in' type='checkbox'><label for='data-616abe32-89f5-43d6-9845-120cc1abfe55' title='Show/Hide data repr'><svg class='icon xr-icon-database'><use xlink:href='#icon-database'></use></svg></label><div class='xr-var-attrs'><dl class='xr-attrs'><dt><span>description :</span></dt><dd>latitude (degrees north)</dd></dl></div><div class='xr-var-data'><pre>[172800 values with dtype=float64]</pre></div></li><li class='xr-var-item'><div class='xr-var-name'><span>LON</span></div><div class='xr-var-dims'>(latitude, longitude, depth)</div><div class='xr-var-dtype'>float64</div><div class='xr-var-preview xr-preview'>...</div><input id='attrs-dc38a79f-e808-41e2-8aec-65eeca41bfcf' class='xr-var-attrs-in' type='checkbox' ><label for='attrs-dc38a79f-e808-41e2-8aec-65eeca41bfcf' title='Show/Hide attributes'><svg class='icon xr-icon-file-text2'><use xlink:href='#icon-file-text2'></use></svg></label><input id='data-a9d82c57-cf2c-4687-bde5-00920cc26046' class='xr-var-data-in' type='checkbox'><label for='data-a9d82c57-cf2c-4687-bde5-00920cc26046' title='Show/Hide data repr'><svg class='icon xr-icon-database'><use xlink:href='#icon-database'></use></svg></label><div class='xr-var-attrs'><dl class='xr-attrs'><dt><span>description :</span></dt><dd>longitude (degrees east)</dd></dl></div><div class='xr-var-data'><pre>[172800 values with dtype=float64]</pre></div></li><li class='xr-var-item'><div class='xr-var-name'><span>DEPTH</span></div><div class='xr-var-dims'>(latitude, longitude, depth)</div><div class='xr-var-dtype'>float64</div><div class='xr-var-preview xr-preview'>...</div><input id='attrs-2831af3c-5271-4ffc-8ae6-41bc332bccd8' class='xr-var-attrs-in' type='checkbox' ><label for='attrs-2831af3c-5271-4ffc-8ae6-41bc332bccd8' title='Show/Hide attributes'><svg class='icon xr-icon-file-text2'><use xlink:href='#icon-file-text2'></use></svg></label><input id='data-0edcdf62-1426-4ae7-91c7-50a6e5baae99' class='xr-var-data-in' type='checkbox'><label for='data-0edcdf62-1426-4ae7-91c7-50a6e5baae99' title='Show/Hide data repr'><svg class='icon xr-icon-database'><use xlink:href='#icon-database'></use></svg></label><div class='xr-var-attrs'><dl class='xr-attrs'><dt><span>description :</span></dt><dd>depth below sea surface (m)</dd></dl></div><div class='xr-var-data'><pre>[172800 values with dtype=float64]</pre></div></li><li class='xr-var-item'><div class='xr-var-name'><span>VOL</span></div><div class='xr-var-dims'>(latitude, longitude, depth)</div><div class='xr-var-dtype'>float64</div><div class='xr-var-preview xr-preview'>...</div><input id='attrs-53331e5a-8b34-422f-84e1-855e3d1574e2' class='xr-var-attrs-in' type='checkbox' ><label for='attrs-53331e5a-8b34-422f-84e1-855e3d1574e2' title='Show/Hide attributes'><svg class='icon xr-icon-file-text2'><use xlink:href='#icon-file-text2'></use></svg></label><input id='data-5638a785-c758-491a-a3c8-e7eb6eb72763' class='xr-var-data-in' type='checkbox'><label for='data-5638a785-c758-491a-a3c8-e7eb6eb72763' title='Show/Hide data repr'><svg class='icon xr-icon-database'><use xlink:href='#icon-database'></use></svg></label><div class='xr-var-attrs'><dl class='xr-attrs'><dt><span>description :</span></dt><dd>grid box volume (cubic meters)</dd></dl></div><div class='xr-var-data'><pre>[172800 values with dtype=float64]</pre></div></li><li class='xr-var-item'><div class='xr-var-name'><span>AREA</span></div><div class='xr-var-dims'>(latitude, longitude, depth)</div><div class='xr-var-dtype'>float64</div><div class='xr-var-preview xr-preview'>...</div><input id='attrs-13abebc0-2fd3-4ac6-8dc8-8d5530c477b1' class='xr-var-attrs-in' type='checkbox' ><label for='attrs-13abebc0-2fd3-4ac6-8dc8-8d5530c477b1' title='Show/Hide attributes'><svg class='icon xr-icon-file-text2'><use xlink:href='#icon-file-text2'></use></svg></label><input id='data-c906428e-dd1a-44bb-a81a-5b4ebd12b82e' class='xr-var-data-in' type='checkbox'><label for='data-c906428e-dd1a-44bb-a81a-5b4ebd12b82e' title='Show/Hide data repr'><svg class='icon xr-icon-database'><use xlink:href='#icon-database'></use></svg></label><div class='xr-var-attrs'><dl class='xr-attrs'><dt><span>description :</span></dt><dd>grid box area (square meters)</dd></dl></div><div class='xr-var-data'><pre>[172800 values with dtype=float64]</pre></div></li><li class='xr-var-item'><div class='xr-var-name'><span>mean_seq_time</span></div><div class='xr-var-dims'>(latitude, longitude, depth)</div><div class='xr-var-dtype'>float64</div><div class='xr-var-preview xr-preview'>...</div><input id='attrs-30ad5360-e45c-4b75-b601-33fb8d2275e2' class='xr-var-attrs-in' type='checkbox' ><label for='attrs-30ad5360-e45c-4b75-b601-33fb8d2275e2' title='Show/Hide attributes'><svg class='icon xr-icon-file-text2'><use xlink:href='#icon-file-text2'></use></svg></label><input id='data-a0ad6755-7e75-4936-8b37-2c8960d9e122' class='xr-var-data-in' type='checkbox'><label for='data-a0ad6755-7e75-4936-8b37-2c8960d9e122' title='Show/Hide data repr'><svg class='icon xr-icon-database'><use xlink:href='#icon-database'></use></svg></label><div class='xr-var-attrs'><dl class='xr-attrs'><dt><span>description :</span></dt><dd>mean sequestration time at each ocean grid point (years)</dd></dl></div><div class='xr-var-data'><pre>[172800 values with dtype=float64]</pre></div></li></ul></div></li><li class='xr-section-item'><input id='section-c7c2b439-ac91-4af1-aef2-d0f0124ebfed' class='xr-section-summary-in' type='checkbox'  ><label for='section-c7c2b439-ac91-4af1-aef2-d0f0124ebfed' class='xr-section-summary' >Indexes: <span>(3)</span></label><div class='xr-section-inline-details'></div><div class='xr-section-details'><ul class='xr-var-list'><li class='xr-var-item'><div class='xr-index-name'><div>longitude</div></div><div class='xr-index-preview'>PandasIndex</div><div></div><input id='index-164f54a2-54fb-4a70-949b-e6f1419ae00d' class='xr-index-data-in' type='checkbox'/><label for='index-164f54a2-54fb-4a70-949b-e6f1419ae00d' title='Show/Hide index repr'><svg class='icon xr-icon-database'><use xlink:href='#icon-database'></use></svg></label><div class='xr-index-data'><pre>PandasIndex(Index([-179.0, -177.0, -175.0, -173.0, -171.0, -169.0, -167.0, -165.0, -163.0,\n",
       "       -161.0,\n",
       "       ...\n",
       "        161.0,  163.0,  165.0,  167.0,  169.0,  171.0,  173.0,  175.0,  177.0,\n",
       "        179.0],\n",
       "      dtype=&#x27;float64&#x27;, name=&#x27;longitude&#x27;, length=180))</pre></div></li><li class='xr-var-item'><div class='xr-index-name'><div>depth</div></div><div class='xr-index-preview'>PandasIndex</div><div></div><input id='index-3ec86d3d-1230-4988-b601-425b2cbeea23' class='xr-index-data-in' type='checkbox'/><label for='index-3ec86d3d-1230-4988-b601-425b2cbeea23' title='Show/Hide index repr'><svg class='icon xr-icon-database'><use xlink:href='#icon-database'></use></svg></label><div class='xr-index-data'><pre>PandasIndex(Index([ 4.934540873153541, 14.877478779541491, 25.115841326252916,\n",
       "        35.94505315361129, 47.660538901940086,  60.55772321156278,\n",
       "        74.93203072280285,  91.07888607598377, 109.29371391142902,\n",
       "       129.87193886946207, 153.10898559040638, 179.30027871458543,\n",
       "       208.74124288232272,  241.7273027339417,  278.5538829097659,\n",
       "        319.5164080501187,  364.9103027953236, 415.03099178570415,\n",
       "       470.17389966158373,  530.6344510632858,   596.708070631134,\n",
       "        668.6901830054517,  746.8762128265623,  831.5615847347894,\n",
       "        923.0417233704565, 1021.6120533738869, 1127.5679993854042,\n",
       "       1241.2049860453317,  1362.818437993993, 1492.7037798717117,\n",
       "       1631.1564363188113,  1778.471831975615, 1934.9453914824464,\n",
       "       2100.8725394796293, 2276.5487006074864, 2462.2692995063417,\n",
       "       2658.3297608165185, 2865.0255091783406, 3082.6519692321313,\n",
       "        3311.504565618214, 3551.8787229769123, 3804.0698659485497,\n",
       "       4068.3734191734493,  4345.084807291935,   4634.49945494433,\n",
       "        4936.912786770958,  5252.620227412142,  5581.917201508207],\n",
       "      dtype=&#x27;float64&#x27;, name=&#x27;depth&#x27;))</pre></div></li><li class='xr-var-item'><div class='xr-index-name'><div>latitude</div></div><div class='xr-index-preview'>PandasIndex</div><div></div><input id='index-6e7091ab-0908-476c-b6ae-19038fedc2e9' class='xr-index-data-in' type='checkbox'/><label for='index-6e7091ab-0908-476c-b6ae-19038fedc2e9' title='Show/Hide index repr'><svg class='icon xr-icon-database'><use xlink:href='#icon-database'></use></svg></label><div class='xr-index-data'><pre>PandasIndex(Index([-79, -77, -75, -73, -71, -69, -67, -65, -63, -61, -59, -57, -55, -53,\n",
       "       -51, -49, -47, -45, -43, -41],\n",
       "      dtype=&#x27;int32&#x27;, name=&#x27;latitude&#x27;))</pre></div></li></ul></div></li><li class='xr-section-item'><input id='section-4ae7686d-bc07-4b23-8d07-74c8641b3e9e' class='xr-section-summary-in' type='checkbox' disabled ><label for='section-4ae7686d-bc07-4b23-8d07-74c8641b3e9e' class='xr-section-summary'  title='Expand/collapse section'>Attributes: <span>(0)</span></label><div class='xr-section-inline-details'></div><div class='xr-section-details'><dl class='xr-attrs'></dl></div></li></ul></div></div>"
      ],
      "text/plain": [
       "<xarray.Dataset>\n",
       "Dimensions:        (ocean grid point: 405386, time: 1001, latitude: 20,\n",
       "                    longitude: 180, depth: 48)\n",
       "Coordinates:\n",
       "  * longitude      (longitude) float64 -179.0 -177.0 -175.0 ... 177.0 179.0\n",
       "  * depth          (depth) float64 4.935 14.88 25.12 ... 5.253e+03 5.582e+03\n",
       "  * latitude       (latitude) int32 -79 -77 -75 -73 -71 ... -49 -47 -45 -43 -41\n",
       "Dimensions without coordinates: ocean grid point, time\n",
       "Data variables:\n",
       "    fseq           (ocean grid point, time) float64 ...\n",
       "    MASK           (latitude, longitude, depth) float64 ...\n",
       "    LAT            (latitude, longitude, depth) float64 ...\n",
       "    LON            (latitude, longitude, depth) float64 ...\n",
       "    DEPTH          (latitude, longitude, depth) float64 ...\n",
       "    VOL            (latitude, longitude, depth) float64 ...\n",
       "    AREA           (latitude, longitude, depth) float64 ...\n",
       "    mean_seq_time  (latitude, longitude, depth) float64 ..."
      ]
     },
     "execution_count": 3,
     "metadata": {},
     "output_type": "execute_result"
    }
   ],
   "source": [
    "# To be change with local directory of the data (file too heavy to be on git)\n",
    "os.chdir('./Key_Areas_krill_carbon_sequestration/outputs_formated_data/')\n",
    "\n",
    "# selct the formated file\n",
    "OCIM = xr.open_dataset('fseq_OCIM2_48L_interpolated_SO.nc')\n",
    "OCIM "
   ]
  },
  {
   "cell_type": "markdown",
   "id": "6d96feb8",
   "metadata": {},
   "source": [
    "## Area of cells in the study zone\n",
    "\n",
    "The area of cell depends on latitude => this is stored for all cells (land and ocean) in 'AREA'\n",
    "Then, the MASK is used to keep only the cells in the ocean (1 = ocean, 0= land, or proportion of the two)"
   ]
  },
  {
   "cell_type": "code",
   "execution_count": 4,
   "id": "ec8f02dc",
   "metadata": {},
   "outputs": [
    {
     "data": {
      "text/plain": [
       "Text(0.5, 1.0, 'Map of the area of the cells')"
      ]
     },
     "execution_count": 4,
     "metadata": {},
     "output_type": "execute_result"
    },
    {
     "data": {
      "image/png": "[encoded data removed]",
      "text/plain": [
       "<Figure size 640x480 with 2 Axes>"
      ]
     },
     "metadata": {},
     "output_type": "display_data"
    }
   ],
   "source": [
    "# select area\n",
    "# note that the file is from -40°S\n",
    "area = OCIM['AREA'].isel(depth=0) # area is in square meters\n",
    "\n",
    "# Plot it\n",
    "map_proj = ccrs.SouthPolarStereo()\n",
    "\n",
    "p = area.plot(\n",
    "    transform=ccrs.PlateCarree(),  # the data's projection\n",
    "    add_colorbar = False,\n",
    "    subplot_kws={\"projection\": map_proj},\n",
    "    #cmap=\"PuBu\",\n",
    ") \n",
    "p.axes.coastlines()\n",
    "p.axes.gridlines()\n",
    "p.axes.add_feature(cfeature.LAND, color='grey')\n",
    "p.axes.add_feature(cfeature.COASTLINE)\n",
    "cb = plt.colorbar(p, label = 'm²', shrink = 0.8)\n",
    "plt.title('Map of the area of the cells')"
   ]
  },
  {
   "cell_type": "code",
   "execution_count": 5,
   "id": "8741d3db",
   "metadata": {},
   "outputs": [
    {
     "data": {
      "text/plain": [
       "Text(0.5, 1.0, 'Map of the area of the cells')"
      ]
     },
     "execution_count": 5,
     "metadata": {},
     "output_type": "execute_result"
    },
    {
     "data": {
      "image/png": "[encoded data removed]",
      "text/plain": [
       "<Figure size 640x480 with 2 Axes>"
      ]
     },
     "metadata": {},
     "output_type": "display_data"
    }
   ],
   "source": [
    "mask = OCIM['MASK'].isel(depth=20)\n",
    "\n",
    "map_proj = ccrs.SouthPolarStereo()\n",
    "\n",
    "p = mask.plot(\n",
    "    transform=ccrs.PlateCarree(),  # the data's projection\n",
    "    add_colorbar = False,\n",
    "    subplot_kws={\"projection\": map_proj},\n",
    "    #cmap=\"PuBu\",\n",
    ") \n",
    "p.axes.coastlines()\n",
    "p.axes.gridlines()\n",
    "p.axes.add_feature(cfeature.LAND, color='grey')\n",
    "p.axes.add_feature(cfeature.COASTLINE)\n",
    "cb = plt.colorbar(p, label = 'm²', shrink = 0.8)\n",
    "plt.title('Map of the area of the cells')"
   ]
  },
  {
   "cell_type": "code",
   "execution_count": 6,
   "id": "25120032",
   "metadata": {},
   "outputs": [
    {
     "data": {
      "text/html": [
       "<div>\n",
       "<style scoped>\n",
       "    .dataframe tbody tr th:only-of-type {\n",
       "        vertical-align: middle;\n",
       "    }\n",
       "\n",
       "    .dataframe tbody tr th {\n",
       "        vertical-align: top;\n",
       "    }\n",
       "\n",
       "    .dataframe thead th {\n",
       "        text-align: right;\n",
       "    }\n",
       "</style>\n",
       "<table border=\"1\" class=\"dataframe\">\n",
       "  <thead>\n",
       "    <tr style=\"text-align: right;\">\n",
       "      <th></th>\n",
       "      <th></th>\n",
       "      <th>AREA</th>\n",
       "      <th>MASK</th>\n",
       "    </tr>\n",
       "    <tr>\n",
       "      <th>latitude</th>\n",
       "      <th>longitude</th>\n",
       "      <th></th>\n",
       "      <th></th>\n",
       "    </tr>\n",
       "  </thead>\n",
       "  <tbody>\n",
       "    <tr>\n",
       "      <th rowspan=\"5\" valign=\"top\">-79</th>\n",
       "      <th>-179.0</th>\n",
       "      <td>9.332850e+09</td>\n",
       "      <td>0.061111</td>\n",
       "    </tr>\n",
       "    <tr>\n",
       "      <th>-177.0</th>\n",
       "      <td>9.332850e+09</td>\n",
       "      <td>0.061111</td>\n",
       "    </tr>\n",
       "    <tr>\n",
       "      <th>-175.0</th>\n",
       "      <td>9.332850e+09</td>\n",
       "      <td>0.061111</td>\n",
       "    </tr>\n",
       "    <tr>\n",
       "      <th>-173.0</th>\n",
       "      <td>9.332850e+09</td>\n",
       "      <td>0.061111</td>\n",
       "    </tr>\n",
       "    <tr>\n",
       "      <th>-171.0</th>\n",
       "      <td>9.332850e+09</td>\n",
       "      <td>0.061111</td>\n",
       "    </tr>\n",
       "    <tr>\n",
       "      <th>...</th>\n",
       "      <th>...</th>\n",
       "      <td>...</td>\n",
       "      <td>...</td>\n",
       "    </tr>\n",
       "    <tr>\n",
       "      <th rowspan=\"5\" valign=\"top\">-45</th>\n",
       "      <th>171.0</th>\n",
       "      <td>3.458337e+10</td>\n",
       "      <td>0.750000</td>\n",
       "    </tr>\n",
       "    <tr>\n",
       "      <th>173.0</th>\n",
       "      <td>3.458337e+10</td>\n",
       "      <td>1.000000</td>\n",
       "    </tr>\n",
       "    <tr>\n",
       "      <th>175.0</th>\n",
       "      <td>3.458337e+10</td>\n",
       "      <td>1.000000</td>\n",
       "    </tr>\n",
       "    <tr>\n",
       "      <th>177.0</th>\n",
       "      <td>3.458337e+10</td>\n",
       "      <td>1.000000</td>\n",
       "    </tr>\n",
       "    <tr>\n",
       "      <th>179.0</th>\n",
       "      <td>3.458337e+10</td>\n",
       "      <td>1.000000</td>\n",
       "    </tr>\n",
       "  </tbody>\n",
       "</table>\n",
       "<p>3240 rows × 2 columns</p>\n",
       "</div>"
      ],
      "text/plain": [
       "                            AREA      MASK\n",
       "latitude longitude                        \n",
       "-79      -179.0     9.332850e+09  0.061111\n",
       "         -177.0     9.332850e+09  0.061111\n",
       "         -175.0     9.332850e+09  0.061111\n",
       "         -173.0     9.332850e+09  0.061111\n",
       "         -171.0     9.332850e+09  0.061111\n",
       "...                          ...       ...\n",
       "-45       171.0     3.458337e+10  0.750000\n",
       "          173.0     3.458337e+10  1.000000\n",
       "          175.0     3.458337e+10  1.000000\n",
       "          177.0     3.458337e+10  1.000000\n",
       "          179.0     3.458337e+10  1.000000\n",
       "\n",
       "[3240 rows x 2 columns]"
      ]
     },
     "execution_count": 6,
     "metadata": {},
     "output_type": "execute_result"
    }
   ],
   "source": [
    "# transform area array into a dataframe and crop the file à -45°S\n",
    "area_df = OCIM[['AREA', 'MASK']].isel(depth=0).to_dataframe().drop(['depth'], axis = 1).reset_index()\n",
    "area_df = area_df[area_df['latitude'] <=-45].set_index(['latitude', 'longitude'])\n",
    "area_df # 3240 rows"
   ]
  },
  {
   "cell_type": "code",
   "execution_count": 7,
   "id": "c39a7406",
   "metadata": {},
   "outputs": [
    {
     "data": {
      "text/html": [
       "<div>\n",
       "<style scoped>\n",
       "    .dataframe tbody tr th:only-of-type {\n",
       "        vertical-align: middle;\n",
       "    }\n",
       "\n",
       "    .dataframe tbody tr th {\n",
       "        vertical-align: top;\n",
       "    }\n",
       "\n",
       "    .dataframe thead th {\n",
       "        text-align: right;\n",
       "    }\n",
       "</style>\n",
       "<table border=\"1\" class=\"dataframe\">\n",
       "  <thead>\n",
       "    <tr style=\"text-align: right;\">\n",
       "      <th></th>\n",
       "      <th></th>\n",
       "      <th>AREA</th>\n",
       "      <th>MASK</th>\n",
       "      <th>True_area</th>\n",
       "    </tr>\n",
       "    <tr>\n",
       "      <th>latitude</th>\n",
       "      <th>longitude</th>\n",
       "      <th></th>\n",
       "      <th></th>\n",
       "      <th></th>\n",
       "    </tr>\n",
       "  </thead>\n",
       "  <tbody>\n",
       "    <tr>\n",
       "      <th rowspan=\"5\" valign=\"top\">-79</th>\n",
       "      <th>-179.0</th>\n",
       "      <td>9.332850e+09</td>\n",
       "      <td>0.061111</td>\n",
       "      <td>5.703408e+08</td>\n",
       "    </tr>\n",
       "    <tr>\n",
       "      <th>-177.0</th>\n",
       "      <td>9.332850e+09</td>\n",
       "      <td>0.061111</td>\n",
       "      <td>5.703408e+08</td>\n",
       "    </tr>\n",
       "    <tr>\n",
       "      <th>-175.0</th>\n",
       "      <td>9.332850e+09</td>\n",
       "      <td>0.061111</td>\n",
       "      <td>5.703408e+08</td>\n",
       "    </tr>\n",
       "    <tr>\n",
       "      <th>-173.0</th>\n",
       "      <td>9.332850e+09</td>\n",
       "      <td>0.061111</td>\n",
       "      <td>5.703408e+08</td>\n",
       "    </tr>\n",
       "    <tr>\n",
       "      <th>-171.0</th>\n",
       "      <td>9.332850e+09</td>\n",
       "      <td>0.061111</td>\n",
       "      <td>5.703408e+08</td>\n",
       "    </tr>\n",
       "    <tr>\n",
       "      <th>...</th>\n",
       "      <th>...</th>\n",
       "      <td>...</td>\n",
       "      <td>...</td>\n",
       "      <td>...</td>\n",
       "    </tr>\n",
       "    <tr>\n",
       "      <th rowspan=\"5\" valign=\"top\">-45</th>\n",
       "      <th>171.0</th>\n",
       "      <td>3.458337e+10</td>\n",
       "      <td>0.750000</td>\n",
       "      <td>2.593752e+10</td>\n",
       "    </tr>\n",
       "    <tr>\n",
       "      <th>173.0</th>\n",
       "      <td>3.458337e+10</td>\n",
       "      <td>1.000000</td>\n",
       "      <td>3.458337e+10</td>\n",
       "    </tr>\n",
       "    <tr>\n",
       "      <th>175.0</th>\n",
       "      <td>3.458337e+10</td>\n",
       "      <td>1.000000</td>\n",
       "      <td>3.458337e+10</td>\n",
       "    </tr>\n",
       "    <tr>\n",
       "      <th>177.0</th>\n",
       "      <td>3.458337e+10</td>\n",
       "      <td>1.000000</td>\n",
       "      <td>3.458337e+10</td>\n",
       "    </tr>\n",
       "    <tr>\n",
       "      <th>179.0</th>\n",
       "      <td>3.458337e+10</td>\n",
       "      <td>1.000000</td>\n",
       "      <td>3.458337e+10</td>\n",
       "    </tr>\n",
       "  </tbody>\n",
       "</table>\n",
       "<p>3240 rows × 3 columns</p>\n",
       "</div>"
      ],
      "text/plain": [
       "                            AREA      MASK     True_area\n",
       "latitude longitude                                      \n",
       "-79      -179.0     9.332850e+09  0.061111  5.703408e+08\n",
       "         -177.0     9.332850e+09  0.061111  5.703408e+08\n",
       "         -175.0     9.332850e+09  0.061111  5.703408e+08\n",
       "         -173.0     9.332850e+09  0.061111  5.703408e+08\n",
       "         -171.0     9.332850e+09  0.061111  5.703408e+08\n",
       "...                          ...       ...           ...\n",
       "-45       171.0     3.458337e+10  0.750000  2.593752e+10\n",
       "          173.0     3.458337e+10  1.000000  3.458337e+10\n",
       "          175.0     3.458337e+10  1.000000  3.458337e+10\n",
       "          177.0     3.458337e+10  1.000000  3.458337e+10\n",
       "          179.0     3.458337e+10  1.000000  3.458337e+10\n",
       "\n",
       "[3240 rows x 3 columns]"
      ]
     },
     "execution_count": 7,
     "metadata": {},
     "output_type": "execute_result"
    }
   ],
   "source": [
    "## calculate the area of the ocean (remove land) => multiply be the proportion of the ocean in cell (= MASK : 1=ocean, 0=land, or %o each)\n",
    "area_df['True_area'] = area_df['AREA']*area_df['MASK']\n",
    "area_df # 3240  rows"
   ]
  },
  {
   "cell_type": "code",
   "execution_count": 8,
   "id": "15d9a6e8",
   "metadata": {},
   "outputs": [
    {
     "data": {
      "text/plain": [
       "62773577241920.17"
      ]
     },
     "execution_count": 8,
     "metadata": {},
     "output_type": "execute_result"
    }
   ],
   "source": [
    "## total of the area considered in the study\n",
    "# this is the total (arbitrary, following Green et al 2023) extent of the area considered \n",
    "# latitude goes from -80 to -40\n",
    "tot_area = area_df['True_area'].sum() \n",
    "tot_area #  from -45°S it is 62773577241920.17 = 6277 e+10 m² = 6277 e+4 km²   from -40 it is 75343851660068.8 m² = 7534 e+10 m² = 7534 e+4 km² "
   ]
  },
  {
   "cell_type": "markdown",
   "id": "e0606899",
   "metadata": {},
   "source": [
    "# Assign areas to the results data\n",
    "\n",
    "In order to retrieve some interresting numbers of the coverage of high krill sequestration, area that overlapp intense fishing etc.. we first have to match these area to the results datasets.\n",
    "\n",
    "To do this we use dataframes and joined them by coordinates."
   ]
  },
  {
   "cell_type": "code",
   "execution_count": 9,
   "id": "673a3116-93c1-426f-bade-bee575c06171",
   "metadata": {},
   "outputs": [],
   "source": [
    "# load results datasets\n",
    "os.chdir('./Key_Areas_krill_carbon_sequestration/output_results/')\n",
    "\n",
    "zones_krill_carbon = pd.read_csv('zones_krill_carbon.csv').set_index(['latitude', 'longitude'])\n",
    "\n",
    "#all years\n",
    "H_catch = pd.read_csv('H_catch.csv').set_index(['latitude', 'longitude'])\n",
    "\n",
    "#Period1\n",
    "H_catch_p1 = pd.read_csv('H_catch_p1.csv').set_index(['latitude', 'longitude'])\n",
    "\n",
    "#period 2\n",
    "H_catch_p2 = pd.read_csv('H_catch_p2.csv').set_index(['latitude', 'longitude'])\n",
    "\n",
    "#period 3\n",
    "H_catch_p3 = pd.read_csv('H_catch_p3.csv').set_index(['latitude', 'longitude'])"
   ]
  },
  {
   "cell_type": "markdown",
   "id": "708d1d3c",
   "metadata": {},
   "source": [
    "## calculate the area of each zones : carbon, krill, carbon&krill"
   ]
  },
  {
   "cell_type": "code",
   "execution_count": 10,
   "id": "4d3922a4",
   "metadata": {},
   "outputs": [
    {
     "data": {
      "text/html": [
       "<div>\n",
       "<style scoped>\n",
       "    .dataframe tbody tr th:only-of-type {\n",
       "        vertical-align: middle;\n",
       "    }\n",
       "\n",
       "    .dataframe tbody tr th {\n",
       "        vertical-align: top;\n",
       "    }\n",
       "\n",
       "    .dataframe thead th {\n",
       "        text-align: right;\n",
       "    }\n",
       "</style>\n",
       "<table border=\"1\" class=\"dataframe\">\n",
       "  <thead>\n",
       "    <tr style=\"text-align: right;\">\n",
       "      <th></th>\n",
       "      <th></th>\n",
       "      <th>label_grid</th>\n",
       "      <th>mean_seq_time</th>\n",
       "      <th>krill_adult_log</th>\n",
       "      <th>krill_catch_density_log</th>\n",
       "      <th>label</th>\n",
       "      <th>AREA</th>\n",
       "      <th>MASK</th>\n",
       "      <th>True_area</th>\n",
       "    </tr>\n",
       "    <tr>\n",
       "      <th>latitude</th>\n",
       "      <th>longitude</th>\n",
       "      <th></th>\n",
       "      <th></th>\n",
       "      <th></th>\n",
       "      <th></th>\n",
       "      <th></th>\n",
       "      <th></th>\n",
       "      <th></th>\n",
       "      <th></th>\n",
       "    </tr>\n",
       "  </thead>\n",
       "  <tbody>\n",
       "    <tr>\n",
       "      <th rowspan=\"5\" valign=\"top\">-75</th>\n",
       "      <th>-179</th>\n",
       "      <td>0.0</td>\n",
       "      <td>646.910548</td>\n",
       "      <td>0.92934</td>\n",
       "      <td>0.0</td>\n",
       "      <td>1.0</td>\n",
       "      <td>1.265922e+10</td>\n",
       "      <td>1.0</td>\n",
       "      <td>1.265922e+10</td>\n",
       "    </tr>\n",
       "    <tr>\n",
       "      <th>-177</th>\n",
       "      <td>0.0</td>\n",
       "      <td>601.882341</td>\n",
       "      <td>1.70806</td>\n",
       "      <td>0.0</td>\n",
       "      <td>3.0</td>\n",
       "      <td>1.265922e+10</td>\n",
       "      <td>1.0</td>\n",
       "      <td>1.265922e+10</td>\n",
       "    </tr>\n",
       "    <tr>\n",
       "      <th>-175</th>\n",
       "      <td>0.0</td>\n",
       "      <td>655.238074</td>\n",
       "      <td>1.24843</td>\n",
       "      <td>0.0</td>\n",
       "      <td>1.0</td>\n",
       "      <td>1.265922e+10</td>\n",
       "      <td>1.0</td>\n",
       "      <td>1.265922e+10</td>\n",
       "    </tr>\n",
       "    <tr>\n",
       "      <th>-173</th>\n",
       "      <td>0.0</td>\n",
       "      <td>641.075711</td>\n",
       "      <td>1.46391</td>\n",
       "      <td>0.0</td>\n",
       "      <td>1.0</td>\n",
       "      <td>1.265922e+10</td>\n",
       "      <td>1.0</td>\n",
       "      <td>1.265922e+10</td>\n",
       "    </tr>\n",
       "    <tr>\n",
       "      <th>-171</th>\n",
       "      <td>0.0</td>\n",
       "      <td>620.753036</td>\n",
       "      <td>1.66276</td>\n",
       "      <td>0.0</td>\n",
       "      <td>3.0</td>\n",
       "      <td>1.265922e+10</td>\n",
       "      <td>1.0</td>\n",
       "      <td>1.265922e+10</td>\n",
       "    </tr>\n",
       "    <tr>\n",
       "      <th>...</th>\n",
       "      <th>...</th>\n",
       "      <td>...</td>\n",
       "      <td>...</td>\n",
       "      <td>...</td>\n",
       "      <td>...</td>\n",
       "      <td>...</td>\n",
       "      <td>...</td>\n",
       "      <td>...</td>\n",
       "      <td>...</td>\n",
       "    </tr>\n",
       "    <tr>\n",
       "      <th rowspan=\"5\" valign=\"top\">-47</th>\n",
       "      <th>171</th>\n",
       "      <td>0.0</td>\n",
       "      <td>NaN</td>\n",
       "      <td>NaN</td>\n",
       "      <td>NaN</td>\n",
       "      <td>NaN</td>\n",
       "      <td>3.335547e+10</td>\n",
       "      <td>1.0</td>\n",
       "      <td>3.335547e+10</td>\n",
       "    </tr>\n",
       "    <tr>\n",
       "      <th>173</th>\n",
       "      <td>0.0</td>\n",
       "      <td>NaN</td>\n",
       "      <td>NaN</td>\n",
       "      <td>NaN</td>\n",
       "      <td>NaN</td>\n",
       "      <td>3.335547e+10</td>\n",
       "      <td>1.0</td>\n",
       "      <td>3.335547e+10</td>\n",
       "    </tr>\n",
       "    <tr>\n",
       "      <th>175</th>\n",
       "      <td>0.0</td>\n",
       "      <td>NaN</td>\n",
       "      <td>NaN</td>\n",
       "      <td>NaN</td>\n",
       "      <td>NaN</td>\n",
       "      <td>3.335547e+10</td>\n",
       "      <td>1.0</td>\n",
       "      <td>3.335547e+10</td>\n",
       "    </tr>\n",
       "    <tr>\n",
       "      <th>177</th>\n",
       "      <td>0.0</td>\n",
       "      <td>NaN</td>\n",
       "      <td>NaN</td>\n",
       "      <td>NaN</td>\n",
       "      <td>NaN</td>\n",
       "      <td>3.335547e+10</td>\n",
       "      <td>1.0</td>\n",
       "      <td>3.335547e+10</td>\n",
       "    </tr>\n",
       "    <tr>\n",
       "      <th>179</th>\n",
       "      <td>0.0</td>\n",
       "      <td>NaN</td>\n",
       "      <td>NaN</td>\n",
       "      <td>NaN</td>\n",
       "      <td>NaN</td>\n",
       "      <td>3.335547e+10</td>\n",
       "      <td>1.0</td>\n",
       "      <td>3.335547e+10</td>\n",
       "    </tr>\n",
       "  </tbody>\n",
       "</table>\n",
       "<p>2700 rows × 8 columns</p>\n",
       "</div>"
      ],
      "text/plain": [
       "                    label_grid  mean_seq_time  krill_adult_log  \\\n",
       "latitude longitude                                               \n",
       "-75      -179              0.0     646.910548          0.92934   \n",
       "         -177              0.0     601.882341          1.70806   \n",
       "         -175              0.0     655.238074          1.24843   \n",
       "         -173              0.0     641.075711          1.46391   \n",
       "         -171              0.0     620.753036          1.66276   \n",
       "...                        ...            ...              ...   \n",
       "-47       171              0.0            NaN              NaN   \n",
       "          173              0.0            NaN              NaN   \n",
       "          175              0.0            NaN              NaN   \n",
       "          177              0.0            NaN              NaN   \n",
       "          179              0.0            NaN              NaN   \n",
       "\n",
       "                    krill_catch_density_log  label          AREA  MASK  \\\n",
       "latitude longitude                                                       \n",
       "-75      -179                           0.0    1.0  1.265922e+10   1.0   \n",
       "         -177                           0.0    3.0  1.265922e+10   1.0   \n",
       "         -175                           0.0    1.0  1.265922e+10   1.0   \n",
       "         -173                           0.0    1.0  1.265922e+10   1.0   \n",
       "         -171                           0.0    3.0  1.265922e+10   1.0   \n",
       "...                                     ...    ...           ...   ...   \n",
       "-47       171                           NaN    NaN  3.335547e+10   1.0   \n",
       "          173                           NaN    NaN  3.335547e+10   1.0   \n",
       "          175                           NaN    NaN  3.335547e+10   1.0   \n",
       "          177                           NaN    NaN  3.335547e+10   1.0   \n",
       "          179                           NaN    NaN  3.335547e+10   1.0   \n",
       "\n",
       "                       True_area  \n",
       "latitude longitude                \n",
       "-75      -179       1.265922e+10  \n",
       "         -177       1.265922e+10  \n",
       "         -175       1.265922e+10  \n",
       "         -173       1.265922e+10  \n",
       "         -171       1.265922e+10  \n",
       "...                          ...  \n",
       "-47       171       3.335547e+10  \n",
       "          173       3.335547e+10  \n",
       "          175       3.335547e+10  \n",
       "          177       3.335547e+10  \n",
       "          179       3.335547e+10  \n",
       "\n",
       "[2700 rows x 8 columns]"
      ]
     },
     "execution_count": 10,
     "metadata": {},
     "output_type": "execute_result"
    }
   ],
   "source": [
    "# label = 1 are Htime seq + low/medium krill; label=2 are H krill and low/medium time seq and label=3 are H krill and H time seq\n",
    "zones_krill_carbon = zones_krill_carbon.join(other = area_df, how = 'left')\n",
    "zones_krill_carbon #2700 "
   ]
  },
  {
   "cell_type": "code",
   "execution_count": 11,
   "id": "2626cc4a",
   "metadata": {},
   "outputs": [
    {
     "data": {
      "text/plain": [
       "56365167510303.7"
      ]
     },
     "execution_count": 11,
     "metadata": {},
     "output_type": "execute_result"
    }
   ],
   "source": [
    "# total surface of the study area (here the area defined in 'zone_krill_carbon')\n",
    "# = all the ocean with latitude from -75 to -51\n",
    "tot_area_restricted = zones_krill_carbon['True_area'].sum()\n",
    "tot_area_restricted # 56365167510303.7 m² "
   ]
  },
  {
   "cell_type": "code",
   "execution_count": 12,
   "id": "2fa663fc",
   "metadata": {},
   "outputs": [],
   "source": [
    "# zone only high carbon seq but few/medium krill => label = 1\n",
    "zones_C = zones_krill_carbon[zones_krill_carbon['label'] == 1]\n",
    "area_C = zones_C['True_area'].sum() # 8743691815494.373  m²\n",
    "prop_C = area_C/tot_area_restricted # 0.1551258020105414 \n",
    "\n",
    "# zone only high krill => label = 2\n",
    "zones_K = zones_krill_carbon[zones_krill_carbon['label'] == 2]\n",
    "area_K = zones_K['True_area'].sum() # 3671315341347.0967  m²\n",
    "prop_K = area_K/tot_area_restricted # 0.06513447051631613 \n",
    "\n",
    "# zone both high carbon seq and high krill => label = 3\n",
    "zones_KC = zones_krill_carbon[zones_krill_carbon['label'] == 3]\n",
    "area_KC = zones_KC['True_area'].sum() # 7940290396993.851 m²\n",
    "prop_KC = area_KC/tot_area_restricted  # 0.14087229307962837"
   ]
  },
  {
   "cell_type": "code",
   "execution_count": 13,
   "id": "5a0739f4",
   "metadata": {},
   "outputs": [
    {
     "name": "stdout",
     "output_type": "stream",
     "text": [
      "carbon  0.1551258020105414 krill  0.06513447051631613 krill&carbon  0.14087229307962837\n"
     ]
    }
   ],
   "source": [
    "print('carbon ', prop_C , 'krill ', prop_K, 'krill&carbon ', prop_KC)"
   ]
  },
  {
   "cell_type": "code",
   "execution_count": 14,
   "id": "b224b95e-a9b2-408d-87ef-eac33e445946",
   "metadata": {},
   "outputs": [
    {
     "name": "stdout",
     "output_type": "stream",
     "text": [
      "carbon  8743691815494.373 krill  3671315341347.0967 krill&carbon  7940290396993.851\n"
     ]
    }
   ],
   "source": [
    "print('carbon ', area_C , 'krill ', area_K, 'krill&carbon ', area_KC)"
   ]
  },
  {
   "cell_type": "code",
   "execution_count": 15,
   "id": "666f7358-6451-48eb-8cce-efdf76cd552f",
   "metadata": {},
   "outputs": [],
   "source": [
    "# same but total area of High krill - High Carbon (1+3 or 2+3)\n",
    "zones_Cb = zones_krill_carbon[(zones_krill_carbon['label'] == 1) | (zones_krill_carbon['label'] == 3)]\n",
    "area_Cb = zones_Cb['True_area'].sum() # 16683982212488.227  m²\n",
    "prop_Cb = area_Cb/tot_area_restricted # 0.29599809509016983 \n",
    "\n",
    "# zone only high krill => label = 2\n",
    "zones_Kb = zones_krill_carbon[(zones_krill_carbon['label'] == 2) | (zones_krill_carbon['label'] == 3)]\n",
    "area_Kb = zones_Kb['True_area'].sum() # 11611605738340.95 m²\n",
    "prop_Kb = area_Kb/tot_area_restricted # 0.20600676359594455"
   ]
  },
  {
   "cell_type": "code",
   "execution_count": 16,
   "id": "7fa8041f-05a8-4e37-a387-3c1ca602598e",
   "metadata": {},
   "outputs": [
    {
     "name": "stdout",
     "output_type": "stream",
     "text": [
      "carbon  16683982212488.227 krill  11611605738340.95\n"
     ]
    }
   ],
   "source": [
    "print('carbon ', area_Cb , 'krill ', area_Kb)"
   ]
  },
  {
   "cell_type": "code",
   "execution_count": 17,
   "id": "88672a0a-5d7e-45c4-9e76-b62fc4d56444",
   "metadata": {},
   "outputs": [
    {
     "name": "stdout",
     "output_type": "stream",
     "text": [
      "carbon  0.29599809509016983 krill  0.20600676359594455\n"
     ]
    }
   ],
   "source": [
    "print('carbon ', prop_Cb , 'krill ', prop_Kb)"
   ]
  },
  {
   "cell_type": "code",
   "execution_count": 18,
   "id": "5bbd489c-c42a-4c50-8d10-dc622c076965",
   "metadata": {},
   "outputs": [],
   "source": [
    "# proportion of HKS in HK \n",
    "prop_hks_hk = area_KC/area_Kb # 0.683823630936366\n",
    "#proportion of HKS in HS\n",
    "prop_hks_hs = area_KC/area_Cb # 0.4759229718580266"
   ]
  },
  {
   "cell_type": "code",
   "execution_count": 19,
   "id": "5cca27fc-3718-4f20-9208-6a2ffece0733",
   "metadata": {},
   "outputs": [
    {
     "data": {
      "text/plain": [
       "0.4759229718580266"
      ]
     },
     "execution_count": 19,
     "metadata": {},
     "output_type": "execute_result"
    }
   ],
   "source": [
    "prop_hks_hs"
   ]
  },
  {
   "cell_type": "markdown",
   "id": "8c9c8817",
   "metadata": {},
   "source": [
    "## Calculate the area of the overlap with high fishing (COCA)\n",
    "\n",
    "- the area of primary fishing grounds (for each period)\n",
    "- the area of primary fishing grounds overlapping KAKS, High time seq zones (= the COCA), High krill biomass zones"
   ]
  },
  {
   "cell_type": "code",
   "execution_count": 20,
   "id": "4eb34bc4",
   "metadata": {},
   "outputs": [],
   "source": [
    "# full period area_df\n",
    "H_catch = H_catch.join(other = zones_krill_carbon, how = 'left')\n",
    "\n",
    "# period 1\n",
    "H_catch_p1 = H_catch_p1.join(other = zones_krill_carbon, how = 'left')\n",
    "\n",
    "# period 2\n",
    "H_catch_p2 = H_catch_p2.join(other = zones_krill_carbon, how = 'left')\n",
    "\n",
    "# period 3\n",
    "H_catch_p3 = H_catch_p3.join(other = zones_krill_carbon, how = 'left')"
   ]
  },
  {
   "cell_type": "markdown",
   "id": "38d7647b",
   "metadata": {},
   "source": [
    "### Percentage of the total study area"
   ]
  },
  {
   "cell_type": "code",
   "execution_count": 21,
   "id": "9fda03e3-3ae3-41e6-bcc4-30824ef34b6c",
   "metadata": {},
   "outputs": [],
   "source": [
    "# area and prop of the primary foshng grounds for the whole period (% of the study area)\n",
    "area_Hcatch = H_catch['True_area'].sum()\n",
    "prop_Hcatch = 100*area_Hcatch/tot_area_restricted\n",
    "\n",
    "# idem for period 1\n",
    "area_Hcatch_p1 = H_catch_p1['True_area'].sum()\n",
    "prop_Hcatch_p1 = 100*area_Hcatch_p1/tot_area_restricted\n",
    "\n",
    "# idem for period 2\n",
    "area_Hcatch_p2 = H_catch_p2['True_area'].sum()\n",
    "prop_Hcatch_p2 = 100*area_Hcatch_p2/tot_area_restricted\n",
    "\n",
    "# idem for period 3\n",
    "area_Hcatch_p3 = H_catch_p3['True_area'].sum()\n",
    "prop_Hcatch_p3 = 100*area_Hcatch_p3/tot_area_restricted"
   ]
  },
  {
   "cell_type": "code",
   "execution_count": 22,
   "id": "b6b2db9a-f398-4c99-aa31-862f0e7b02c1",
   "metadata": {},
   "outputs": [
    {
     "name": "stdout",
     "output_type": "stream",
     "text": [
      "2012001040096.2295 3.569582295179785 1967591702447.7595 3.4907936751684066 617834815914.3066 1.0961287674721534 514219981210.5321 0.9123009899980007\n"
     ]
    }
   ],
   "source": [
    "print( area_Hcatch, prop_Hcatch, area_Hcatch_p1, prop_Hcatch_p1, area_Hcatch_p2, prop_Hcatch_p2, area_Hcatch_p3, prop_Hcatch_p3)"
   ]
  },
  {
   "cell_type": "markdown",
   "id": "07f138fc-0407-4fff-afc2-49f3a50f6486",
   "metadata": {},
   "source": [
    "### Overlap between the high fishing grounds and the different categories (including the COCA)"
   ]
  },
  {
   "cell_type": "code",
   "execution_count": 23,
   "id": "9f6f879d-23a6-45e6-be8e-073b440a9166",
   "metadata": {},
   "outputs": [],
   "source": [
    "# Areas of the overlap berween the primary fishing grounds and each categories (zones types) + btw all the area of High time seq (= COCA)\n",
    "# all years\n",
    "overlap_HFxKAKS = H_catch[H_catch['label'] == 3]\n",
    "overlap_HFxHC = H_catch[H_catch['label'] == 1]\n",
    "overlap_HF = H_catch[H_catch['label'] == 2]\n",
    "\n",
    "COCA = H_catch[(H_catch['label'] == 1) | (H_catch['label'] == 3)]\n",
    "\n",
    "# period 1\n",
    "overlap_HFxKAKS_p1 = H_catch_p1[H_catch_p1['label'] == 3]\n",
    "overlap_HFxHC_p1 = H_catch_p1[H_catch_p1['label'] == 1]\n",
    "overlap_HF_p1 = H_catch_p1[H_catch_p1['label'] == 2]\n",
    "\n",
    "COCA_p1 = H_catch_p1[(H_catch_p1['label'] == 1) | (H_catch_p1['label'] == 3)]\n",
    "# period 2\n",
    "overlap_HFxKAKS_p2 = H_catch_p2[H_catch_p2['label'] == 3]\n",
    "overlap_HFxHC_p2 = H_catch_p2[H_catch_p2['label'] == 1]\n",
    "overlap_HF_p2 = H_catch_p2[H_catch_p2['label'] == 2]\n",
    "\n",
    "COCA_p2 = H_catch_p2[(H_catch_p2['label'] == 1) | (H_catch_p2['label'] == 3)]\n",
    "# period 3\n",
    "overlap_HFxKAKS_p3 = H_catch_p3[H_catch_p3['label'] == 3]\n",
    "overlap_HFxHC_p3 = H_catch_p3[H_catch_p3['label'] == 1]\n",
    "overlap_HF_p3 = H_catch_p3[H_catch_p3['label'] == 2]\n",
    "\n",
    "COCA_p3 = H_catch_p3[(H_catch_p3['label'] == 1) | (H_catch_p3['label'] == 3)]"
   ]
  },
  {
   "cell_type": "code",
   "execution_count": 24,
   "id": "c4eb2444-38bb-4493-86d1-3635dbfd0d61",
   "metadata": {},
   "outputs": [],
   "source": [
    "#all years\n",
    "area_overlap_HFxKAKS = overlap_HFxKAKS['True_area'].sum()\n",
    "prop_overlap_HFxKAKS = 100*area_overlap_HFxKAKS/area_KC\n",
    "\n",
    "area_overlap_HFxHC = overlap_HFxHC['True_area'].sum()\n",
    "prop_overlap_HFxHC = 100*area_overlap_HFxHC/area_C\n",
    "\n",
    "area_overlap_HF = overlap_HF['True_area'].sum()\n",
    "\n",
    "area_COCA = COCA['True_area'].sum()\n",
    "prop_COCA = 100*area_COCA/area_Cb # 7.3 %\n",
    "prop_COCA_SO = 100*area_COCA/tot_area_restricted # 2.2%\n",
    "\n",
    "#p1\n",
    "area_overlap_HFxKAKS_p1 = overlap_HFxKAKS_p1['True_area'].sum()\n",
    "prop_overlap_HFxKAKS_p1 = 100*area_overlap_HFxKAKS_p1/area_KC\n",
    "\n",
    "area_overlap_HFxHC_p1 = overlap_HFxHC_p1['True_area'].sum()\n",
    "prop_overlap_HFxHC_p1 = 100*area_overlap_HFxHC_p1/area_C\n",
    "\n",
    "area_overlap_HF_p1 = overlap_HF_p1['True_area'].sum()\n",
    "\n",
    "area_COCA_p1 = COCA_p1['True_area'].sum()\n",
    "prop_COCA_p1 = 100*area_COCA_p1/area_Cb # 7%\n",
    "prop_COCA_p1_SO = 100*area_COCA_p1/tot_area_restricted # 2.1%\n",
    "\n",
    "#p2\n",
    "area_overlap_HFxKAKS_p2 = overlap_HFxKAKS_p2['True_area'].sum()\n",
    "prop_overlap_HFxKAKS_p2 = 100*area_overlap_HFxKAKS_p2/area_KC\n",
    "\n",
    "area_overlap_HFxHC_p2 = overlap_HFxHC_p2['True_area'].sum()\n",
    "prop_overlap_HFxHC_p2 = 100*area_overlap_HFxHC_p2/area_C\n",
    "\n",
    "area_overlap_HF_p2 = overlap_HF_p2['True_area'].sum()\n",
    "\n",
    "area_COCA_p2 = COCA_p2['True_area'].sum()\n",
    "prop_COCA_p2 = 100*area_COCA_p2/area_Cb # 1.55%\n",
    "prop_COCA_p2_SO = 100*area_COCA_p2/tot_area_restricted # 0.46 %\n",
    "\n",
    "#p3\n",
    "area_overlap_HFxKAKS_p3 = overlap_HFxKAKS_p3['True_area'].sum()\n",
    "prop_overlap_HFxKAKS_p3 = 100*area_overlap_HFxKAKS_p3/area_KC\n",
    "\n",
    "area_overlap_HFxHC_p3 = overlap_HFxHC_p3['True_area'].sum()\n",
    "prop_overlap_HFxHC_p3 = 100*area_overlap_HFxHC_p3/area_C\n",
    "\n",
    "area_overlap_HF_p3 = overlap_HF_p3['True_area'].sum()\n",
    "\n",
    "area_COCA_p3 = COCA_p3['True_area'].sum()\n",
    "prop_COCA_p3 = 100*area_COCA_p3/area_Cb # 1.6%\n",
    "prop_COCA_p3_SO = 100*area_COCA_p3/tot_area_restricted # 0.47 %"
   ]
  },
  {
   "cell_type": "code",
   "execution_count": 25,
   "id": "4a38d2c6-3e07-46e7-8049-88de25dfa6fc",
   "metadata": {},
   "outputs": [
    {
     "name": "stdout",
     "output_type": "stream",
     "text": [
      "8.858715853686576 8.57907030278026 2.7059058599099046 1.8290044449055178\n",
      "5.882142061588213 5.628191335821705 0.5079014515330176 1.400293908784578\n"
     ]
    }
   ],
   "source": [
    "# prop of high fishig grounds in KAKS (orange zones)\n",
    "print(prop_overlap_HFxKAKS, prop_overlap_HFxKAKS_p1, prop_overlap_HFxKAKS_p2, prop_overlap_HFxKAKS_p3)\n",
    "# prop of high fishign grounds in blue zones (high carbon only)\n",
    "print(prop_overlap_HFxHC, prop_overlap_HFxHC_p1, prop_overlap_HFxHC_p2, prop_overlap_HFxHC_p3)"
   ]
  },
  {
   "cell_type": "code",
   "execution_count": 26,
   "id": "b926522d-9cbd-4cfd-ae4d-ab43fd5f1927",
   "metadata": {},
   "outputs": [
    {
     "name": "stdout",
     "output_type": "stream",
     "text": [
      "1217724138242.0874 1173314800593.6177 259266120794.58963 267665648194.68695\n",
      "7.298761906678379 7.03258242336996 1.5539822417247893 1.6043271012021036\n",
      "2.1604196208934963 2.0816310008821186 0.45997578335448946 0.47487776585735675\n"
     ]
    }
   ],
   "source": [
    "# nb for COCA ie. high fishing grounds in all \"high time seq\" areas (= orange + blue)\n",
    "print(area_COCA, area_COCA_p1, area_COCA_p2, area_COCA_p3) \n",
    "print(prop_COCA, prop_COCA_p1, prop_COCA_p2, prop_COCA_p3)\n",
    "print(prop_COCA_SO, prop_COCA_p1_SO, prop_COCA_p2_SO, prop_COCA_p3_SO) "
   ]
  },
  {
   "cell_type": "code",
   "execution_count": 71,
   "id": "91d05b34-be52-4b4e-af1d-0558af2b2605",
   "metadata": {},
   "outputs": [
    {
     "data": {
      "text/plain": [
       "0.2209689340519855"
      ]
     },
     "execution_count": 71,
     "metadata": {},
     "output_type": "execute_result"
    }
   ],
   "source": [
    "area_COCA_p2 / area_COCA_p1 # 22%\n",
    "area_COCA_p3 / area_COCA_p1 #  23%"
   ]
  },
  {
   "cell_type": "markdown",
   "id": "c8a220a5-8f34-4e5a-822f-b00a6891b998",
   "metadata": {},
   "source": [
    "# Calculate the area of the overlap with MPA\n",
    "\n",
    "Here calculate the proportion the overlap between krill and carbon and the MAP real or in project.\n",
    "To do this we calculate the area of the cells that are inside the different MPA and compare it with each MPA's area found in the litterature.\n",
    "This could generate big approximation as the cells are 2°x2° and are considred 'in' the MPA if the center of the cell touches the MPA or is inside."
   ]
  },
  {
   "cell_type": "code",
   "execution_count": 27,
   "id": "fd6b063b-f70f-49c0-ab3d-3212a5debb14",
   "metadata": {},
   "outputs": [
    {
     "data": {
      "text/html": [
       "<div>\n",
       "<style scoped>\n",
       "    .dataframe tbody tr th:only-of-type {\n",
       "        vertical-align: middle;\n",
       "    }\n",
       "\n",
       "    .dataframe tbody tr th {\n",
       "        vertical-align: top;\n",
       "    }\n",
       "\n",
       "    .dataframe thead th {\n",
       "        text-align: right;\n",
       "    }\n",
       "</style>\n",
       "<table border=\"1\" class=\"dataframe\">\n",
       "  <thead>\n",
       "    <tr style=\"text-align: right;\">\n",
       "      <th></th>\n",
       "      <th>GAR_Name</th>\n",
       "      <th>GAR_Size</th>\n",
       "    </tr>\n",
       "  </thead>\n",
       "  <tbody>\n",
       "    <tr>\n",
       "      <th>0</th>\n",
       "      <td>MPA RS-GPZi</td>\n",
       "      <td>1555850.51</td>\n",
       "    </tr>\n",
       "    <tr>\n",
       "      <th>1</th>\n",
       "      <td>MPA RS-GPZii</td>\n",
       "      <td>74765.21</td>\n",
       "    </tr>\n",
       "    <tr>\n",
       "      <th>2</th>\n",
       "      <td>MPA RS-GPZiii</td>\n",
       "      <td>21097.81</td>\n",
       "    </tr>\n",
       "    <tr>\n",
       "      <th>3</th>\n",
       "      <td>MPA RS-KRZ</td>\n",
       "      <td>328750.16</td>\n",
       "    </tr>\n",
       "    <tr>\n",
       "      <th>4</th>\n",
       "      <td>MPA RS-SRZ</td>\n",
       "      <td>109563.21</td>\n",
       "    </tr>\n",
       "    <tr>\n",
       "      <th>5</th>\n",
       "      <td>MPA SO-SS</td>\n",
       "      <td>93750.79</td>\n",
       "    </tr>\n",
       "  </tbody>\n",
       "</table>\n",
       "</div>"
      ],
      "text/plain": [
       "        GAR_Name    GAR_Size\n",
       "0    MPA RS-GPZi  1555850.51\n",
       "1   MPA RS-GPZii    74765.21\n",
       "2  MPA RS-GPZiii    21097.81\n",
       "3     MPA RS-KRZ   328750.16\n",
       "4     MPA RS-SRZ   109563.21\n",
       "5      MPA SO-SS    93750.79"
      ]
     },
     "execution_count": 27,
     "metadata": {},
     "output_type": "execute_result"
    }
   ],
   "source": [
    "# load results datasets\n",
    "os.chdir('./Key_Areas_krill_carbon_sequestration/output_results/')\n",
    "\n",
    "SOrkney_mpa = pd.read_csv('SOrkney_mpa.csv').set_index(['latitude', 'longitude'])\n",
    "Ross_mpa = pd.read_csv('Ross_mpa.csv').set_index(['latitude', 'longitude'])\n",
    "\n",
    "#load the mpa data\n",
    "os.chdir('./Key_Areas_krill_carbon_sequestration/data_envir/MPA')\n",
    "MPAs = gpd.read_file('mpasPolygon.shp')\n",
    "MPAs[['GAR_Name', 'GAR_Size']]"
   ]
  },
  {
   "cell_type": "code",
   "execution_count": 28,
   "id": "140a0176-6abc-4e68-a64f-3b1bc8e9a5d4",
   "metadata": {},
   "outputs": [
    {
     "data": {
      "text/html": [
       "<div>\n",
       "<style scoped>\n",
       "    .dataframe tbody tr th:only-of-type {\n",
       "        vertical-align: middle;\n",
       "    }\n",
       "\n",
       "    .dataframe tbody tr th {\n",
       "        vertical-align: top;\n",
       "    }\n",
       "\n",
       "    .dataframe thead th {\n",
       "        text-align: right;\n",
       "    }\n",
       "</style>\n",
       "<table border=\"1\" class=\"dataframe\">\n",
       "  <thead>\n",
       "    <tr style=\"text-align: right;\">\n",
       "      <th></th>\n",
       "      <th>GAR_Name</th>\n",
       "      <th>GAR_Size</th>\n",
       "    </tr>\n",
       "  </thead>\n",
       "  <tbody>\n",
       "    <tr>\n",
       "      <th>0</th>\n",
       "      <td>MPA RS-GPZi</td>\n",
       "      <td>1555850.51</td>\n",
       "    </tr>\n",
       "    <tr>\n",
       "      <th>1</th>\n",
       "      <td>MPA RS-GPZii</td>\n",
       "      <td>74765.21</td>\n",
       "    </tr>\n",
       "    <tr>\n",
       "      <th>2</th>\n",
       "      <td>MPA RS-GPZiii</td>\n",
       "      <td>21097.81</td>\n",
       "    </tr>\n",
       "    <tr>\n",
       "      <th>3</th>\n",
       "      <td>MPA RS-KRZ</td>\n",
       "      <td>328750.16</td>\n",
       "    </tr>\n",
       "    <tr>\n",
       "      <th>4</th>\n",
       "      <td>MPA RS-SRZ</td>\n",
       "      <td>109563.21</td>\n",
       "    </tr>\n",
       "    <tr>\n",
       "      <th>5</th>\n",
       "      <td>MPA SO-SS</td>\n",
       "      <td>93750.79</td>\n",
       "    </tr>\n",
       "  </tbody>\n",
       "</table>\n",
       "</div>"
      ],
      "text/plain": [
       "        GAR_Name    GAR_Size\n",
       "0    MPA RS-GPZi  1555850.51\n",
       "1   MPA RS-GPZii    74765.21\n",
       "2  MPA RS-GPZiii    21097.81\n",
       "3     MPA RS-KRZ   328750.16\n",
       "4     MPA RS-SRZ   109563.21\n",
       "5      MPA SO-SS    93750.79"
      ]
     },
     "execution_count": 28,
     "metadata": {},
     "output_type": "execute_result"
    }
   ],
   "source": [
    "MPAs[['GAR_Name', 'GAR_Size']]"
   ]
  },
  {
   "cell_type": "code",
   "execution_count": 29,
   "id": "6d086c20-ae14-48ab-8576-eee8343ef87a",
   "metadata": {},
   "outputs": [
    {
     "data": {
      "text/html": [
       "<div>\n",
       "<style scoped>\n",
       "    .dataframe tbody tr th:only-of-type {\n",
       "        vertical-align: middle;\n",
       "    }\n",
       "\n",
       "    .dataframe tbody tr th {\n",
       "        vertical-align: top;\n",
       "    }\n",
       "\n",
       "    .dataframe thead th {\n",
       "        text-align: right;\n",
       "    }\n",
       "</style>\n",
       "<table border=\"1\" class=\"dataframe\">\n",
       "  <thead>\n",
       "    <tr style=\"text-align: right;\">\n",
       "      <th></th>\n",
       "      <th></th>\n",
       "      <th>AREA</th>\n",
       "      <th>MASK</th>\n",
       "      <th>True_area</th>\n",
       "    </tr>\n",
       "    <tr>\n",
       "      <th>latitude</th>\n",
       "      <th>longitude</th>\n",
       "      <th></th>\n",
       "      <th></th>\n",
       "      <th></th>\n",
       "    </tr>\n",
       "  </thead>\n",
       "  <tbody>\n",
       "    <tr>\n",
       "      <th rowspan=\"5\" valign=\"top\">-79</th>\n",
       "      <th>-179.0</th>\n",
       "      <td>9.332850e+09</td>\n",
       "      <td>0.061111</td>\n",
       "      <td>5.703408e+08</td>\n",
       "    </tr>\n",
       "    <tr>\n",
       "      <th>-177.0</th>\n",
       "      <td>9.332850e+09</td>\n",
       "      <td>0.061111</td>\n",
       "      <td>5.703408e+08</td>\n",
       "    </tr>\n",
       "    <tr>\n",
       "      <th>-175.0</th>\n",
       "      <td>9.332850e+09</td>\n",
       "      <td>0.061111</td>\n",
       "      <td>5.703408e+08</td>\n",
       "    </tr>\n",
       "    <tr>\n",
       "      <th>-173.0</th>\n",
       "      <td>9.332850e+09</td>\n",
       "      <td>0.061111</td>\n",
       "      <td>5.703408e+08</td>\n",
       "    </tr>\n",
       "    <tr>\n",
       "      <th>-171.0</th>\n",
       "      <td>9.332850e+09</td>\n",
       "      <td>0.061111</td>\n",
       "      <td>5.703408e+08</td>\n",
       "    </tr>\n",
       "    <tr>\n",
       "      <th>...</th>\n",
       "      <th>...</th>\n",
       "      <td>...</td>\n",
       "      <td>...</td>\n",
       "      <td>...</td>\n",
       "    </tr>\n",
       "    <tr>\n",
       "      <th rowspan=\"5\" valign=\"top\">-45</th>\n",
       "      <th>171.0</th>\n",
       "      <td>3.458337e+10</td>\n",
       "      <td>0.750000</td>\n",
       "      <td>2.593752e+10</td>\n",
       "    </tr>\n",
       "    <tr>\n",
       "      <th>173.0</th>\n",
       "      <td>3.458337e+10</td>\n",
       "      <td>1.000000</td>\n",
       "      <td>3.458337e+10</td>\n",
       "    </tr>\n",
       "    <tr>\n",
       "      <th>175.0</th>\n",
       "      <td>3.458337e+10</td>\n",
       "      <td>1.000000</td>\n",
       "      <td>3.458337e+10</td>\n",
       "    </tr>\n",
       "    <tr>\n",
       "      <th>177.0</th>\n",
       "      <td>3.458337e+10</td>\n",
       "      <td>1.000000</td>\n",
       "      <td>3.458337e+10</td>\n",
       "    </tr>\n",
       "    <tr>\n",
       "      <th>179.0</th>\n",
       "      <td>3.458337e+10</td>\n",
       "      <td>1.000000</td>\n",
       "      <td>3.458337e+10</td>\n",
       "    </tr>\n",
       "  </tbody>\n",
       "</table>\n",
       "<p>3240 rows × 3 columns</p>\n",
       "</div>"
      ],
      "text/plain": [
       "                            AREA      MASK     True_area\n",
       "latitude longitude                                      \n",
       "-79      -179.0     9.332850e+09  0.061111  5.703408e+08\n",
       "         -177.0     9.332850e+09  0.061111  5.703408e+08\n",
       "         -175.0     9.332850e+09  0.061111  5.703408e+08\n",
       "         -173.0     9.332850e+09  0.061111  5.703408e+08\n",
       "         -171.0     9.332850e+09  0.061111  5.703408e+08\n",
       "...                          ...       ...           ...\n",
       "-45       171.0     3.458337e+10  0.750000  2.593752e+10\n",
       "          173.0     3.458337e+10  1.000000  3.458337e+10\n",
       "          175.0     3.458337e+10  1.000000  3.458337e+10\n",
       "          177.0     3.458337e+10  1.000000  3.458337e+10\n",
       "          179.0     3.458337e+10  1.000000  3.458337e+10\n",
       "\n",
       "[3240 rows x 3 columns]"
      ]
     },
     "execution_count": 29,
     "metadata": {},
     "output_type": "execute_result"
    }
   ],
   "source": [
    "area_df = area_df.reset_index()\n",
    "area_df = area_df[area_df['latitude'] <=-45].set_index(['latitude', 'longitude'])\n",
    "area_df #2700 "
   ]
  },
  {
   "cell_type": "code",
   "execution_count": 30,
   "id": "352ce535-344e-415b-9240-2aa7a5c10259",
   "metadata": {},
   "outputs": [],
   "source": [
    "SOrkney_mpa = SOrkney_mpa.join(other = area_df, how = 'left')\n",
    "Ross_mpa = Ross_mpa.join(other = area_df, how = 'left')"
   ]
  },
  {
   "cell_type": "code",
   "execution_count": 31,
   "id": "828c029f-01ad-4868-9b2d-18a24d55aa6d",
   "metadata": {},
   "outputs": [
    {
     "data": {
      "text/html": [
       "<div>\n",
       "<style scoped>\n",
       "    .dataframe tbody tr th:only-of-type {\n",
       "        vertical-align: middle;\n",
       "    }\n",
       "\n",
       "    .dataframe tbody tr th {\n",
       "        vertical-align: top;\n",
       "    }\n",
       "\n",
       "    .dataframe thead th {\n",
       "        text-align: right;\n",
       "    }\n",
       "</style>\n",
       "<table border=\"1\" class=\"dataframe\">\n",
       "  <thead>\n",
       "    <tr style=\"text-align: right;\">\n",
       "      <th></th>\n",
       "      <th></th>\n",
       "      <th>label</th>\n",
       "      <th>Protection_status</th>\n",
       "      <th>AREA</th>\n",
       "      <th>MASK</th>\n",
       "      <th>True_area</th>\n",
       "    </tr>\n",
       "    <tr>\n",
       "      <th>latitude</th>\n",
       "      <th>longitude</th>\n",
       "      <th></th>\n",
       "      <th></th>\n",
       "      <th></th>\n",
       "      <th></th>\n",
       "      <th></th>\n",
       "    </tr>\n",
       "  </thead>\n",
       "  <tbody>\n",
       "    <tr>\n",
       "      <th rowspan=\"4\" valign=\"top\">-63.0</th>\n",
       "      <th>-47.0</th>\n",
       "      <td>3.0</td>\n",
       "      <td>SOrkney_protected</td>\n",
       "      <td>2.220467e+10</td>\n",
       "      <td>1.0</td>\n",
       "      <td>2.220467e+10</td>\n",
       "    </tr>\n",
       "    <tr>\n",
       "      <th>-45.0</th>\n",
       "      <td>1.0</td>\n",
       "      <td>SOrkney_protected</td>\n",
       "      <td>2.220467e+10</td>\n",
       "      <td>1.0</td>\n",
       "      <td>2.220467e+10</td>\n",
       "    </tr>\n",
       "    <tr>\n",
       "      <th>-43.0</th>\n",
       "      <td>1.0</td>\n",
       "      <td>SOrkney_protected</td>\n",
       "      <td>2.220467e+10</td>\n",
       "      <td>1.0</td>\n",
       "      <td>2.220467e+10</td>\n",
       "    </tr>\n",
       "    <tr>\n",
       "      <th>-41.0</th>\n",
       "      <td>1.0</td>\n",
       "      <td>SOrkney_protected</td>\n",
       "      <td>2.220467e+10</td>\n",
       "      <td>1.0</td>\n",
       "      <td>2.220467e+10</td>\n",
       "    </tr>\n",
       "  </tbody>\n",
       "</table>\n",
       "</div>"
      ],
      "text/plain": [
       "                    label  Protection_status          AREA  MASK     True_area\n",
       "latitude longitude                                                            \n",
       "-63.0    -47.0        3.0  SOrkney_protected  2.220467e+10   1.0  2.220467e+10\n",
       "         -45.0        1.0  SOrkney_protected  2.220467e+10   1.0  2.220467e+10\n",
       "         -43.0        1.0  SOrkney_protected  2.220467e+10   1.0  2.220467e+10\n",
       "         -41.0        1.0  SOrkney_protected  2.220467e+10   1.0  2.220467e+10"
      ]
     },
     "execution_count": 31,
     "metadata": {},
     "output_type": "execute_result"
    }
   ],
   "source": [
    "SOrkney_mpa"
   ]
  },
  {
   "cell_type": "code",
   "execution_count": 32,
   "id": "0704dbe2-2e6f-4b74-9129-ae9a58675278",
   "metadata": {},
   "outputs": [
    {
     "name": "stdout",
     "output_type": "stream",
     "text": [
      "88818.67529693915 959390.1589959601\n"
     ]
    }
   ],
   "source": [
    "SOrkney_area = SOrkney_mpa['True_area'].sum()*0.000001 \n",
    "Ross_area = Ross_mpa['True_area'].sum()*0.000001 \n",
    "print(SOrkney_area, Ross_area) # 88818.67529693915 ; 959390.1589959601"
   ]
  },
  {
   "cell_type": "markdown",
   "id": "171e8e4c-b7a3-48a5-af28-110f79fa0968",
   "metadata": {},
   "source": [
    "### overlap of KAKS with MPAs"
   ]
  },
  {
   "cell_type": "code",
   "execution_count": 33,
   "id": "a900a432-7dc4-4bff-afe9-b471a87f9ef1",
   "metadata": {},
   "outputs": [
    {
     "data": {
      "text/plain": [
       "271529.7374434401"
      ]
     },
     "execution_count": 33,
     "metadata": {},
     "output_type": "execute_result"
    }
   ],
   "source": [
    "Ross_KC = Ross_mpa[Ross_mpa['label'] == 3]\n",
    "Ross_KC = Ross_KC['True_area'].sum()*0.000001\n",
    "Ross_KC # 271529.7374434401 "
   ]
  },
  {
   "cell_type": "code",
   "execution_count": 34,
   "id": "5a2fe28c-3c33-49b3-a2a9-590c226ff08f",
   "metadata": {},
   "outputs": [
    {
     "data": {
      "text/plain": [
       "22204.66882423479"
      ]
     },
     "execution_count": 34,
     "metadata": {},
     "output_type": "execute_result"
    }
   ],
   "source": [
    "SOrkney_KC = SOrkney_mpa[SOrkney_mpa['label'] == 3]\n",
    "SOrkney_KC = SOrkney_KC['True_area'].sum()*0.000001\n",
    "SOrkney_KC # 22204.66882423479"
   ]
  },
  {
   "cell_type": "code",
   "execution_count": 35,
   "id": "eacb3d96-47a1-4623-bd50-815e91aeaeb9",
   "metadata": {},
   "outputs": [],
   "source": [
    "# calculate the proportion of high K and C in the MPA\n",
    "prop_Sorkney = 100*SOrkney_KC/MPAs['GAR_Size'][5] # 23.68 % \n",
    "prop_Ross = 100*Ross_KC/(MPAs['GAR_Size'][0] + MPAs['GAR_Size'][1] + MPAs['GAR_Size'][2] + MPAs['GAR_Size'][4]) # 15.4 %"
   ]
  },
  {
   "cell_type": "code",
   "execution_count": 36,
   "id": "08619f06-a395-404d-9e20-9de3d80f9462",
   "metadata": {},
   "outputs": [
    {
     "data": {
      "text/plain": [
       "15.416642443335743"
      ]
     },
     "execution_count": 36,
     "metadata": {},
     "output_type": "execute_result"
    }
   ],
   "source": [
    "prop_Sorkney\n",
    "prop_Ross"
   ]
  },
  {
   "cell_type": "markdown",
   "id": "d0e0c9fb-84df-4089-97b7-2499a1438598",
   "metadata": {},
   "source": [
    "#### ovelrap of all high time seq areas with MPAs"
   ]
  },
  {
   "cell_type": "code",
   "execution_count": 37,
   "id": "f6e12a94-d997-425a-973b-169f39fc89b8",
   "metadata": {},
   "outputs": [
    {
     "data": {
      "text/plain": [
       "742283.6745683267"
      ]
     },
     "execution_count": 37,
     "metadata": {},
     "output_type": "execute_result"
    }
   ],
   "source": [
    "Ross_allC = Ross_mpa[(Ross_mpa['label'] == 3) | (Ross_mpa['label'] == 1)]\n",
    "Ross_allC = Ross_allC['True_area'].sum()*0.000001\n",
    "Ross_allC # 742283.6745683267"
   ]
  },
  {
   "cell_type": "code",
   "execution_count": 38,
   "id": "c074fe26-cdc7-483c-8b15-5f1046858fdc",
   "metadata": {},
   "outputs": [
    {
     "data": {
      "text/plain": [
       "88818.67529693915"
      ]
     },
     "execution_count": 38,
     "metadata": {},
     "output_type": "execute_result"
    }
   ],
   "source": [
    "SOrkney_allC = SOrkney_mpa[(SOrkney_mpa['label'] == 3) | (SOrkney_mpa['label'] == 1)]\n",
    "SOrkney_allC = SOrkney_allC['True_area'].sum()*0.000001\n",
    "SOrkney_allC # 88818.67529693915"
   ]
  },
  {
   "cell_type": "code",
   "execution_count": 39,
   "id": "4a99fdcd-2f81-4c11-bea5-546c0d953774",
   "metadata": {},
   "outputs": [],
   "source": [
    "SOrkney_allC = SOrkney_mpa[(SOrkney_mpa['label'] == 3) | (SOrkney_mpa['label'] == 1)]\n",
    "SOrkney_allC = SOrkney_allC['True_area'].sum()*0.000001\n",
    "SOrkney_allC # 88818.67529693915"
   ]
  },
  {
   "cell_type": "code",
   "execution_count": 39,
   "id": "90a6688f",
   "metadata": {},
   "outputs": [],
   "source": [
    "# calculate the proportion of high C tome seq in the MPA\n",
    "prop_SorkneyC = 100*SOrkney_allC/MPAs['GAR_Size'][5] # 94.7 % \n",
    "prop_RossC = 100*Ross_allC/(MPAs['GAR_Size'][0] + MPAs['GAR_Size'][1] + MPAs['GAR_Size'][2] + MPAs['GAR_Size'][4]) # 42.1 %"
   ]
  },
  {
   "cell_type": "code",
   "execution_count": 40,
   "id": "204c2105-02a4-482e-8794-a5f77dc08bd0",
   "metadata": {},
   "outputs": [
    {
     "data": {
      "text/plain": [
       "42.1446362011416"
      ]
     },
     "execution_count": 40,
     "metadata": {},
     "output_type": "execute_result"
    }
   ],
   "source": [
    "prop_SorkneyC\n",
    "prop_RossC"
   ]
  },
  {
   "cell_type": "markdown",
   "id": "a066199e-8037-4602-a517-77011d3b07d8",
   "metadata": {},
   "source": [
    "#### Blue zones with MPAs"
   ]
  },
  {
   "cell_type": "code",
   "execution_count": 63,
   "id": "d55097a0-0b2b-4a37-a5d5-0c8b8a8da627",
   "metadata": {},
   "outputs": [
    {
     "data": {
      "text/plain": [
       "66614.00647270438"
      ]
     },
     "execution_count": 63,
     "metadata": {},
     "output_type": "execute_result"
    }
   ],
   "source": [
    "Ross_HC = Ross_mpa[Ross_mpa['label'] == 1]\n",
    "Ross_HC = Ross_HC['True_area'].sum()*0.000001\n",
    "Ross_HC # 470753.9371248865\n",
    "\n",
    "SOrkney_HC = SOrkney_mpa[SOrkney_mpa['label'] == 1]\n",
    "SOrkney_HC = SOrkney_HC['True_area'].sum()*0.000001\n",
    "SOrkney_HC # 66614.00647270438"
   ]
  },
  {
   "cell_type": "code",
   "execution_count": 65,
   "id": "8a4c9cd9-9c37-45d9-a479-342d081971d0",
   "metadata": {},
   "outputs": [],
   "source": [
    "# calculate the proportion of high C tome seq in the MPA\n",
    "prop_SorkneyHC = 100*SOrkney_HC/MPAs['GAR_Size'][5] # 71.1 % \n",
    "prop_RossHC = 100*Ross_HC/(MPAs['GAR_Size'][0] + MPAs['GAR_Size'][1] + MPAs['GAR_Size'][2] + MPAs['GAR_Size'][4]) # 26.7 %"
   ]
  },
  {
   "cell_type": "code",
   "execution_count": 67,
   "id": "b70c9424-df94-4caa-b1df-dce446d9511a",
   "metadata": {},
   "outputs": [
    {
     "data": {
      "text/plain": [
       "71.05434148630042"
      ]
     },
     "execution_count": 67,
     "metadata": {},
     "output_type": "execute_result"
    }
   ],
   "source": [
    "prop_SorkneyHC\n",
    "prop_RossHC"
   ]
  },
  {
   "cell_type": "markdown",
   "id": "2dd14a22-a7dd-4033-baa2-8c2e016d7f99",
   "metadata": {},
   "source": [
    "### How much of the K&C zones (orange zones) is under protection ? "
   ]
  },
  {
   "cell_type": "code",
   "execution_count": 41,
   "id": "81194b19-5963-49bc-9b46-e3add23ce903",
   "metadata": {},
   "outputs": [
    {
     "data": {
      "text/plain": [
       "3.69929047404716"
      ]
     },
     "execution_count": 41,
     "metadata": {},
     "output_type": "execute_result"
    }
   ],
   "source": [
    "KC_prop_protected = (100*(Ross_KC + SOrkney_KC))/(area_KC*0.000001)\n",
    "KC_prop_protected # 3.7 %"
   ]
  },
  {
   "cell_type": "code",
   "execution_count": 42,
   "id": "c2a88d7c-b77b-43bd-8b28-7c71cba8fe22",
   "metadata": {},
   "outputs": [
    {
     "data": {
      "text/plain": [
       "3.1247609433220154"
      ]
     },
     "execution_count": 42,
     "metadata": {},
     "output_type": "execute_result"
    }
   ],
   "source": [
    "# compared to the protection level pf the SO in general (taken from the restricted zone)\n",
    "prop_protection = 100*(MPAs['GAR_Size'][0] +MPAs['GAR_Size'][1] + MPAs['GAR_Size'][2] + MPAs['GAR_Size'][4])/(tot_area_restricted*0.000001)\n",
    "prop_protection # 3.1%"
   ]
  },
  {
   "cell_type": "markdown",
   "id": "80018c5c-0a50-47d8-8724-808661fd356e",
   "metadata": {},
   "source": [
    "### How much of the hig time seq zones (blue zones or blue + orange) is under protection ? "
   ]
  },
  {
   "cell_type": "code",
   "execution_count": 43,
   "id": "a91ef0d7-0bf5-42b4-b895-e1ff9a6c06ba",
   "metadata": {},
   "outputs": [
    {
     "data": {
      "text/plain": [
       "4.981438719367445"
      ]
     },
     "execution_count": 43,
     "metadata": {},
     "output_type": "execute_result"
    }
   ],
   "source": [
    "# all H seq zones (blue + orange)\n",
    "KC_prop_protectedC = (100*(Ross_allC + SOrkney_allC))/(area_Cb*0.000001)\n",
    "KC_prop_protectedC # 4.98 %"
   ]
  },
  {
   "cell_type": "code",
   "execution_count": 68,
   "id": "aa47c845-91d4-4e06-9ed9-0e038ff96a22",
   "metadata": {},
   "outputs": [
    {
     "data": {
      "text/plain": [
       "6.145778636037252"
      ]
     },
     "execution_count": 68,
     "metadata": {},
     "output_type": "execute_result"
    }
   ],
   "source": [
    "# only bleu zones\n",
    "HC_prop_protected = (100*(Ross_HC + SOrkney_HC))/(area_C*0.000001)\n",
    "HC_prop_protected # 6.1 %"
   ]
  },
  {
   "cell_type": "markdown",
   "id": "66103ed2-24de-41d2-ae03-b5d524c2881e",
   "metadata": {},
   "source": [
    "# how much would be protected with the Weddell Sea MPA as proposed"
   ]
  },
  {
   "cell_type": "code",
   "execution_count": 44,
   "id": "30e4c251-b318-4536-9c7d-52e2f8266ad9",
   "metadata": {},
   "outputs": [
    {
     "data": {
      "text/html": [
       "<div>\n",
       "<style scoped>\n",
       "    .dataframe tbody tr th:only-of-type {\n",
       "        vertical-align: middle;\n",
       "    }\n",
       "\n",
       "    .dataframe tbody tr th {\n",
       "        vertical-align: top;\n",
       "    }\n",
       "\n",
       "    .dataframe thead th {\n",
       "        text-align: right;\n",
       "    }\n",
       "</style>\n",
       "<table border=\"1\" class=\"dataframe\">\n",
       "  <thead>\n",
       "    <tr style=\"text-align: right;\">\n",
       "      <th></th>\n",
       "      <th></th>\n",
       "      <th>label</th>\n",
       "      <th>Protection_status</th>\n",
       "    </tr>\n",
       "    <tr>\n",
       "      <th>latitude</th>\n",
       "      <th>longitude</th>\n",
       "      <th></th>\n",
       "      <th></th>\n",
       "    </tr>\n",
       "  </thead>\n",
       "  <tbody>\n",
       "    <tr>\n",
       "      <th rowspan=\"5\" valign=\"top\">-65.0</th>\n",
       "      <th>-59.0</th>\n",
       "      <td>0.0</td>\n",
       "      <td>Weddell_protected</td>\n",
       "    </tr>\n",
       "    <tr>\n",
       "      <th>-57.0</th>\n",
       "      <td>0.0</td>\n",
       "      <td>Weddell_protected</td>\n",
       "    </tr>\n",
       "    <tr>\n",
       "      <th>-55.0</th>\n",
       "      <td>0.0</td>\n",
       "      <td>Weddell_protected</td>\n",
       "    </tr>\n",
       "    <tr>\n",
       "      <th>-53.0</th>\n",
       "      <td>1.0</td>\n",
       "      <td>Weddell_protected</td>\n",
       "    </tr>\n",
       "    <tr>\n",
       "      <th>-51.0</th>\n",
       "      <td>1.0</td>\n",
       "      <td>Weddell_protected</td>\n",
       "    </tr>\n",
       "    <tr>\n",
       "      <th>...</th>\n",
       "      <th>...</th>\n",
       "      <td>...</td>\n",
       "      <td>...</td>\n",
       "    </tr>\n",
       "    <tr>\n",
       "      <th rowspan=\"5\" valign=\"top\">-75.0</th>\n",
       "      <th>-35.0</th>\n",
       "      <td>3.0</td>\n",
       "      <td>Weddell_protected</td>\n",
       "    </tr>\n",
       "    <tr>\n",
       "      <th>-33.0</th>\n",
       "      <td>3.0</td>\n",
       "      <td>Weddell_protected</td>\n",
       "    </tr>\n",
       "    <tr>\n",
       "      <th>-31.0</th>\n",
       "      <td>3.0</td>\n",
       "      <td>Weddell_protected</td>\n",
       "    </tr>\n",
       "    <tr>\n",
       "      <th>-29.0</th>\n",
       "      <td>3.0</td>\n",
       "      <td>Weddell_protected</td>\n",
       "    </tr>\n",
       "    <tr>\n",
       "      <th>-27.0</th>\n",
       "      <td>2.0</td>\n",
       "      <td>Weddell_protected</td>\n",
       "    </tr>\n",
       "  </tbody>\n",
       "</table>\n",
       "<p>83 rows × 2 columns</p>\n",
       "</div>"
      ],
      "text/plain": [
       "                    label  Protection_status\n",
       "latitude longitude                          \n",
       "-65.0    -59.0        0.0  Weddell_protected\n",
       "         -57.0        0.0  Weddell_protected\n",
       "         -55.0        0.0  Weddell_protected\n",
       "         -53.0        1.0  Weddell_protected\n",
       "         -51.0        1.0  Weddell_protected\n",
       "...                   ...                ...\n",
       "-75.0    -35.0        3.0  Weddell_protected\n",
       "         -33.0        3.0  Weddell_protected\n",
       "         -31.0        3.0  Weddell_protected\n",
       "         -29.0        3.0  Weddell_protected\n",
       "         -27.0        2.0  Weddell_protected\n",
       "\n",
       "[83 rows x 2 columns]"
      ]
     },
     "execution_count": 44,
     "metadata": {},
     "output_type": "execute_result"
    }
   ],
   "source": [
    "# load results datasets\n",
    "os.chdir('./Key_Areas_krill_carbon_sequestration/output_results/')\n",
    "\n",
    "Weddell_mpa = pd.read_csv('Weddell_mpa.csv').set_index(['latitude', 'longitude'])\n",
    "Weddell_mpa # 83 rows"
   ]
  },
  {
   "cell_type": "code",
   "execution_count": 45,
   "id": "b1312286-2f4e-46ff-8d52-ab3c3f604f16",
   "metadata": {},
   "outputs": [
    {
     "data": {
      "text/html": [
       "<div>\n",
       "<style scoped>\n",
       "    .dataframe tbody tr th:only-of-type {\n",
       "        vertical-align: middle;\n",
       "    }\n",
       "\n",
       "    .dataframe tbody tr th {\n",
       "        vertical-align: top;\n",
       "    }\n",
       "\n",
       "    .dataframe thead th {\n",
       "        text-align: right;\n",
       "    }\n",
       "</style>\n",
       "<table border=\"1\" class=\"dataframe\">\n",
       "  <thead>\n",
       "    <tr style=\"text-align: right;\">\n",
       "      <th></th>\n",
       "      <th></th>\n",
       "      <th>label</th>\n",
       "      <th>Protection_status</th>\n",
       "      <th>AREA</th>\n",
       "      <th>MASK</th>\n",
       "      <th>True_area</th>\n",
       "    </tr>\n",
       "    <tr>\n",
       "      <th>latitude</th>\n",
       "      <th>longitude</th>\n",
       "      <th></th>\n",
       "      <th></th>\n",
       "      <th></th>\n",
       "      <th></th>\n",
       "      <th></th>\n",
       "    </tr>\n",
       "  </thead>\n",
       "  <tbody>\n",
       "    <tr>\n",
       "      <th rowspan=\"5\" valign=\"top\">-65.0</th>\n",
       "      <th>-59.0</th>\n",
       "      <td>0.0</td>\n",
       "      <td>Weddell_protected</td>\n",
       "      <td>2.067035e+10</td>\n",
       "      <td>1.0</td>\n",
       "      <td>2.067035e+10</td>\n",
       "    </tr>\n",
       "    <tr>\n",
       "      <th>-57.0</th>\n",
       "      <td>0.0</td>\n",
       "      <td>Weddell_protected</td>\n",
       "      <td>2.067035e+10</td>\n",
       "      <td>1.0</td>\n",
       "      <td>2.067035e+10</td>\n",
       "    </tr>\n",
       "    <tr>\n",
       "      <th>-55.0</th>\n",
       "      <td>0.0</td>\n",
       "      <td>Weddell_protected</td>\n",
       "      <td>2.067035e+10</td>\n",
       "      <td>1.0</td>\n",
       "      <td>2.067035e+10</td>\n",
       "    </tr>\n",
       "    <tr>\n",
       "      <th>-53.0</th>\n",
       "      <td>1.0</td>\n",
       "      <td>Weddell_protected</td>\n",
       "      <td>2.067035e+10</td>\n",
       "      <td>1.0</td>\n",
       "      <td>2.067035e+10</td>\n",
       "    </tr>\n",
       "    <tr>\n",
       "      <th>-51.0</th>\n",
       "      <td>1.0</td>\n",
       "      <td>Weddell_protected</td>\n",
       "      <td>2.067035e+10</td>\n",
       "      <td>1.0</td>\n",
       "      <td>2.067035e+10</td>\n",
       "    </tr>\n",
       "    <tr>\n",
       "      <th>...</th>\n",
       "      <th>...</th>\n",
       "      <td>...</td>\n",
       "      <td>...</td>\n",
       "      <td>...</td>\n",
       "      <td>...</td>\n",
       "      <td>...</td>\n",
       "    </tr>\n",
       "    <tr>\n",
       "      <th rowspan=\"5\" valign=\"top\">-75.0</th>\n",
       "      <th>-35.0</th>\n",
       "      <td>3.0</td>\n",
       "      <td>Weddell_protected</td>\n",
       "      <td>1.265922e+10</td>\n",
       "      <td>1.0</td>\n",
       "      <td>1.265922e+10</td>\n",
       "    </tr>\n",
       "    <tr>\n",
       "      <th>-33.0</th>\n",
       "      <td>3.0</td>\n",
       "      <td>Weddell_protected</td>\n",
       "      <td>1.265922e+10</td>\n",
       "      <td>1.0</td>\n",
       "      <td>1.265922e+10</td>\n",
       "    </tr>\n",
       "    <tr>\n",
       "      <th>-31.0</th>\n",
       "      <td>3.0</td>\n",
       "      <td>Weddell_protected</td>\n",
       "      <td>1.265922e+10</td>\n",
       "      <td>1.0</td>\n",
       "      <td>1.265922e+10</td>\n",
       "    </tr>\n",
       "    <tr>\n",
       "      <th>-29.0</th>\n",
       "      <td>3.0</td>\n",
       "      <td>Weddell_protected</td>\n",
       "      <td>1.265922e+10</td>\n",
       "      <td>1.0</td>\n",
       "      <td>1.265922e+10</td>\n",
       "    </tr>\n",
       "    <tr>\n",
       "      <th>-27.0</th>\n",
       "      <td>2.0</td>\n",
       "      <td>Weddell_protected</td>\n",
       "      <td>1.265922e+10</td>\n",
       "      <td>1.0</td>\n",
       "      <td>1.265922e+10</td>\n",
       "    </tr>\n",
       "  </tbody>\n",
       "</table>\n",
       "<p>83 rows × 5 columns</p>\n",
       "</div>"
      ],
      "text/plain": [
       "                    label  Protection_status          AREA  MASK     True_area\n",
       "latitude longitude                                                            \n",
       "-65.0    -59.0        0.0  Weddell_protected  2.067035e+10   1.0  2.067035e+10\n",
       "         -57.0        0.0  Weddell_protected  2.067035e+10   1.0  2.067035e+10\n",
       "         -55.0        0.0  Weddell_protected  2.067035e+10   1.0  2.067035e+10\n",
       "         -53.0        1.0  Weddell_protected  2.067035e+10   1.0  2.067035e+10\n",
       "         -51.0        1.0  Weddell_protected  2.067035e+10   1.0  2.067035e+10\n",
       "...                   ...                ...           ...   ...           ...\n",
       "-75.0    -35.0        3.0  Weddell_protected  1.265922e+10   1.0  1.265922e+10\n",
       "         -33.0        3.0  Weddell_protected  1.265922e+10   1.0  1.265922e+10\n",
       "         -31.0        3.0  Weddell_protected  1.265922e+10   1.0  1.265922e+10\n",
       "         -29.0        3.0  Weddell_protected  1.265922e+10   1.0  1.265922e+10\n",
       "         -27.0        2.0  Weddell_protected  1.265922e+10   1.0  1.265922e+10\n",
       "\n",
       "[83 rows x 5 columns]"
      ]
     },
     "execution_count": 45,
     "metadata": {},
     "output_type": "execute_result"
    }
   ],
   "source": [
    "# Add the areas to the Weddell sea mpa cells\n",
    "Weddell_mpa = Weddell_mpa.join(other = area_df, how = 'left')\n",
    "Weddell_mpa"
   ]
  },
  {
   "cell_type": "code",
   "execution_count": 46,
   "id": "7113cb5a-9639-47ca-a057-1c578d1037f5",
   "metadata": {},
   "outputs": [
    {
     "data": {
      "text/plain": [
       "0.6678016954136213"
      ]
     },
     "execution_count": 46,
     "metadata": {},
     "output_type": "execute_result"
    }
   ],
   "source": [
    "area_KAKS_Weddell = Weddell_mpa[Weddell_mpa['label'] == 3]['True_area'].sum()# *0.000001\n",
    "tot_area_Weddell = Weddell_mpa['True_area'].sum()\n",
    "prop_KAKS = area_KAKS_Weddell/tot_area_Weddell\n",
    "prop_KAKS # 0.668 "
   ]
  },
  {
   "cell_type": "code",
   "execution_count": 47,
   "id": "e60ccf10-8f11-4f88-aba0-7aca6e2a53db",
   "metadata": {},
   "outputs": [
    {
     "data": {
      "text/plain": [
       "0.16264250600928978"
      ]
     },
     "execution_count": 47,
     "metadata": {},
     "output_type": "execute_result"
    }
   ],
   "source": [
    "area_HS_Weddell = Weddell_mpa[Weddell_mpa['label'] == 1]['True_area'].sum()# *0.000001\n",
    "tot_area_Weddell = Weddell_mpa['True_area'].sum()\n",
    "prop_HS = area_HS_Weddell/tot_area_Weddell\n",
    "prop_HS # 0.16"
   ]
  },
  {
   "cell_type": "code",
   "execution_count": 48,
   "id": "7cabc05b-d644-4abd-916c-98b2afe7fb2c",
   "metadata": {},
   "outputs": [
    {
     "data": {
      "text/plain": [
       "0.08530053276216246"
      ]
     },
     "execution_count": 48,
     "metadata": {},
     "output_type": "execute_result"
    }
   ],
   "source": [
    "area_HK_Weddell = Weddell_mpa[Weddell_mpa['label'] == 2]['True_area'].sum()# *0.000001\n",
    "tot_area_Weddell = Weddell_mpa['True_area'].sum()\n",
    "prop_HK = area_HK_Weddell/tot_area_Weddell\n",
    "prop_HK # 0.085"
   ]
  },
  {
   "cell_type": "code",
   "execution_count": 49,
   "id": "125fcf8a-676a-4e9c-94e6-5a7e4709b58b",
   "metadata": {},
   "outputs": [
    {
     "data": {
      "text/plain": [
       "0.08425526581492647"
      ]
     },
     "execution_count": 49,
     "metadata": {},
     "output_type": "execute_result"
    }
   ],
   "source": [
    "area_0_Weddell = Weddell_mpa[Weddell_mpa['label'] == 0]['True_area'].sum()# *0.000001\n",
    "tot_area_Weddell = Weddell_mpa['True_area'].sum()\n",
    "prop_0 = area_0_Weddell/tot_area_Weddell\n",
    "prop_0 # 0.084"
   ]
  },
  {
   "cell_type": "code",
   "execution_count": 55,
   "id": "a25551d6-33ce-43a7-8ea5-47b43965e7ec",
   "metadata": {},
   "outputs": [
    {
     "data": {
      "text/plain": [
       "11.43258862368163"
      ]
     },
     "execution_count": 55,
     "metadata": {},
     "output_type": "execute_result"
    }
   ],
   "source": [
    "# how much of the KAKS this MPA would protect ?\n",
    "KC_prop_protected_by_weddell = (100*(area_KAKS_Weddell))/(area_KC)\n",
    "KC_prop_protected_by_weddell # 2.8 %"
   ]
  },
  {
   "cell_type": "code",
   "execution_count": 56,
   "id": "a247445c-e08e-4f3d-9f84-df06a4050269",
   "metadata": {},
   "outputs": [
    {
     "data": {
      "text/plain": [
       "1.3251583715127055"
      ]
     },
     "execution_count": 56,
     "metadata": {},
     "output_type": "execute_result"
    }
   ],
   "source": [
    "# how much of the Hseq this MPA would protect ?\n",
    "C_prop_protected_by_weddell = (100*(area_HS_Weddell))/(area_Cb)\n",
    "C_prop_protected_by_weddell # 1.3 %"
   ]
  },
  {
   "cell_type": "code",
   "execution_count": 57,
   "id": "5db35300-d8b8-4b5e-b74f-9ea32caa224f",
   "metadata": {},
   "outputs": [
    {
     "data": {
      "text/plain": [
       "0.9986030948060249"
      ]
     },
     "execution_count": 57,
     "metadata": {},
     "output_type": "execute_result"
    }
   ],
   "source": [
    "# how much of the Hkrill this MPA would protect ?\n",
    "K_prop_protected_by_weddell = (100*(area_HK_Weddell))/(area_Kb)\n",
    "K_prop_protected_by_weddell # 1 %"
   ]
  },
  {
   "cell_type": "markdown",
   "id": "6f8ae684-2ece-4214-8d4e-6bcfdbfdc79a",
   "metadata": {},
   "source": [
    "### To what protection % the KAKS would reach with the Weddell Sea MPA + for H time seq "
   ]
  },
  {
   "cell_type": "code",
   "execution_count": 84,
   "id": "fb931a68-fc8a-44cd-b95c-de2c1cc7fec0",
   "metadata": {},
   "outputs": [
    {
     "data": {
      "text/plain": [
       "15.131879097728792"
      ]
     },
     "execution_count": 84,
     "metadata": {},
     "output_type": "execute_result"
    }
   ],
   "source": [
    "KC_prop_protected_with_weddell = (100*(Ross_KC + SOrkney_KC + area_KAKS_Weddell*0.000001))/(area_KC*0.000001)\n",
    "KC_prop_protected_with_weddell # 15.1 %"
   ]
  },
  {
   "cell_type": "code",
   "execution_count": 60,
   "id": "2e9dfb5b-6275-47a8-81cd-ae165a15c455",
   "metadata": {},
   "outputs": [
    {
     "data": {
      "text/plain": [
       "6.30659709088015"
      ]
     },
     "execution_count": 60,
     "metadata": {},
     "output_type": "execute_result"
    }
   ],
   "source": [
    "C_prop_protected_with_weddell = (100*(Ross_allC + SOrkney_allC + area_HS_Weddell*0.000001))/(area_Cb*0.000001)\n",
    "C_prop_protected_with_weddell # 6.3 %"
   ]
  },
  {
   "cell_type": "markdown",
   "id": "cb8edd94-f85b-4d85-a5c2-e3094a48df88",
   "metadata": {},
   "source": [
    "## What is the areas of the catch on each period\n",
    "To see the concentration of catches: total areas fished in each period"
   ]
  },
  {
   "cell_type": "code",
   "execution_count": 85,
   "id": "716d9aea-cb99-43a7-b781-29318e5bc2a9",
   "metadata": {},
   "outputs": [],
   "source": [
    "os.chdir('./Key_Areas_krill_carbon_sequestration/outputs_formated_data/')\n",
    "# load the catch data \n",
    "catch_p1 = pd.read_csv('Krill_catch_final_1.csv').set_index(['latitude', 'longitude']).dropna()\n",
    "catch_p2 = pd.read_csv('Krill_catch_final_2.csv').set_index(['latitude', 'longitude']).dropna()\n",
    "catch_p3 = pd.read_csv('Krill_catch_final_3.csv').set_index(['latitude', 'longitude']).dropna()"
   ]
  },
  {
   "cell_type": "code",
   "execution_count": 86,
   "id": "cf604b41-0c2b-4b5a-bd21-42189a6987a4",
   "metadata": {},
   "outputs": [],
   "source": [
    "#join the areas\n",
    "catch_p1 = catch_p1.join(area_df , how='left')\n",
    "catch_p2 = catch_p2.join(area_df , how='left')\n",
    "catch_p3 = catch_p3.join(area_df , how='left')"
   ]
  },
  {
   "cell_type": "code",
   "execution_count": 87,
   "id": "55b02bcc-3e4c-47f3-a033-baa6f7ee1958",
   "metadata": {},
   "outputs": [],
   "source": [
    "# sum the area to get the total area fished in eahc period\n",
    "area_fished1 = catch_p1.sum()['True_area']*0.000001 # 4,600,054.005471619 km²\n",
    "area_fished2 = catch_p2.sum()['True_area']*0.000001 # 1,034,650.1718364782 km²\n",
    "area_fished3 = catch_p3.sum()['True_area']*0.000001 # 1,012,877.9730397434 km²"
   ]
  },
  {
   "cell_type": "code",
   "execution_count": 88,
   "id": "9b3708d3-442b-4fca-8f2d-8162207df72c",
   "metadata": {},
   "outputs": [
    {
     "name": "stdout",
     "output_type": "stream",
     "text": [
      "4600054.005471619 1034650.1718364782 1012877.9730397434\n"
     ]
    }
   ],
   "source": [
    "print(area_fished1, area_fished2, area_fished3)"
   ]
  },
  {
   "cell_type": "code",
   "execution_count": 43,
   "id": "6452634f-63eb-429c-bd81-9ef95a4f0c5c",
   "metadata": {},
   "outputs": [
    {
     "data": {
      "text/plain": [
       "0.220188278623459"
      ]
     },
     "execution_count": 43,
     "metadata": {},
     "output_type": "execute_result"
    }
   ],
   "source": [
    "area_fished3/area_fished1"
   ]
  }
 ],
 "metadata": {
  "kernelspec": {
   "display_name": "Python 3 (ipykernel)",
   "language": "python",
   "name": "python3"
  },
  "language_info": {
   "codemirror_mode": {
    "name": "ipython",
    "version": 3
   },
   "file_extension": ".py",
   "mimetype": "text/x-python",
   "name": "python",
   "nbconvert_exporter": "python",
   "pygments_lexer": "ipython3",
   "version": "3.11.5"
  }
 },
 "nbformat": 4,
 "nbformat_minor": 5
}
