{
 "cells": [
  {
   "cell_type": "code",
   "execution_count": 1,
   "id": "e67b5a1d-531f-4d71-8ea9-aaa68346c7eb",
   "metadata": {},
   "outputs": [
    {
     "name": "stderr",
     "output_type": "stream",
     "text": [
      "Cannot find header.dxf (GDAL_DATA is not defined)\n"
     ]
    }
   ],
   "source": [
    "# import libraries (ok sous base anaconda)\n",
    "import matplotlib.pyplot as plt\n",
    "import xarray as xr\n",
    "import numpy as np\n",
    "import pandas as pd\n",
    "import scipy\n",
    "import math\n",
    "import seaborn as sns\n",
    "import os\n",
    "from sklearn.metrics import cohen_kappa_score\n",
    "\n",
    "import cartopy.crs as ccrs\n",
    "import cartopy.feature as cfeature\n",
    "from cartopy.mpl.gridliner import LONGITUDE_FORMATTER, LATITUDE_FORMATTER"
   ]
  },
  {
   "cell_type": "code",
   "execution_count": 48,
   "id": "0747ee3d-58ea-482f-8825-67b83ef175be",
   "metadata": {},
   "outputs": [],
   "source": [
    "# load krillpodym and krillbase data formated\n",
    "os.chdir('C:/Users/anael/Documents/PhD/4_krill_fisheries_Carbon_seq_time/Git_repo/Key_Areas_krill_carbon_sequestration/')\n",
    "\n",
    "krill_base = pd.read_csv('./outputs_formated_data/Krill_density_krillbase_df_final.csv').rename(columns = {'LONGITUDE_largegrid' : 'longitude' , 'LATITUDE_largegrid' : 'latitude'})[['latitude', 'longitude', 'STANDARDISED_KRILL_UNDER_1M2_log']]\n",
    "krill_podym = pd.read_csv('./outputs_formated_data/Krill_biomass_df_final.csv')[['latitude', 'longitude', 'krill_adult_log']]"
   ]
  },
  {
   "cell_type": "code",
   "execution_count": 49,
   "id": "9a547d73-bbe9-4d6c-b72c-58d5835038f7",
   "metadata": {},
   "outputs": [
    {
     "name": "stderr",
     "output_type": "stream",
     "text": [
      "C:\\Users\\anael\\AppData\\Local\\Temp\\ipykernel_13828\\3660438399.py:4: UserWarning: Boolean Series key will be reindexed to match DataFrame index.\n",
      "  krill_podym = krill_podym.dropna()[krill_podym['krill_adult_log'] != 0] # remove 0 bc Nan of krillbase are 0 of krillpodym\n"
     ]
    }
   ],
   "source": [
    "krill_base = krill_base.dropna()#[krill_base['STANDARDISED_KRILL_UNDER_1M2_log'] != 0]\n",
    "krill_base.set_index(['latitude', 'longitude'], inplace = True) # 1063  \n",
    "\n",
    "krill_podym = krill_podym.dropna()[krill_podym['krill_adult_log'] != 0] # remove 0 bc Nan of krillbase are 0 of krillpodym\n",
    "krill_podym.set_index(['latitude', 'longitude'], inplace = True) # 1648  "
   ]
  },
  {
   "cell_type": "markdown",
   "id": "ea3be407-6fe2-43c4-a7cb-e92973eb4510",
   "metadata": {},
   "source": [
    "# How are KRILLBASE data distributed over KRILLPODYM data"
   ]
  },
  {
   "cell_type": "markdown",
   "id": "5af1cc71-0b41-4bb3-906e-b20e3ccaee49",
   "metadata": {},
   "source": [
    "### extract the part of KRILLPODYM outputs where we have KRILLBASE data\n",
    "\n",
    "Compaire the two over their common spatial range. "
   ]
  },
  {
   "cell_type": "code",
   "execution_count": 50,
   "id": "2381e9e9-fa21-4f86-9ddb-6908d62931fb",
   "metadata": {},
   "outputs": [
    {
     "data": {
      "text/html": [
       "<div>\n",
       "<style scoped>\n",
       "    .dataframe tbody tr th:only-of-type {\n",
       "        vertical-align: middle;\n",
       "    }\n",
       "\n",
       "    .dataframe tbody tr th {\n",
       "        vertical-align: top;\n",
       "    }\n",
       "\n",
       "    .dataframe thead th {\n",
       "        text-align: right;\n",
       "    }\n",
       "</style>\n",
       "<table border=\"1\" class=\"dataframe\">\n",
       "  <thead>\n",
       "    <tr style=\"text-align: right;\">\n",
       "      <th></th>\n",
       "      <th></th>\n",
       "      <th>STANDARDISED_KRILL_UNDER_1M2_log</th>\n",
       "      <th>krill_adult_log</th>\n",
       "    </tr>\n",
       "    <tr>\n",
       "      <th>latitude</th>\n",
       "      <th>longitude</th>\n",
       "      <th></th>\n",
       "      <th></th>\n",
       "    </tr>\n",
       "  </thead>\n",
       "  <tbody>\n",
       "    <tr>\n",
       "      <th>-69</th>\n",
       "      <th>-179</th>\n",
       "      <td>0.000000</td>\n",
       "      <td>1.54654</td>\n",
       "    </tr>\n",
       "    <tr>\n",
       "      <th>-67</th>\n",
       "      <th>-179</th>\n",
       "      <td>0.000000</td>\n",
       "      <td>1.60825</td>\n",
       "    </tr>\n",
       "    <tr>\n",
       "      <th>-61</th>\n",
       "      <th>-179</th>\n",
       "      <td>1.355432</td>\n",
       "      <td>1.03334</td>\n",
       "    </tr>\n",
       "    <tr>\n",
       "      <th>-69</th>\n",
       "      <th>-177</th>\n",
       "      <td>0.000000</td>\n",
       "      <td>1.54440</td>\n",
       "    </tr>\n",
       "    <tr>\n",
       "      <th>-67</th>\n",
       "      <th>-177</th>\n",
       "      <td>0.000000</td>\n",
       "      <td>1.54895</td>\n",
       "    </tr>\n",
       "    <tr>\n",
       "      <th>...</th>\n",
       "      <th>...</th>\n",
       "      <td>...</td>\n",
       "      <td>...</td>\n",
       "    </tr>\n",
       "    <tr>\n",
       "      <th>-71</th>\n",
       "      <th>177</th>\n",
       "      <td>0.000000</td>\n",
       "      <td>1.44382</td>\n",
       "    </tr>\n",
       "    <tr>\n",
       "      <th>-67</th>\n",
       "      <th>177</th>\n",
       "      <td>1.645766</td>\n",
       "      <td>1.38528</td>\n",
       "    </tr>\n",
       "    <tr>\n",
       "      <th>-65</th>\n",
       "      <th>177</th>\n",
       "      <td>0.101403</td>\n",
       "      <td>1.35487</td>\n",
       "    </tr>\n",
       "    <tr>\n",
       "      <th>-63</th>\n",
       "      <th>177</th>\n",
       "      <td>0.000000</td>\n",
       "      <td>1.18426</td>\n",
       "    </tr>\n",
       "    <tr>\n",
       "      <th>-61</th>\n",
       "      <th>177</th>\n",
       "      <td>0.000000</td>\n",
       "      <td>0.70821</td>\n",
       "    </tr>\n",
       "  </tbody>\n",
       "</table>\n",
       "<p>1048 rows × 2 columns</p>\n",
       "</div>"
      ],
      "text/plain": [
       "                    STANDARDISED_KRILL_UNDER_1M2_log  krill_adult_log\n",
       "latitude longitude                                                   \n",
       "-69      -179                               0.000000          1.54654\n",
       "-67      -179                               0.000000          1.60825\n",
       "-61      -179                               1.355432          1.03334\n",
       "-69      -177                               0.000000          1.54440\n",
       "-67      -177                               0.000000          1.54895\n",
       "...                                              ...              ...\n",
       "-71       177                               0.000000          1.44382\n",
       "-67       177                               1.645766          1.38528\n",
       "-65       177                               0.101403          1.35487\n",
       "-63       177                               0.000000          1.18426\n",
       "-61       177                               0.000000          0.70821\n",
       "\n",
       "[1048 rows x 2 columns]"
      ]
     },
     "execution_count": 50,
     "metadata": {},
     "output_type": "execute_result"
    }
   ],
   "source": [
    "krill_common_range = krill_base.merge(krill_podym, how='inner', left_index=True, right_index=True)\n",
    "krill_common_range"
   ]
  },
  {
   "cell_type": "code",
   "execution_count": 51,
   "id": "e9cea4f5-722c-4d95-8caa-97f046d265cf",
   "metadata": {},
   "outputs": [
    {
     "data": {
      "text/plain": [
       "0.3333    1.09418\n",
       "0.6666    1.59819\n",
       "Name: krill_adult_log, dtype: float64"
      ]
     },
     "metadata": {},
     "output_type": "display_data"
    },
    {
     "data": {
      "text/plain": [
       "0.3333    1.226229\n",
       "0.6666    1.638561\n",
       "Name: krill_adult_log, dtype: float64"
      ]
     },
     "metadata": {},
     "output_type": "display_data"
    }
   ],
   "source": [
    "krill_podym_quantiles = krill_podym['krill_adult_log'].quantile(q=[0.3333, 0.6666])\n",
    "krill_podym_quantiles_CR = krill_common_range['krill_adult_log'].quantile(q=[0.3333, 0.6666])\n",
    "\n",
    "display(krill_podym_quantiles,\n",
    "krill_podym_quantiles_CR)"
   ]
  },
  {
   "cell_type": "markdown",
   "id": "ca4c8821-bbbc-4912-b544-0d616a99a919",
   "metadata": {},
   "source": [
    "The **krillpodym** tiertiles are higher over the common spatail range with KRILLBASE than when calculated on the whole krillpodym krill distribution.\n",
    "> This means the KRILLBASE data are biaised, with sampling predominantly in regions with more krill.\n",
    "\n",
    "> This also means the comparing the global upper tiertile of KRILLPODYM with upper tiertile of KRILLBASE and removing cells with disagreement will remove event more cells from the upper tiertile of krillpodym. (i.e., it is biaised to be stricter, above the initial issue caused by the different nb of avialable data points (cells))"
   ]
  },
  {
   "cell_type": "markdown",
   "id": "601b4fb4-b393-49ea-85d8-df35610ee1fc",
   "metadata": {},
   "source": [
    "# Validation/ comparison over their common spatial range\n",
    "\n",
    "Compare and try to validate krillpodym data bu krillbase data over their shared space.\n",
    "\n",
    "- correlation between the krill density by cell\n",
    "- quantile comparision to check if patterns are the same (~ the finer quantile the srticter comparison)"
   ]
  },
  {
   "cell_type": "markdown",
   "id": "f89a0163-d7b0-4ab7-82a4-7a293c82858d",
   "metadata": {},
   "source": [
    "# Correlation of the density per cell"
   ]
  },
  {
   "cell_type": "code",
   "execution_count": 52,
   "id": "8ecfe597-3cbe-478c-b926-248353bd8e1a",
   "metadata": {},
   "outputs": [
    {
     "data": {
      "text/html": [
       "<div>\n",
       "<style scoped>\n",
       "    .dataframe tbody tr th:only-of-type {\n",
       "        vertical-align: middle;\n",
       "    }\n",
       "\n",
       "    .dataframe tbody tr th {\n",
       "        vertical-align: top;\n",
       "    }\n",
       "\n",
       "    .dataframe thead th {\n",
       "        text-align: right;\n",
       "    }\n",
       "</style>\n",
       "<table border=\"1\" class=\"dataframe\">\n",
       "  <thead>\n",
       "    <tr style=\"text-align: right;\">\n",
       "      <th></th>\n",
       "      <th></th>\n",
       "      <th>STANDARDISED_KRILL_UNDER_1M2_log</th>\n",
       "      <th>krill_adult_log</th>\n",
       "    </tr>\n",
       "    <tr>\n",
       "      <th>latitude</th>\n",
       "      <th>longitude</th>\n",
       "      <th></th>\n",
       "      <th></th>\n",
       "    </tr>\n",
       "  </thead>\n",
       "  <tbody>\n",
       "    <tr>\n",
       "      <th rowspan=\"2\" valign=\"top\">-61</th>\n",
       "      <th>-179</th>\n",
       "      <td>1.355432</td>\n",
       "      <td>1.03334</td>\n",
       "    </tr>\n",
       "    <tr>\n",
       "      <th>-177</th>\n",
       "      <td>1.355432</td>\n",
       "      <td>1.06386</td>\n",
       "    </tr>\n",
       "    <tr>\n",
       "      <th rowspan=\"3\" valign=\"top\">-71</th>\n",
       "      <th>-175</th>\n",
       "      <td>0.071022</td>\n",
       "      <td>1.50515</td>\n",
       "    </tr>\n",
       "    <tr>\n",
       "      <th>-173</th>\n",
       "      <td>0.071022</td>\n",
       "      <td>1.46315</td>\n",
       "    </tr>\n",
       "    <tr>\n",
       "      <th>-171</th>\n",
       "      <td>0.071022</td>\n",
       "      <td>1.31159</td>\n",
       "    </tr>\n",
       "    <tr>\n",
       "      <th>...</th>\n",
       "      <th>...</th>\n",
       "      <td>...</td>\n",
       "      <td>...</td>\n",
       "    </tr>\n",
       "    <tr>\n",
       "      <th>-65</th>\n",
       "      <th>173</th>\n",
       "      <td>0.101403</td>\n",
       "      <td>1.40469</td>\n",
       "    </tr>\n",
       "    <tr>\n",
       "      <th>-67</th>\n",
       "      <th>175</th>\n",
       "      <td>1.645766</td>\n",
       "      <td>1.38169</td>\n",
       "    </tr>\n",
       "    <tr>\n",
       "      <th>-65</th>\n",
       "      <th>175</th>\n",
       "      <td>0.101403</td>\n",
       "      <td>1.48919</td>\n",
       "    </tr>\n",
       "    <tr>\n",
       "      <th>-67</th>\n",
       "      <th>177</th>\n",
       "      <td>1.645766</td>\n",
       "      <td>1.38528</td>\n",
       "    </tr>\n",
       "    <tr>\n",
       "      <th>-65</th>\n",
       "      <th>177</th>\n",
       "      <td>0.101403</td>\n",
       "      <td>1.35487</td>\n",
       "    </tr>\n",
       "  </tbody>\n",
       "</table>\n",
       "<p>734 rows × 2 columns</p>\n",
       "</div>"
      ],
      "text/plain": [
       "                    STANDARDISED_KRILL_UNDER_1M2_log  krill_adult_log\n",
       "latitude longitude                                                   \n",
       "-61      -179                               1.355432          1.03334\n",
       "         -177                               1.355432          1.06386\n",
       "-71      -175                               0.071022          1.50515\n",
       "         -173                               0.071022          1.46315\n",
       "         -171                               0.071022          1.31159\n",
       "...                                              ...              ...\n",
       "-65       173                               0.101403          1.40469\n",
       "-67       175                               1.645766          1.38169\n",
       "-65       175                               0.101403          1.48919\n",
       "-67       177                               1.645766          1.38528\n",
       "-65       177                               0.101403          1.35487\n",
       "\n",
       "[734 rows x 2 columns]"
      ]
     },
     "execution_count": 52,
     "metadata": {},
     "output_type": "execute_result"
    }
   ],
   "source": [
    "t = krill_common_range[krill_common_range['STANDARDISED_KRILL_UNDER_1M2_log']>0]\n",
    "t"
   ]
  },
  {
   "cell_type": "code",
   "execution_count": 53,
   "id": "2b57a117-428b-4119-929c-ef7c708d19ee",
   "metadata": {},
   "outputs": [
    {
     "data": {
      "image/png": "[encoded data removed]",
      "text/plain": [
       "<Figure size 640x480 with 1 Axes>"
      ]
     },
     "metadata": {},
     "output_type": "display_data"
    },
    {
     "data": {
      "text/plain": [
       "0.3750201400737513"
      ]
     },
     "execution_count": 53,
     "metadata": {},
     "output_type": "execute_result"
    }
   ],
   "source": [
    "plt.scatter(krill_common_range['STANDARDISED_KRILL_UNDER_1M2_log'], krill_common_range['krill_adult_log'])\n",
    "plt.show()\n",
    "\n",
    "correlation = krill_common_range['STANDARDISED_KRILL_UNDER_1M2_log'].corr(krill_common_range['krill_adult_log'])\n",
    "correlation "
   ]
  },
  {
   "cell_type": "code",
   "execution_count": 54,
   "id": "86cba099-d18a-4d32-84ea-6cf11074b617",
   "metadata": {},
   "outputs": [
    {
     "data": {
      "image/png": "[encoded data removed]",
      "text/plain": [
       "<Figure size 640x480 with 1 Axes>"
      ]
     },
     "metadata": {},
     "output_type": "display_data"
    },
    {
     "data": {
      "text/plain": [
       "0.32848676972641644"
      ]
     },
     "execution_count": 54,
     "metadata": {},
     "output_type": "execute_result"
    }
   ],
   "source": [
    "plt.scatter(t['STANDARDISED_KRILL_UNDER_1M2_log'], t['krill_adult_log'])\n",
    "plt.show()\n",
    "\n",
    "correlation = t['STANDARDISED_KRILL_UNDER_1M2_log'].corr(t['krill_adult_log'])\n",
    "correlation "
   ]
  },
  {
   "cell_type": "markdown",
   "id": "98dee421-bed5-4ebc-9e28-fa039c5fc76c",
   "metadata": {},
   "source": [
    "# Quantile comparision"
   ]
  },
  {
   "cell_type": "markdown",
   "id": "dfb0bb1c-3588-4509-8452-4f676ec87cf7",
   "metadata": {},
   "source": [
    "### Tiertile"
   ]
  },
  {
   "cell_type": "code",
   "execution_count": 55,
   "id": "5751b35c-47b6-4723-8aa6-b17b98af391a",
   "metadata": {},
   "outputs": [],
   "source": [
    "# tiertile\n",
    "krill_common_range['quantile_KP'] = pd.qcut(krill_common_range['krill_adult_log'], q=3, labels=['low', 'medium', 'high'])\n",
    "krill_common_range['quantile_KB'] = pd.qcut(krill_common_range['STANDARDISED_KRILL_UNDER_1M2_log'], q=3, labels=['low', 'medium', 'high'])"
   ]
  },
  {
   "cell_type": "code",
   "execution_count": 56,
   "id": "5783207a-e875-4ef3-a3b3-8c78a38e7232",
   "metadata": {},
   "outputs": [
    {
     "data": {
      "text/html": [
       "<div>\n",
       "<style scoped>\n",
       "    .dataframe tbody tr th:only-of-type {\n",
       "        vertical-align: middle;\n",
       "    }\n",
       "\n",
       "    .dataframe tbody tr th {\n",
       "        vertical-align: top;\n",
       "    }\n",
       "\n",
       "    .dataframe thead th {\n",
       "        text-align: right;\n",
       "    }\n",
       "</style>\n",
       "<table border=\"1\" class=\"dataframe\">\n",
       "  <thead>\n",
       "    <tr style=\"text-align: right;\">\n",
       "      <th>quantile_KP</th>\n",
       "      <th>low</th>\n",
       "      <th>medium</th>\n",
       "      <th>high</th>\n",
       "    </tr>\n",
       "    <tr>\n",
       "      <th>quantile_KB</th>\n",
       "      <th></th>\n",
       "      <th></th>\n",
       "      <th></th>\n",
       "    </tr>\n",
       "  </thead>\n",
       "  <tbody>\n",
       "    <tr>\n",
       "      <th>low</th>\n",
       "      <td>180</td>\n",
       "      <td>104</td>\n",
       "      <td>66</td>\n",
       "    </tr>\n",
       "    <tr>\n",
       "      <th>medium</th>\n",
       "      <td>122</td>\n",
       "      <td>142</td>\n",
       "      <td>87</td>\n",
       "    </tr>\n",
       "    <tr>\n",
       "      <th>high</th>\n",
       "      <td>48</td>\n",
       "      <td>103</td>\n",
       "      <td>196</td>\n",
       "    </tr>\n",
       "  </tbody>\n",
       "</table>\n",
       "</div>"
      ],
      "text/plain": [
       "quantile_KP  low  medium  high\n",
       "quantile_KB                   \n",
       "low          180     104    66\n",
       "medium       122     142    87\n",
       "high          48     103   196"
      ]
     },
     "metadata": {},
     "output_type": "display_data"
    },
    {
     "name": "stdout",
     "output_type": "stream",
     "text": [
      "0.2414115230496503\n",
      "0.5057251908396947\n"
     ]
    },
    {
     "data": {
      "text/html": [
       "<div>\n",
       "<style scoped>\n",
       "    .dataframe tbody tr th:only-of-type {\n",
       "        vertical-align: middle;\n",
       "    }\n",
       "\n",
       "    .dataframe tbody tr th {\n",
       "        vertical-align: top;\n",
       "    }\n",
       "\n",
       "    .dataframe thead th {\n",
       "        text-align: right;\n",
       "    }\n",
       "</style>\n",
       "<table border=\"1\" class=\"dataframe\">\n",
       "  <thead>\n",
       "    <tr style=\"text-align: right;\">\n",
       "      <th>quantile_KP</th>\n",
       "      <th>low</th>\n",
       "      <th>medium</th>\n",
       "      <th>high</th>\n",
       "    </tr>\n",
       "    <tr>\n",
       "      <th>quantile_KB</th>\n",
       "      <th></th>\n",
       "      <th></th>\n",
       "      <th></th>\n",
       "    </tr>\n",
       "  </thead>\n",
       "  <tbody>\n",
       "    <tr>\n",
       "      <th>low</th>\n",
       "      <td>0.514286</td>\n",
       "      <td>0.297143</td>\n",
       "      <td>0.188571</td>\n",
       "    </tr>\n",
       "    <tr>\n",
       "      <th>medium</th>\n",
       "      <td>0.347578</td>\n",
       "      <td>0.404558</td>\n",
       "      <td>0.247863</td>\n",
       "    </tr>\n",
       "    <tr>\n",
       "      <th>high</th>\n",
       "      <td>0.138329</td>\n",
       "      <td>0.296830</td>\n",
       "      <td>0.564841</td>\n",
       "    </tr>\n",
       "  </tbody>\n",
       "</table>\n",
       "</div>"
      ],
      "text/plain": [
       "quantile_KP       low    medium      high\n",
       "quantile_KB                              \n",
       "low          0.514286  0.297143  0.188571\n",
       "medium       0.347578  0.404558  0.247863\n",
       "high         0.138329  0.296830  0.564841"
      ]
     },
     "metadata": {},
     "output_type": "display_data"
    }
   ],
   "source": [
    "# confusion matrix\n",
    "conf_matrix = pd.crosstab(krill_common_range['quantile_KB'], krill_common_range['quantile_KP'])\n",
    "display(conf_matrix)\n",
    "\n",
    "# concordance\n",
    "diag = np.diag(conf_matrix.values).sum()\n",
    "total = conf_matrix.values.sum()\n",
    "concordance_ratio = diag / total\n",
    "print(concordance_ratio)\n",
    "\n",
    "# Kappa indice\n",
    "kappa = cohen_kappa_score(krill_common_range['quantile_KB'], krill_common_range['quantile_KP'])\n",
    "print(kappa)\n",
    "\n",
    "# error rate \n",
    "error_rate = (krill_common_range['quantile_KP'] != krill_common_range['quantile_KB']).mean()\n",
    "print(error_rate)\n",
    "\n",
    "# proportion by category\n",
    "conf_matrix_norm = conf_matrix.div(conf_matrix.sum(axis=1), axis=0)\n",
    "display(conf_matrix_norm)"
   ]
  },
  {
   "cell_type": "code",
   "execution_count": 57,
   "id": "81017e2a-2898-4833-986c-1bea202c2df6",
   "metadata": {},
   "outputs": [
    {
     "name": "stdout",
     "output_type": "stream",
     "text": [
      "rate of good classif of 'high': 56.48%\n",
      "Precision dof 'high' in KP : 56.16%\n"
     ]
    }
   ],
   "source": [
    "## classif rate of the high krill density cells only\n",
    "# right classif of \"High\": in cells classif as High in KB, how many are classifed as High in KP\n",
    "true_positive_high = conf_matrix.loc['high', 'high']\n",
    "total_pred_high = conf_matrix.loc['high'].sum()\n",
    "\n",
    "accuracy_high = true_positive_high / total_pred_high\n",
    "print(f\"rate of good classif of 'high': {accuracy_high:.2%}\")\n",
    "\n",
    "# the oposite: in cells classif as High in KP, how many are classifed as High in KB\n",
    "precision_high = conf_matrix.loc['high', 'high'] / conf_matrix['high'].sum()\n",
    "print(f\"Precision dof 'high' in KP : {precision_high:.2%}\")"
   ]
  },
  {
   "cell_type": "markdown",
   "id": "353d963e-fa3f-428d-a292-21ce824de614",
   "metadata": {},
   "source": [
    "### Quartile"
   ]
  },
  {
   "cell_type": "code",
   "execution_count": 60,
   "id": "c442ee27-400e-49b6-8cab-3ef7b72a7f2b",
   "metadata": {},
   "outputs": [
    {
     "ename": "ValueError",
     "evalue": "Bin edges must be unique: array([0.        , 0.        , 0.18980623, 0.99746131, 2.74404042]).\nYou can drop duplicate edges by setting the 'duplicates' kwarg",
     "output_type": "error",
     "traceback": [
      "\u001b[1;31m---------------------------------------------------------------------------\u001b[0m",
      "\u001b[1;31mValueError\u001b[0m                                Traceback (most recent call last)",
      "Cell \u001b[1;32mIn[60], line 3\u001b[0m\n\u001b[0;32m      1\u001b[0m \u001b[38;5;66;03m# tiertile\u001b[39;00m\n\u001b[0;32m      2\u001b[0m krill_common_range[\u001b[38;5;124m'\u001b[39m\u001b[38;5;124mquantile_KP_4\u001b[39m\u001b[38;5;124m'\u001b[39m] \u001b[38;5;241m=\u001b[39m pd\u001b[38;5;241m.\u001b[39mqcut(krill_common_range[\u001b[38;5;124m'\u001b[39m\u001b[38;5;124mkrill_adult_log\u001b[39m\u001b[38;5;124m'\u001b[39m], q\u001b[38;5;241m=\u001b[39m\u001b[38;5;241m4\u001b[39m, labels\u001b[38;5;241m=\u001b[39m[\u001b[38;5;124m'\u001b[39m\u001b[38;5;124mlow\u001b[39m\u001b[38;5;124m'\u001b[39m, \u001b[38;5;124m'\u001b[39m\u001b[38;5;124mmedium_l\u001b[39m\u001b[38;5;124m'\u001b[39m, \u001b[38;5;124m'\u001b[39m\u001b[38;5;124mmedium_h\u001b[39m\u001b[38;5;124m'\u001b[39m, \u001b[38;5;124m'\u001b[39m\u001b[38;5;124mhigh\u001b[39m\u001b[38;5;124m'\u001b[39m])\n\u001b[1;32m----> 3\u001b[0m krill_common_range[\u001b[38;5;124m'\u001b[39m\u001b[38;5;124mquantile_KB_4\u001b[39m\u001b[38;5;124m'\u001b[39m] \u001b[38;5;241m=\u001b[39m pd\u001b[38;5;241m.\u001b[39mqcut(krill_common_range[\u001b[38;5;124m'\u001b[39m\u001b[38;5;124mSTANDARDISED_KRILL_UNDER_1M2_log\u001b[39m\u001b[38;5;124m'\u001b[39m], q\u001b[38;5;241m=\u001b[39m\u001b[38;5;241m4\u001b[39m, labels\u001b[38;5;241m=\u001b[39m[\u001b[38;5;124m'\u001b[39m\u001b[38;5;124mlow\u001b[39m\u001b[38;5;124m'\u001b[39m, \u001b[38;5;124m'\u001b[39m\u001b[38;5;124mmedium_l\u001b[39m\u001b[38;5;124m'\u001b[39m, \u001b[38;5;124m'\u001b[39m\u001b[38;5;124mmedium_h\u001b[39m\u001b[38;5;124m'\u001b[39m, \u001b[38;5;124m'\u001b[39m\u001b[38;5;124mhigh\u001b[39m\u001b[38;5;124m'\u001b[39m])\n",
      "File \u001b[1;32m~\\anaconda3\\Lib\\site-packages\\pandas\\core\\reshape\\tile.py:379\u001b[0m, in \u001b[0;36mqcut\u001b[1;34m(x, q, labels, retbins, precision, duplicates)\u001b[0m\n\u001b[0;32m    376\u001b[0m x_np \u001b[38;5;241m=\u001b[39m x_np[\u001b[38;5;241m~\u001b[39mnp\u001b[38;5;241m.\u001b[39misnan(x_np)]\n\u001b[0;32m    377\u001b[0m bins \u001b[38;5;241m=\u001b[39m np\u001b[38;5;241m.\u001b[39mquantile(x_np, quantiles)\n\u001b[1;32m--> 379\u001b[0m fac, bins \u001b[38;5;241m=\u001b[39m _bins_to_cuts(\n\u001b[0;32m    380\u001b[0m     x,\n\u001b[0;32m    381\u001b[0m     bins,\n\u001b[0;32m    382\u001b[0m     labels\u001b[38;5;241m=\u001b[39mlabels,\n\u001b[0;32m    383\u001b[0m     precision\u001b[38;5;241m=\u001b[39mprecision,\n\u001b[0;32m    384\u001b[0m     include_lowest\u001b[38;5;241m=\u001b[39m\u001b[38;5;28;01mTrue\u001b[39;00m,\n\u001b[0;32m    385\u001b[0m     dtype\u001b[38;5;241m=\u001b[39mdtype,\n\u001b[0;32m    386\u001b[0m     duplicates\u001b[38;5;241m=\u001b[39mduplicates,\n\u001b[0;32m    387\u001b[0m )\n\u001b[0;32m    389\u001b[0m \u001b[38;5;28;01mreturn\u001b[39;00m _postprocess_for_cut(fac, bins, retbins, dtype, original)\n",
      "File \u001b[1;32m~\\anaconda3\\Lib\\site-packages\\pandas\\core\\reshape\\tile.py:421\u001b[0m, in \u001b[0;36m_bins_to_cuts\u001b[1;34m(x, bins, right, labels, precision, include_lowest, dtype, duplicates, ordered)\u001b[0m\n\u001b[0;32m    419\u001b[0m \u001b[38;5;28;01mif\u001b[39;00m \u001b[38;5;28mlen\u001b[39m(unique_bins) \u001b[38;5;241m<\u001b[39m \u001b[38;5;28mlen\u001b[39m(bins) \u001b[38;5;129;01mand\u001b[39;00m \u001b[38;5;28mlen\u001b[39m(bins) \u001b[38;5;241m!=\u001b[39m \u001b[38;5;241m2\u001b[39m:\n\u001b[0;32m    420\u001b[0m     \u001b[38;5;28;01mif\u001b[39;00m duplicates \u001b[38;5;241m==\u001b[39m \u001b[38;5;124m\"\u001b[39m\u001b[38;5;124mraise\u001b[39m\u001b[38;5;124m\"\u001b[39m:\n\u001b[1;32m--> 421\u001b[0m         \u001b[38;5;28;01mraise\u001b[39;00m \u001b[38;5;167;01mValueError\u001b[39;00m(\n\u001b[0;32m    422\u001b[0m             \u001b[38;5;124mf\u001b[39m\u001b[38;5;124m\"\u001b[39m\u001b[38;5;124mBin edges must be unique: \u001b[39m\u001b[38;5;132;01m{\u001b[39;00m\u001b[38;5;28mrepr\u001b[39m(bins)\u001b[38;5;132;01m}\u001b[39;00m\u001b[38;5;124m.\u001b[39m\u001b[38;5;130;01m\\n\u001b[39;00m\u001b[38;5;124m\"\u001b[39m\n\u001b[0;32m    423\u001b[0m             \u001b[38;5;124mf\u001b[39m\u001b[38;5;124m\"\u001b[39m\u001b[38;5;124mYou can drop duplicate edges by setting the \u001b[39m\u001b[38;5;124m'\u001b[39m\u001b[38;5;124mduplicates\u001b[39m\u001b[38;5;124m'\u001b[39m\u001b[38;5;124m kwarg\u001b[39m\u001b[38;5;124m\"\u001b[39m\n\u001b[0;32m    424\u001b[0m         )\n\u001b[0;32m    425\u001b[0m     bins \u001b[38;5;241m=\u001b[39m unique_bins\n\u001b[0;32m    427\u001b[0m side: Literal[\u001b[38;5;124m\"\u001b[39m\u001b[38;5;124mleft\u001b[39m\u001b[38;5;124m\"\u001b[39m, \u001b[38;5;124m\"\u001b[39m\u001b[38;5;124mright\u001b[39m\u001b[38;5;124m\"\u001b[39m] \u001b[38;5;241m=\u001b[39m \u001b[38;5;124m\"\u001b[39m\u001b[38;5;124mleft\u001b[39m\u001b[38;5;124m\"\u001b[39m \u001b[38;5;28;01mif\u001b[39;00m right \u001b[38;5;28;01melse\u001b[39;00m \u001b[38;5;124m\"\u001b[39m\u001b[38;5;124mright\u001b[39m\u001b[38;5;124m\"\u001b[39m\n",
      "\u001b[1;31mValueError\u001b[0m: Bin edges must be unique: array([0.        , 0.        , 0.18980623, 0.99746131, 2.74404042]).\nYou can drop duplicate edges by setting the 'duplicates' kwarg"
     ]
    }
   ],
   "source": [
    "# tiertile\n",
    "krill_common_range['quantile_KP_4'] = pd.qcut(krill_common_range['krill_adult_log'], q=4, labels=['low', 'medium_l', 'medium_h', 'high'])\n",
    "krill_common_range['quantile_KB_4'] = pd.qcut(krill_common_range['STANDARDISED_KRILL_UNDER_1M2_log'], q=4, labels=['low', 'medium_l', 'medium_h', 'high'])"
   ]
  },
  {
   "cell_type": "code",
   "execution_count": 59,
   "id": "15c247d7-cd05-4ac8-8eb7-881f9af96f95",
   "metadata": {},
   "outputs": [
    {
     "data": {
      "text/html": [
       "<div>\n",
       "<style scoped>\n",
       "    .dataframe tbody tr th:only-of-type {\n",
       "        vertical-align: middle;\n",
       "    }\n",
       "\n",
       "    .dataframe tbody tr th {\n",
       "        vertical-align: top;\n",
       "    }\n",
       "\n",
       "    .dataframe thead th {\n",
       "        text-align: right;\n",
       "    }\n",
       "</style>\n",
       "<table border=\"1\" class=\"dataframe\">\n",
       "  <thead>\n",
       "    <tr style=\"text-align: right;\">\n",
       "      <th>quantile_KP</th>\n",
       "      <th>low</th>\n",
       "      <th>medium_l</th>\n",
       "      <th>medium_h</th>\n",
       "      <th>high</th>\n",
       "    </tr>\n",
       "    <tr>\n",
       "      <th>quantile_KB</th>\n",
       "      <th></th>\n",
       "      <th></th>\n",
       "      <th></th>\n",
       "      <th></th>\n",
       "    </tr>\n",
       "  </thead>\n",
       "  <tbody>\n",
       "    <tr>\n",
       "      <th>low</th>\n",
       "      <td>148</td>\n",
       "      <td>89</td>\n",
       "      <td>65</td>\n",
       "      <td>48</td>\n",
       "    </tr>\n",
       "    <tr>\n",
       "      <th>medium</th>\n",
       "      <td>87</td>\n",
       "      <td>108</td>\n",
       "      <td>92</td>\n",
       "      <td>64</td>\n",
       "    </tr>\n",
       "    <tr>\n",
       "      <th>high</th>\n",
       "      <td>27</td>\n",
       "      <td>65</td>\n",
       "      <td>105</td>\n",
       "      <td>150</td>\n",
       "    </tr>\n",
       "  </tbody>\n",
       "</table>\n",
       "</div>"
      ],
      "text/plain": [
       "quantile_KP  low  medium_l  medium_h  high\n",
       "quantile_KB                               \n",
       "low          148        89        65    48\n",
       "medium        87       108        92    64\n",
       "high          27        65       105   150"
      ]
     },
     "metadata": {},
     "output_type": "display_data"
    },
    {
     "name": "stdout",
     "output_type": "stream",
     "text": [
      "0.14163090128755362\n"
     ]
    },
    {
     "ename": "TypeError",
     "evalue": "Categoricals can only be compared if 'categories' are the same.",
     "output_type": "error",
     "traceback": [
      "\u001b[1;31m---------------------------------------------------------------------------\u001b[0m",
      "\u001b[1;31mTypeError\u001b[0m                                 Traceback (most recent call last)",
      "Cell \u001b[1;32mIn[59], line 16\u001b[0m\n\u001b[0;32m     13\u001b[0m \u001b[38;5;28mprint\u001b[39m(kappa)\n\u001b[0;32m     15\u001b[0m \u001b[38;5;66;03m# error rate \u001b[39;00m\n\u001b[1;32m---> 16\u001b[0m error_rate \u001b[38;5;241m=\u001b[39m (krill_common_range[\u001b[38;5;124m'\u001b[39m\u001b[38;5;124mquantile_KP\u001b[39m\u001b[38;5;124m'\u001b[39m] \u001b[38;5;241m!=\u001b[39m krill_common_range[\u001b[38;5;124m'\u001b[39m\u001b[38;5;124mquantile_KB\u001b[39m\u001b[38;5;124m'\u001b[39m])\u001b[38;5;241m.\u001b[39mmean()\n\u001b[0;32m     17\u001b[0m \u001b[38;5;28mprint\u001b[39m(error_rate)\n\u001b[0;32m     19\u001b[0m \u001b[38;5;66;03m# proportion by category\u001b[39;00m\n",
      "File \u001b[1;32m~\\anaconda3\\Lib\\site-packages\\pandas\\core\\ops\\common.py:76\u001b[0m, in \u001b[0;36m_unpack_zerodim_and_defer.<locals>.new_method\u001b[1;34m(self, other)\u001b[0m\n\u001b[0;32m     72\u001b[0m             \u001b[38;5;28;01mreturn\u001b[39;00m \u001b[38;5;28mNotImplemented\u001b[39m\n\u001b[0;32m     74\u001b[0m other \u001b[38;5;241m=\u001b[39m item_from_zerodim(other)\n\u001b[1;32m---> 76\u001b[0m \u001b[38;5;28;01mreturn\u001b[39;00m method(\u001b[38;5;28mself\u001b[39m, other)\n",
      "File \u001b[1;32m~\\anaconda3\\Lib\\site-packages\\pandas\\core\\arraylike.py:44\u001b[0m, in \u001b[0;36mOpsMixin.__ne__\u001b[1;34m(self, other)\u001b[0m\n\u001b[0;32m     42\u001b[0m \u001b[38;5;129m@unpack_zerodim_and_defer\u001b[39m(\u001b[38;5;124m\"\u001b[39m\u001b[38;5;124m__ne__\u001b[39m\u001b[38;5;124m\"\u001b[39m)\n\u001b[0;32m     43\u001b[0m \u001b[38;5;28;01mdef\u001b[39;00m \u001b[38;5;21m__ne__\u001b[39m(\u001b[38;5;28mself\u001b[39m, other):\n\u001b[1;32m---> 44\u001b[0m     \u001b[38;5;28;01mreturn\u001b[39;00m \u001b[38;5;28mself\u001b[39m\u001b[38;5;241m.\u001b[39m_cmp_method(other, operator\u001b[38;5;241m.\u001b[39mne)\n",
      "File \u001b[1;32m~\\anaconda3\\Lib\\site-packages\\pandas\\core\\series.py:5803\u001b[0m, in \u001b[0;36mSeries._cmp_method\u001b[1;34m(self, other, op)\u001b[0m\n\u001b[0;32m   5800\u001b[0m lvalues \u001b[38;5;241m=\u001b[39m \u001b[38;5;28mself\u001b[39m\u001b[38;5;241m.\u001b[39m_values\n\u001b[0;32m   5801\u001b[0m rvalues \u001b[38;5;241m=\u001b[39m extract_array(other, extract_numpy\u001b[38;5;241m=\u001b[39m\u001b[38;5;28;01mTrue\u001b[39;00m, extract_range\u001b[38;5;241m=\u001b[39m\u001b[38;5;28;01mTrue\u001b[39;00m)\n\u001b[1;32m-> 5803\u001b[0m res_values \u001b[38;5;241m=\u001b[39m ops\u001b[38;5;241m.\u001b[39mcomparison_op(lvalues, rvalues, op)\n\u001b[0;32m   5805\u001b[0m \u001b[38;5;28;01mreturn\u001b[39;00m \u001b[38;5;28mself\u001b[39m\u001b[38;5;241m.\u001b[39m_construct_result(res_values, name\u001b[38;5;241m=\u001b[39mres_name)\n",
      "File \u001b[1;32m~\\anaconda3\\Lib\\site-packages\\pandas\\core\\ops\\array_ops.py:332\u001b[0m, in \u001b[0;36mcomparison_op\u001b[1;34m(left, right, op)\u001b[0m\n\u001b[0;32m    323\u001b[0m         \u001b[38;5;28;01mraise\u001b[39;00m \u001b[38;5;167;01mValueError\u001b[39;00m(\n\u001b[0;32m    324\u001b[0m             \u001b[38;5;124m\"\u001b[39m\u001b[38;5;124mLengths must match to compare\u001b[39m\u001b[38;5;124m\"\u001b[39m, lvalues\u001b[38;5;241m.\u001b[39mshape, rvalues\u001b[38;5;241m.\u001b[39mshape\n\u001b[0;32m    325\u001b[0m         )\n\u001b[0;32m    327\u001b[0m \u001b[38;5;28;01mif\u001b[39;00m should_extension_dispatch(lvalues, rvalues) \u001b[38;5;129;01mor\u001b[39;00m (\n\u001b[0;32m    328\u001b[0m     (\u001b[38;5;28misinstance\u001b[39m(rvalues, (Timedelta, BaseOffset, Timestamp)) \u001b[38;5;129;01mor\u001b[39;00m right \u001b[38;5;129;01mis\u001b[39;00m NaT)\n\u001b[0;32m    329\u001b[0m     \u001b[38;5;129;01mand\u001b[39;00m lvalues\u001b[38;5;241m.\u001b[39mdtype \u001b[38;5;241m!=\u001b[39m \u001b[38;5;28mobject\u001b[39m\n\u001b[0;32m    330\u001b[0m ):\n\u001b[0;32m    331\u001b[0m     \u001b[38;5;66;03m# Call the method on lvalues\u001b[39;00m\n\u001b[1;32m--> 332\u001b[0m     res_values \u001b[38;5;241m=\u001b[39m op(lvalues, rvalues)\n\u001b[0;32m    334\u001b[0m \u001b[38;5;28;01melif\u001b[39;00m is_scalar(rvalues) \u001b[38;5;129;01mand\u001b[39;00m isna(rvalues):  \u001b[38;5;66;03m# TODO: but not pd.NA?\u001b[39;00m\n\u001b[0;32m    335\u001b[0m     \u001b[38;5;66;03m# numpy does not like comparisons vs None\u001b[39;00m\n\u001b[0;32m    336\u001b[0m     \u001b[38;5;28;01mif\u001b[39;00m op \u001b[38;5;129;01mis\u001b[39;00m operator\u001b[38;5;241m.\u001b[39mne:\n",
      "File \u001b[1;32m~\\anaconda3\\Lib\\site-packages\\pandas\\core\\ops\\common.py:76\u001b[0m, in \u001b[0;36m_unpack_zerodim_and_defer.<locals>.new_method\u001b[1;34m(self, other)\u001b[0m\n\u001b[0;32m     72\u001b[0m             \u001b[38;5;28;01mreturn\u001b[39;00m \u001b[38;5;28mNotImplemented\u001b[39m\n\u001b[0;32m     74\u001b[0m other \u001b[38;5;241m=\u001b[39m item_from_zerodim(other)\n\u001b[1;32m---> 76\u001b[0m \u001b[38;5;28;01mreturn\u001b[39;00m method(\u001b[38;5;28mself\u001b[39m, other)\n",
      "File \u001b[1;32m~\\anaconda3\\Lib\\site-packages\\pandas\\core\\arrays\\categorical.py:141\u001b[0m, in \u001b[0;36m_cat_compare_op.<locals>.func\u001b[1;34m(self, other)\u001b[0m\n\u001b[0;32m    139\u001b[0m msg \u001b[38;5;241m=\u001b[39m \u001b[38;5;124m\"\u001b[39m\u001b[38;5;124mCategoricals can only be compared if \u001b[39m\u001b[38;5;124m'\u001b[39m\u001b[38;5;124mcategories\u001b[39m\u001b[38;5;124m'\u001b[39m\u001b[38;5;124m are the same.\u001b[39m\u001b[38;5;124m\"\u001b[39m\n\u001b[0;32m    140\u001b[0m \u001b[38;5;28;01mif\u001b[39;00m \u001b[38;5;129;01mnot\u001b[39;00m \u001b[38;5;28mself\u001b[39m\u001b[38;5;241m.\u001b[39m_categories_match_up_to_permutation(other):\n\u001b[1;32m--> 141\u001b[0m     \u001b[38;5;28;01mraise\u001b[39;00m \u001b[38;5;167;01mTypeError\u001b[39;00m(msg)\n\u001b[0;32m    143\u001b[0m \u001b[38;5;28;01mif\u001b[39;00m \u001b[38;5;129;01mnot\u001b[39;00m \u001b[38;5;28mself\u001b[39m\u001b[38;5;241m.\u001b[39mordered \u001b[38;5;129;01mand\u001b[39;00m \u001b[38;5;129;01mnot\u001b[39;00m \u001b[38;5;28mself\u001b[39m\u001b[38;5;241m.\u001b[39mcategories\u001b[38;5;241m.\u001b[39mequals(other\u001b[38;5;241m.\u001b[39mcategories):\n\u001b[0;32m    144\u001b[0m     \u001b[38;5;66;03m# both unordered and different order\u001b[39;00m\n\u001b[0;32m    145\u001b[0m     other_codes \u001b[38;5;241m=\u001b[39m recode_for_categories(\n\u001b[0;32m    146\u001b[0m         other\u001b[38;5;241m.\u001b[39mcodes, other\u001b[38;5;241m.\u001b[39mcategories, \u001b[38;5;28mself\u001b[39m\u001b[38;5;241m.\u001b[39mcategories, copy\u001b[38;5;241m=\u001b[39m\u001b[38;5;28;01mFalse\u001b[39;00m\n\u001b[0;32m    147\u001b[0m     )\n",
      "\u001b[1;31mTypeError\u001b[0m: Categoricals can only be compared if 'categories' are the same."
     ]
    }
   ],
   "source": [
    "# confusion matrix\n",
    "conf_matrix = pd.crosstab(krill_common_range['quantile_KB'], krill_common_range['quantile_KP'])\n",
    "display(conf_matrix)\n",
    "\n",
    "# concordance\n",
    "diag = np.diag(conf_matrix.values).sum()\n",
    "total = conf_matrix.values.sum()\n",
    "concordance_ratio = diag / total\n",
    "concordance_ratio\n",
    "\n",
    "# Kappa indice\n",
    "kappa = cohen_kappa_score(krill_common_range['quantile_KB'], krill_common_range['quantile_KP'])\n",
    "print(kappa)\n",
    "\n",
    "# error rate \n",
    "error_rate = (krill_common_range['quantile_KP'] != krill_common_range['quantile_KB']).mean()\n",
    "print(error_rate)\n",
    "\n",
    "# proportion by category\n",
    "conf_matrix_norm = conf_matrix.div(conf_matrix.sum(axis=1), axis=0)\n",
    "display(conf_matrix_norm)"
   ]
  },
  {
   "cell_type": "code",
   "execution_count": null,
   "id": "264ee898-2c06-4281-b3fe-3cd77dd4115d",
   "metadata": {},
   "outputs": [],
   "source": [
    "## classif rate of the high krill density cells only\n",
    "# right classif of \"High\": in cells classif as High in KB, how many are classifed as High in KP\n",
    "true_positive_high = conf_matrix.loc['high', 'high']\n",
    "total_pred_high = conf_matrix.loc['high'].sum()\n",
    "\n",
    "accuracy_high = true_positive_high / total_pred_high\n",
    "print(f\"rate of good classif of 'high': {accuracy_high:.2%}\")\n",
    "\n",
    "# the oposite: in cells classif as High in KP, how many are classifed as High in KB\n",
    "precision_high = conf_matrix.loc['high', 'high'] / conf_matrix['high'].sum()\n",
    "print(f\"Precision dof 'high' in KP : {precision_high:.2%}\")"
   ]
  },
  {
   "cell_type": "code",
   "execution_count": null,
   "id": "1d914eb7-121a-4445-bea3-fa2a535977e5",
   "metadata": {},
   "outputs": [],
   "source": []
  },
  {
   "cell_type": "code",
   "execution_count": null,
   "id": "baf1f660-c692-4bec-894c-0076e383889b",
   "metadata": {},
   "outputs": [],
   "source": []
  }
 ],
 "metadata": {
  "kernelspec": {
   "display_name": "Python 3 (ipykernel)",
   "language": "python",
   "name": "python3"
  },
  "language_info": {
   "codemirror_mode": {
    "name": "ipython",
    "version": 3
   },
   "file_extension": ".py",
   "mimetype": "text/x-python",
   "name": "python",
   "nbconvert_exporter": "python",
   "pygments_lexer": "ipython3",
   "version": "3.11.5"
  }
 },
 "nbformat": 4,
 "nbformat_minor": 5
}
