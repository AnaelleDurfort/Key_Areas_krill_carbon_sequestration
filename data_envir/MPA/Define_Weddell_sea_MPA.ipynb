{
 "cells": [
  {
   "cell_type": "markdown",
   "metadata": {},
   "source": [
    "# Define the Weddell Sea MPA from the documentation available on the CCAMLR website\n",
    "\n",
    "The MPA in the Weddell Sea is proposed but has not been adopter by CCAMLR Members yet. Proposed sptail definission is already available on the CCMALR website : https://meetings.ccamlr.org/en/ccamlr-38/23\n",
    "This document is from 2019, and it is the information used by the MPAtlas, so we used the same. \n",
    "However, these are not the ultimate coordinantes of the MPA when/if adopted. "
   ]
  },
  {
   "cell_type": "code",
   "execution_count": 1,
   "metadata": {
    "id": "O_2pJF8nhdzX"
   },
   "outputs": [
    {
     "name": "stderr",
     "output_type": "stream",
     "text": [
      "Cannot find header.dxf (GDAL_DATA is not defined)\n"
     ]
    }
   ],
   "source": [
    "import geopandas as gpd\n",
    "import pandas as pd\n",
    "from shapely.geometry import Polygon"
   ]
  },
  {
   "cell_type": "code",
   "execution_count": 3,
   "metadata": {},
   "outputs": [],
   "source": [
    "# To be change with local directory of the data (file too heavy to be on git)\n",
    "import os\n",
    "os.chdir('C:/Users/anael/Documents/PhD/4_krill_fisheries_Carbon_seq_time/Git_repo/Key_Areas_krill_carbon_sequestration/data_envir/MPA')"
   ]
  },
  {
   "cell_type": "code",
   "execution_count": 4,
   "metadata": {
    "executionInfo": {
     "elapsed": 226,
     "status": "ok",
     "timestamp": 1706520780532,
     "user": {
      "displayName": "Martin Paquet",
      "userId": "10681858723908781421"
     },
     "user_tz": -60
    },
    "id": "qwHa5ynvf18N"
   },
   "outputs": [
    {
     "data": {
      "text/html": [
       "<div>\n",
       "<style scoped>\n",
       "    .dataframe tbody tr th:only-of-type {\n",
       "        vertical-align: middle;\n",
       "    }\n",
       "\n",
       "    .dataframe tbody tr th {\n",
       "        vertical-align: top;\n",
       "    }\n",
       "\n",
       "    .dataframe thead th {\n",
       "        text-align: right;\n",
       "    }\n",
       "</style>\n",
       "<table border=\"1\" class=\"dataframe\">\n",
       "  <thead>\n",
       "    <tr style=\"text-align: right;\">\n",
       "      <th></th>\n",
       "      <th>geometry</th>\n",
       "      <th>Name</th>\n",
       "    </tr>\n",
       "  </thead>\n",
       "  <tbody>\n",
       "    <tr>\n",
       "      <th>2</th>\n",
       "      <td>POLYGON ((0.00000 -72.25000, -20.00000 -72.250...</td>\n",
       "      <td>Weddell_sea_Fisheries_Research_Zone</td>\n",
       "    </tr>\n",
       "  </tbody>\n",
       "</table>\n",
       "</div>"
      ],
      "text/plain": [
       "                                            geometry  \\\n",
       "2  POLYGON ((0.00000 -72.25000, -20.00000 -72.250...   \n",
       "\n",
       "                                  Name  \n",
       "2  Weddell_sea_Fisheries_Research_Zone  "
      ]
     },
     "execution_count": 4,
     "metadata": {},
     "output_type": "execute_result"
    }
   ],
   "source": [
    "# Coordonnées\n",
    "coordinates = [\n",
    "    (0, -72.25),\n",
    "    (-20, -72.25),\n",
    "    (-20, -69),\n",
    "    (-18.75, -69),\n",
    "    (-18.75, -72),\n",
    "    (-17.5, -72),\n",
    "    (-17.5, -71.25),\n",
    "    (-15, -71.25),\n",
    "    (-15, -70.25),\n",
    "    (-12, -70.25),\n",
    "    (-12, -69.5),\n",
    "    (-6.25, -69.5),\n",
    "    (-6.25, -69),\n",
    "    (-4.75, -69),\n",
    "    (-4.75, -69.75),\n",
    "    (-2, -69.75),\n",
    "    (-2, -69),\n",
    "    (0, -69)\n",
    "]\n",
    "\n",
    "\n",
    "polygon = Polygon(coordinates)\n",
    "df1 = gpd.GeoDataFrame(index=[2], geometry=[polygon], crs=\"EPSG:4326\")\n",
    "df1['Name'] = 'Weddell_sea_Fisheries_Research_Zone'\n",
    "df1\n",
    "# Reprojeter à l'EPSG voulu\n",
    "#geometry = geometry.to_crs(epsg=3031)\n",
    "\n",
    "#geometry.to_file(\"Fisheries_Research_Zone.shp\")"
   ]
  },
  {
   "cell_type": "code",
   "execution_count": 5,
   "metadata": {},
   "outputs": [
    {
     "data": {
      "text/plain": [
       "<Axes: >"
      ]
     },
     "execution_count": 5,
     "metadata": {},
     "output_type": "execute_result"
    },
    {
     "data": {
      "image/png": "[encoded data removed]",
      "text/plain": [
       "<Figure size 640x480 with 1 Axes>"
      ]
     },
     "metadata": {},
     "output_type": "display_data"
    }
   ],
   "source": [
    "df1.geometry.plot()"
   ]
  },
  {
   "cell_type": "code",
   "execution_count": 6,
   "metadata": {
    "executionInfo": {
     "elapsed": 235,
     "status": "ok",
     "timestamp": 1706520561615,
     "user": {
      "displayName": "Martin Paquet",
      "userId": "10681858723908781421"
     },
     "user_tz": -60
    },
    "id": "wjpdP6zvhAsd"
   },
   "outputs": [
    {
     "data": {
      "text/html": [
       "<div>\n",
       "<style scoped>\n",
       "    .dataframe tbody tr th:only-of-type {\n",
       "        vertical-align: middle;\n",
       "    }\n",
       "\n",
       "    .dataframe tbody tr th {\n",
       "        vertical-align: top;\n",
       "    }\n",
       "\n",
       "    .dataframe thead th {\n",
       "        text-align: right;\n",
       "    }\n",
       "</style>\n",
       "<table border=\"1\" class=\"dataframe\">\n",
       "  <thead>\n",
       "    <tr style=\"text-align: right;\">\n",
       "      <th></th>\n",
       "      <th>geometry</th>\n",
       "      <th>Name</th>\n",
       "    </tr>\n",
       "  </thead>\n",
       "  <tbody>\n",
       "    <tr>\n",
       "      <th>1</th>\n",
       "      <td>POLYGON ((0.00000 -69.00000, -2.00000 -69.0000...</td>\n",
       "      <td>Weddell_sea_General_Protection_Zone</td>\n",
       "    </tr>\n",
       "  </tbody>\n",
       "</table>\n",
       "</div>"
      ],
      "text/plain": [
       "                                            geometry  \\\n",
       "1  POLYGON ((0.00000 -69.00000, -2.00000 -69.0000...   \n",
       "\n",
       "                                  Name  \n",
       "1  Weddell_sea_General_Protection_Zone  "
      ]
     },
     "execution_count": 6,
     "metadata": {},
     "output_type": "execute_result"
    }
   ],
   "source": [
    "gpz_coordinates = [\n",
    "    (0, -69),\n",
    "    (-2, -69),\n",
    "    (-2, -69.75),\n",
    "    (-4.75, -69.75),\n",
    "    (-4.75, -69),\n",
    "    (-6.25, -69),\n",
    "    (-6.25, -69.5),\n",
    "    (-12, -69.5),\n",
    "    (-12, -70.25),\n",
    "    (-15, -70.25),\n",
    "    (-15, -71.25),\n",
    "    (-17.5, -71.25),\n",
    "    (-17.5, -72),\n",
    "    (-18.75, -72),\n",
    "    (-18.75, -72.25),\n",
    "    (-20, -72.25),\n",
    "    (-20, -75),\n",
    "    (-60, -75),\n",
    "    (-60, -64),\n",
    "    (-39, -64),\n",
    "    (-39, -67),\n",
    "    (-43, -67),\n",
    "    (-43, -65),\n",
    "    (-50, -65),\n",
    "    (-50, -71.5),\n",
    "    (-20, -71.5),\n",
    "    (-20, -68.75),\n",
    "    (-7, -68.75),\n",
    "    (-7, -65),\n",
    "    (-1, -65),\n",
    "    (-1, -64),\n",
    "    (0, -64)\n",
    "]\n",
    "\n",
    "gpz_polygon = Polygon(gpz_coordinates)\n",
    "df2 = gpd.GeoDataFrame(index=[1], geometry=[gpz_polygon], crs=\"EPSG:4326\")\n",
    "df2['Name'] = 'Weddell_sea_General_Protection_Zone'\n",
    "df2\n",
    "#gpz_geometry = gpz_geometry.to_crs(epsg=3031)\n",
    "\n",
    "#gpz_geometry.to_file(\"Weddell_sea_General_Protection_Zone.shp\")"
   ]
  },
  {
   "cell_type": "code",
   "execution_count": 7,
   "metadata": {},
   "outputs": [
    {
     "data": {
      "text/plain": [
       "<Axes: >"
      ]
     },
     "execution_count": 7,
     "metadata": {},
     "output_type": "execute_result"
    },
    {
     "data": {
      "image/png": "[encoded data removed]",
      "text/plain": [
       "<Figure size 640x480 with 1 Axes>"
      ]
     },
     "metadata": {},
     "output_type": "display_data"
    }
   ],
   "source": [
    "df2.geometry.plot()"
   ]
  },
  {
   "cell_type": "code",
   "execution_count": 8,
   "metadata": {},
   "outputs": [
    {
     "data": {
      "text/html": [
       "<div>\n",
       "<style scoped>\n",
       "    .dataframe tbody tr th:only-of-type {\n",
       "        vertical-align: middle;\n",
       "    }\n",
       "\n",
       "    .dataframe tbody tr th {\n",
       "        vertical-align: top;\n",
       "    }\n",
       "\n",
       "    .dataframe thead th {\n",
       "        text-align: right;\n",
       "    }\n",
       "</style>\n",
       "<table border=\"1\" class=\"dataframe\">\n",
       "  <thead>\n",
       "    <tr style=\"text-align: right;\">\n",
       "      <th></th>\n",
       "      <th>geometry</th>\n",
       "      <th>Name</th>\n",
       "    </tr>\n",
       "    <tr>\n",
       "      <th>row_id</th>\n",
       "      <th></th>\n",
       "      <th></th>\n",
       "    </tr>\n",
       "  </thead>\n",
       "  <tbody>\n",
       "    <tr>\n",
       "      <th>2</th>\n",
       "      <td>POLYGON ((0.00000 -69.00000, -2.00000 -69.0000...</td>\n",
       "      <td>Weddell_sea_General_Protection_Zone</td>\n",
       "    </tr>\n",
       "    <tr>\n",
       "      <th>3</th>\n",
       "      <td>POLYGON ((0.00000 -72.25000, -20.00000 -72.250...</td>\n",
       "      <td>Weddell_sea_Fisheries_Research_Zone</td>\n",
       "    </tr>\n",
       "  </tbody>\n",
       "</table>\n",
       "</div>"
      ],
      "text/plain": [
       "                                                 geometry  \\\n",
       "row_id                                                      \n",
       "2       POLYGON ((0.00000 -69.00000, -2.00000 -69.0000...   \n",
       "3       POLYGON ((0.00000 -72.25000, -20.00000 -72.250...   \n",
       "\n",
       "                                       Name  \n",
       "row_id                                       \n",
       "2       Weddell_sea_General_Protection_Zone  \n",
       "3       Weddell_sea_Fisheries_Research_Zone  "
      ]
     },
     "execution_count": 8,
     "metadata": {},
     "output_type": "execute_result"
    }
   ],
   "source": [
    "df = pd.concat([df2, df1])\n",
    "df[\"row_id\"] = df.index + 1\n",
    "df.reset_index(drop=True, inplace=True)\n",
    "df.set_index(\"row_id\", inplace = True)\n",
    "\n",
    "df"
   ]
  },
  {
   "cell_type": "code",
   "execution_count": 9,
   "metadata": {},
   "outputs": [],
   "source": [
    "#save inshape file\n",
    "df.to_file('Weddell_sea_MPA.shp') "
   ]
  },
  {
   "cell_type": "code",
   "execution_count": null,
   "metadata": {},
   "outputs": [],
   "source": []
  },
  {
   "cell_type": "code",
   "execution_count": null,
   "metadata": {},
   "outputs": [],
   "source": []
  }
 ],
 "metadata": {
  "colab": {
   "authorship_tag": "ABX9TyPw5lOWVo9iKP0B083mchmV",
   "provenance": []
  },
  "kernelspec": {
   "display_name": "Python 3 (ipykernel)",
   "language": "python",
   "name": "python3"
  },
  "language_info": {
   "codemirror_mode": {
    "name": "ipython",
    "version": 3
   },
   "file_extension": ".py",
   "mimetype": "text/x-python",
   "name": "python",
   "nbconvert_exporter": "python",
   "pygments_lexer": "ipython3",
   "version": "3.11.5"
  }
 },
 "nbformat": 4,
 "nbformat_minor": 4
}
