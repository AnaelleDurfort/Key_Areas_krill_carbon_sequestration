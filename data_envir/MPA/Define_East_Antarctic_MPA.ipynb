{
 "cells": [
  {
   "cell_type": "markdown",
   "id": "33f0b858-ba9a-4762-a1a7-54507a365676",
   "metadata": {},
   "source": [
    "# Define the EAst Antarctic MPA from the documentation available on the CCAMLR website\n",
    "\n",
    "The East Antractic MPA  is proposed but has not been adopter by CCAMLR Members yet. Proposed spatial definission is already available on the CCMALR website : \n",
    "https://meetings.ccamlr.org/en/ccamlr-43/44 \n",
    "\n",
    "This document is from 2024. \n",
    "However, these may not be the ultimate coordinantes of the MPA when/if adopted. \n",
    "\n",
    "In the lastest proposal, some areas should be closed to fishing all year round, and other are defined with a seasonal closure. \n",
    "As our analyses does not provide a temporal variation of the krill density and the sequestration time, we excluded these zones for a conservative approach. "
   ]
  },
  {
   "cell_type": "code",
   "execution_count": 1,
   "id": "2dd0ca7c-3acb-44c8-9a9b-701884c6a130",
   "metadata": {},
   "outputs": [
    {
     "name": "stderr",
     "output_type": "stream",
     "text": [
      "Cannot find header.dxf (GDAL_DATA is not defined)\n"
     ]
    }
   ],
   "source": [
    "import os\n",
    "import geopandas as gpd\n",
    "import pandas as pd\n",
    "from shapely.geometry import Polygon"
   ]
  },
  {
   "cell_type": "code",
   "execution_count": 2,
   "id": "087c42d1-bc77-49b8-995b-24fd5b9d2d73",
   "metadata": {},
   "outputs": [],
   "source": [
    "# To be change with local directory of the data (file too heavy to be on git)\n",
    "os.chdir('C:/Users/anael/Documents/PhD/4_krill_fisheries_Carbon_seq_time/Git_repo/Key_Areas_krill_carbon_sequestration/data_envir/MPA')\n",
    "# os.chdir('./Key_Areas_krill_carbon_sequestration/data_envir/MPA')"
   ]
  },
  {
   "cell_type": "code",
   "execution_count": 3,
   "id": "c6a275b6-5ab6-4ef4-9812-ccb7cb554333",
   "metadata": {},
   "outputs": [],
   "source": [
    "# coordinates D’Urville Sea-Mertz EA MPA\n",
    "coordinates = [\n",
    "    (136, -65.75),\n",
    "    (136, -63.5),\n",
    "    (148, -63.5),\n",
    "    (148, -67.7)\n",
    "]\n",
    "\n",
    "polygon = Polygon(coordinates)\n",
    "df = gpd.GeoDataFrame(index=[2], geometry=[polygon], crs=\"EPSG:4326\")\n",
    "df['Name'] = 'EAMPA-USM'"
   ]
  },
  {
   "cell_type": "code",
   "execution_count": 4,
   "id": "484afb37-d71a-4792-b194-36a0610c836f",
   "metadata": {},
   "outputs": [
    {
     "data": {
      "text/plain": [
       "<Axes: >"
      ]
     },
     "execution_count": 4,
     "metadata": {},
     "output_type": "execute_result"
    },
    {
     "data": {
      "image/png": "[encoded data removed]",
      "text/plain": [
       "<Figure size 640x480 with 1 Axes>"
      ]
     },
     "metadata": {},
     "output_type": "display_data"
    }
   ],
   "source": [
    "df.geometry.plot()"
   ]
  },
  {
   "cell_type": "code",
   "execution_count": 7,
   "id": "79f70efd-0e01-49f8-bc22-5f805e6f50a8",
   "metadata": {},
   "outputs": [
    {
     "data": {
      "text/html": [
       "<div>\n",
       "<style scoped>\n",
       "    .dataframe tbody tr th:only-of-type {\n",
       "        vertical-align: middle;\n",
       "    }\n",
       "\n",
       "    .dataframe tbody tr th {\n",
       "        vertical-align: top;\n",
       "    }\n",
       "\n",
       "    .dataframe thead th {\n",
       "        text-align: right;\n",
       "    }\n",
       "</style>\n",
       "<table border=\"1\" class=\"dataframe\">\n",
       "  <thead>\n",
       "    <tr style=\"text-align: right;\">\n",
       "      <th></th>\n",
       "      <th>geometry</th>\n",
       "      <th>Name</th>\n",
       "    </tr>\n",
       "    <tr>\n",
       "      <th>row_id</th>\n",
       "      <th></th>\n",
       "      <th></th>\n",
       "    </tr>\n",
       "  </thead>\n",
       "  <tbody>\n",
       "    <tr>\n",
       "      <th>0</th>\n",
       "      <td>POLYGON ((136.00000 -65.75000, 136.00000 -63.5...</td>\n",
       "      <td>EAMPA-USM</td>\n",
       "    </tr>\n",
       "  </tbody>\n",
       "</table>\n",
       "</div>"
      ],
      "text/plain": [
       "                                                 geometry       Name\n",
       "row_id                                                              \n",
       "0       POLYGON ((136.00000 -65.75000, 136.00000 -63.5...  EAMPA-USM"
      ]
     },
     "execution_count": 7,
     "metadata": {},
     "output_type": "execute_result"
    }
   ],
   "source": [
    "df[\"row_id\"] = [0]\n",
    "df.reset_index(drop=True, inplace=True)\n",
    "df.set_index(\"row_id\", inplace = True)\n",
    "df"
   ]
  },
  {
   "cell_type": "markdown",
   "id": "ded8982e-0179-4cdc-8e0c-f28a9237010b",
   "metadata": {},
   "source": [
    "# Save"
   ]
  },
  {
   "cell_type": "code",
   "execution_count": 8,
   "id": "a2424891-4cd0-4cd4-8b7b-4470eb61d487",
   "metadata": {},
   "outputs": [],
   "source": [
    "df.to_file('EA_MPA.shp')"
   ]
  }
 ],
 "metadata": {
  "kernelspec": {
   "display_name": "Python 3 (ipykernel)",
   "language": "python",
   "name": "python3"
  },
  "language_info": {
   "codemirror_mode": {
    "name": "ipython",
    "version": 3
   },
   "file_extension": ".py",
   "mimetype": "text/x-python",
   "name": "python",
   "nbconvert_exporter": "python",
   "pygments_lexer": "ipython3",
   "version": "3.11.5"
  }
 },
 "nbformat": 4,
 "nbformat_minor": 5
}
