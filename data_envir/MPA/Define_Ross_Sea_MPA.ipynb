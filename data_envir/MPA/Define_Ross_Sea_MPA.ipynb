{
 "cells": [
  {
   "cell_type": "markdown",
   "id": "8daae1c9-bd70-4a96-bde1-a52ebb481cd9",
   "metadata": {},
   "source": [
    "# Define the Ross Sea MPA from the documentation available on the CCAMLR website\n",
    "\n",
    "Shapefile provided on CCAMLR GIS is not easy to use (problemen when crossing the 0 longitude line). So we regenerate polygons for each of the GPZ of this MPA based on the defined borders: Conservation Measure (CM) 91-05 (2016) : https://www.ccamlr.org/en/measure-91-05-2016 "
   ]
  },
  {
   "cell_type": "code",
   "execution_count": 1,
   "id": "d9a1ebff-0d21-45e8-9ec2-04cc3ef3c2a6",
   "metadata": {},
   "outputs": [
    {
     "name": "stderr",
     "output_type": "stream",
     "text": [
      "Cannot find header.dxf (GDAL_DATA is not defined)\n"
     ]
    }
   ],
   "source": [
    "import geopandas as gpd\n",
    "import pandas as pd\n",
    "from shapely.geometry import Polygon"
   ]
  },
  {
   "cell_type": "code",
   "execution_count": 2,
   "id": "df64ab0a-b036-4874-a3c0-b9e4b3990987",
   "metadata": {},
   "outputs": [],
   "source": [
    "# To be change with local directory of the data (file too heavy to be on git)\n",
    "import os\n",
    "os.chdir('C:/Users/anael/Documents/PhD/4_krill_fisheries_Carbon_seq_time/Git_repo/Key_Areas_krill_carbon_sequestration/data_envir/MPA')"
   ]
  },
  {
   "cell_type": "code",
   "execution_count": 31,
   "id": "02aa6247-ee9b-45dd-a027-5b7c54ca81b3",
   "metadata": {},
   "outputs": [
    {
     "data": {
      "text/html": [
       "<div>\n",
       "<style scoped>\n",
       "    .dataframe tbody tr th:only-of-type {\n",
       "        vertical-align: middle;\n",
       "    }\n",
       "\n",
       "    .dataframe tbody tr th {\n",
       "        vertical-align: top;\n",
       "    }\n",
       "\n",
       "    .dataframe thead th {\n",
       "        text-align: right;\n",
       "    }\n",
       "</style>\n",
       "<table border=\"1\" class=\"dataframe\">\n",
       "  <thead>\n",
       "    <tr style=\"text-align: right;\">\n",
       "      <th></th>\n",
       "      <th>geometry</th>\n",
       "      <th>Name</th>\n",
       "    </tr>\n",
       "  </thead>\n",
       "  <tbody>\n",
       "    <tr>\n",
       "      <th>1</th>\n",
       "      <td>POLYGON ((-180.00000 -76.00000, -170.00000 -76...</td>\n",
       "      <td>Ross_sea_GPZi_w</td>\n",
       "    </tr>\n",
       "  </tbody>\n",
       "</table>\n",
       "</div>"
      ],
      "text/plain": [
       "                                            geometry             Name\n",
       "1  POLYGON ((-180.00000 -76.00000, -170.00000 -76...  Ross_sea_GPZi_w"
      ]
     },
     "execution_count": 31,
     "metadata": {},
     "output_type": "execute_result"
    }
   ],
   "source": [
    "# Coordinates GPZ i\n",
    "# Make 2 polygons for the eastern and western sides of the MPA \n",
    "coordinates = [\n",
    "    (-180, -76),\n",
    "    (-170, -76),\n",
    "    (-170, -76.3),\n",
    "    (-164, -76.3),\n",
    "    (-164, -75),\n",
    "    (-170, -75),\n",
    "    (-170, -72),\n",
    "    (-150, -72),\n",
    "    (-150, -75.9),\n",
    "    (-180, -78.2)\n",
    "]\n",
    "\n",
    "\n",
    "polygon = Polygon(coordinates)\n",
    "df11 = gpd.GeoDataFrame(index=[1], geometry=[polygon], crs=\"EPSG:4326\")\n",
    "df11['Name'] = 'Ross_sea_GPZi_w'\n",
    "df11"
   ]
  },
  {
   "cell_type": "code",
   "execution_count": 32,
   "id": "1f28afbb-4ca6-482a-928d-e7a47ee41689",
   "metadata": {},
   "outputs": [
    {
     "data": {
      "text/plain": [
       "<Axes: >"
      ]
     },
     "execution_count": 32,
     "metadata": {},
     "output_type": "execute_result"
    },
    {
     "data": {
      "image/png": "[encoded data removed]",
      "text/plain": [
       "<Figure size 640x480 with 1 Axes>"
      ]
     },
     "metadata": {},
     "output_type": "display_data"
    }
   ],
   "source": [
    "df11.geometry.plot()"
   ]
  },
  {
   "cell_type": "code",
   "execution_count": 33,
   "id": "29073989-f8ca-4750-9143-cdde424d3b44",
   "metadata": {},
   "outputs": [
    {
     "data": {
      "text/html": [
       "<div>\n",
       "<style scoped>\n",
       "    .dataframe tbody tr th:only-of-type {\n",
       "        vertical-align: middle;\n",
       "    }\n",
       "\n",
       "    .dataframe tbody tr th {\n",
       "        vertical-align: top;\n",
       "    }\n",
       "\n",
       "    .dataframe thead th {\n",
       "        text-align: right;\n",
       "    }\n",
       "</style>\n",
       "<table border=\"1\" class=\"dataframe\">\n",
       "  <thead>\n",
       "    <tr style=\"text-align: right;\">\n",
       "      <th></th>\n",
       "      <th>geometry</th>\n",
       "      <th>Name</th>\n",
       "    </tr>\n",
       "  </thead>\n",
       "  <tbody>\n",
       "    <tr>\n",
       "      <th>2</th>\n",
       "      <td>POLYGON ((160.00000 -69.10000, 160.00000 -65.0...</td>\n",
       "      <td>Ross_sea_GPZi_e</td>\n",
       "    </tr>\n",
       "  </tbody>\n",
       "</table>\n",
       "</div>"
      ],
      "text/plain": [
       "                                            geometry             Name\n",
       "2  POLYGON ((160.00000 -69.10000, 160.00000 -65.0...  Ross_sea_GPZi_e"
      ]
     },
     "execution_count": 33,
     "metadata": {},
     "output_type": "execute_result"
    }
   ],
   "source": [
    "# Coordinates GPZ i\n",
    "# Make 2 polygons for the eastern and western sides of the MPA \n",
    "coordinates = [\n",
    "    (160, -69.1),\n",
    "    (160, -65),\n",
    "    (173.45, -65),\n",
    "    (173.45, -73.3),\n",
    "    (180 , -73.3),\n",
    "    (180, -78.2), # coastline point when considering the eastern side of the AMP\n",
    "    (170, -77.45), # add points to follow the coast approximatly\n",
    "    (165.55, -75.55), # same\n",
    "    (171.75, -72.5) # same\n",
    "]\n",
    "\n",
    "\n",
    "polygon = Polygon(coordinates)\n",
    "df12 = gpd.GeoDataFrame(index=[2], geometry=[polygon], crs=\"EPSG:4326\")\n",
    "df12['Name'] = 'Ross_sea_GPZi_e'\n",
    "df12"
   ]
  },
  {
   "cell_type": "code",
   "execution_count": 34,
   "id": "a913e650-07c1-4e29-babf-7ff6e12a9d2e",
   "metadata": {},
   "outputs": [
    {
     "data": {
      "text/plain": [
       "<Axes: >"
      ]
     },
     "execution_count": 34,
     "metadata": {},
     "output_type": "execute_result"
    },
    {
     "data": {
      "image/png": "[encoded data removed]",
      "text/plain": [
       "<Figure size 640x480 with 1 Axes>"
      ]
     },
     "metadata": {},
     "output_type": "display_data"
    }
   ],
   "source": [
    "df12.geometry.plot()"
   ]
  },
  {
   "cell_type": "code",
   "execution_count": 35,
   "id": "37a4174d-79de-4fe5-83b1-5fed0c5d6c67",
   "metadata": {},
   "outputs": [
    {
     "data": {
      "text/html": [
       "<div>\n",
       "<style scoped>\n",
       "    .dataframe tbody tr th:only-of-type {\n",
       "        vertical-align: middle;\n",
       "    }\n",
       "\n",
       "    .dataframe tbody tr th {\n",
       "        vertical-align: top;\n",
       "    }\n",
       "\n",
       "    .dataframe thead th {\n",
       "        text-align: right;\n",
       "    }\n",
       "</style>\n",
       "<table border=\"1\" class=\"dataframe\">\n",
       "  <thead>\n",
       "    <tr style=\"text-align: right;\">\n",
       "      <th></th>\n",
       "      <th>geometry</th>\n",
       "      <th>Name</th>\n",
       "    </tr>\n",
       "  </thead>\n",
       "  <tbody>\n",
       "    <tr>\n",
       "      <th>3</th>\n",
       "      <td>POLYGON ((163.00000 -62.30000, 163.00000 -60.0...</td>\n",
       "      <td>Ross_sea_GPZii</td>\n",
       "    </tr>\n",
       "  </tbody>\n",
       "</table>\n",
       "</div>"
      ],
      "text/plain": [
       "                                            geometry            Name\n",
       "3  POLYGON ((163.00000 -62.30000, 163.00000 -60.0...  Ross_sea_GPZii"
      ]
     },
     "execution_count": 35,
     "metadata": {},
     "output_type": "execute_result"
    }
   ],
   "source": [
    "# Coordinates GPZ ii\n",
    "coordinates = [\n",
    "    (163, -62.3),\n",
    "    (163, -60),\n",
    "    (168, -60),\n",
    "    (168, -62.3)\n",
    "]\n",
    "\n",
    "\n",
    "polygon = Polygon(coordinates)\n",
    "df2 = gpd.GeoDataFrame(index=[3], geometry=[polygon], crs=\"EPSG:4326\")\n",
    "df2['Name'] = 'Ross_sea_GPZii'\n",
    "df2"
   ]
  },
  {
   "cell_type": "code",
   "execution_count": 36,
   "id": "c582a614-072e-4aef-8d76-1eb6cad1117a",
   "metadata": {},
   "outputs": [
    {
     "data": {
      "text/plain": [
       "<Axes: >"
      ]
     },
     "execution_count": 36,
     "metadata": {},
     "output_type": "execute_result"
    },
    {
     "data": {
      "image/png": "[encoded data removed]",
      "text/plain": [
       "<Figure size 640x480 with 1 Axes>"
      ]
     },
     "metadata": {},
     "output_type": "display_data"
    }
   ],
   "source": [
    "df2.geometry.plot()"
   ]
  },
  {
   "cell_type": "code",
   "execution_count": 45,
   "id": "cc9b60ea-cb3d-44c2-9023-519f07fa380e",
   "metadata": {},
   "outputs": [
    {
     "data": {
      "text/html": [
       "<div>\n",
       "<style scoped>\n",
       "    .dataframe tbody tr th:only-of-type {\n",
       "        vertical-align: middle;\n",
       "    }\n",
       "\n",
       "    .dataframe tbody tr th {\n",
       "        vertical-align: top;\n",
       "    }\n",
       "\n",
       "    .dataframe thead th {\n",
       "        text-align: right;\n",
       "    }\n",
       "</style>\n",
       "<table border=\"1\" class=\"dataframe\">\n",
       "  <thead>\n",
       "    <tr style=\"text-align: right;\">\n",
       "      <th></th>\n",
       "      <th>geometry</th>\n",
       "      <th>Name</th>\n",
       "    </tr>\n",
       "  </thead>\n",
       "  <tbody>\n",
       "    <tr>\n",
       "      <th>4</th>\n",
       "      <td>POLYGON ((178.99000 -69.00000, 178.99000 -66.4...</td>\n",
       "      <td>Ross_sea_GPZiii_e</td>\n",
       "    </tr>\n",
       "  </tbody>\n",
       "</table>\n",
       "</div>"
      ],
      "text/plain": [
       "                                            geometry               Name\n",
       "4  POLYGON ((178.99000 -69.00000, 178.99000 -66.4...  Ross_sea_GPZiii_e"
      ]
     },
     "execution_count": 45,
     "metadata": {},
     "output_type": "execute_result"
    }
   ],
   "source": [
    "# Coordinates GPZ iii\n",
    "# Make 2 polygons for the eastern and western sides of the MPA \n",
    "coordinates = [\n",
    "    (178.99, -69), # avoid border effect on longitude when clipping\n",
    "    (178.99, -66.45), # avoid border effect on longitude when clipping\n",
    "    (180, -66.45),\n",
    "    (180, -69)\n",
    "]\n",
    "\n",
    "\n",
    "polygon = Polygon(coordinates)\n",
    "df31 = gpd.GeoDataFrame(index=[4], geometry=[polygon], crs=\"EPSG:4326\")\n",
    "df31['Name'] = 'Ross_sea_GPZiii_e'\n",
    "df31"
   ]
  },
  {
   "cell_type": "code",
   "execution_count": 46,
   "id": "bb06dd68-b025-44dd-8b6d-90d1ab1e1951",
   "metadata": {},
   "outputs": [
    {
     "data": {
      "text/html": [
       "<div>\n",
       "<style scoped>\n",
       "    .dataframe tbody tr th:only-of-type {\n",
       "        vertical-align: middle;\n",
       "    }\n",
       "\n",
       "    .dataframe tbody tr th {\n",
       "        vertical-align: top;\n",
       "    }\n",
       "\n",
       "    .dataframe thead th {\n",
       "        text-align: right;\n",
       "    }\n",
       "</style>\n",
       "<table border=\"1\" class=\"dataframe\">\n",
       "  <thead>\n",
       "    <tr style=\"text-align: right;\">\n",
       "      <th></th>\n",
       "      <th>geometry</th>\n",
       "      <th>Name</th>\n",
       "    </tr>\n",
       "  </thead>\n",
       "  <tbody>\n",
       "    <tr>\n",
       "      <th>5</th>\n",
       "      <td>POLYGON ((-179.00000 -69.00000, -179.00000 -66...</td>\n",
       "      <td>Ross_sea_GPZiii_w</td>\n",
       "    </tr>\n",
       "  </tbody>\n",
       "</table>\n",
       "</div>"
      ],
      "text/plain": [
       "                                            geometry               Name\n",
       "5  POLYGON ((-179.00000 -69.00000, -179.00000 -66...  Ross_sea_GPZiii_w"
      ]
     },
     "execution_count": 46,
     "metadata": {},
     "output_type": "execute_result"
    }
   ],
   "source": [
    "# Coordinates GPZ iii\n",
    "# Make 2 polygons for the eastern and western sides of the MPA \n",
    "coordinates = [\n",
    "    (-179, -69),\n",
    "    (-179, -66.45),\n",
    "    (-180, -66.45),\n",
    "    (-180, -69)\n",
    "]\n",
    "\n",
    "\n",
    "polygon = Polygon(coordinates)\n",
    "df32 = gpd.GeoDataFrame(index=[5], geometry=[polygon], crs=\"EPSG:4326\")\n",
    "df32['Name'] = 'Ross_sea_GPZiii_w'\n",
    "df32"
   ]
  },
  {
   "cell_type": "code",
   "execution_count": 47,
   "id": "6182f95d-0844-42ce-9c9d-e13646ac4180",
   "metadata": {},
   "outputs": [
    {
     "data": {
      "text/html": [
       "<div>\n",
       "<style scoped>\n",
       "    .dataframe tbody tr th:only-of-type {\n",
       "        vertical-align: middle;\n",
       "    }\n",
       "\n",
       "    .dataframe tbody tr th {\n",
       "        vertical-align: top;\n",
       "    }\n",
       "\n",
       "    .dataframe thead th {\n",
       "        text-align: right;\n",
       "    }\n",
       "</style>\n",
       "<table border=\"1\" class=\"dataframe\">\n",
       "  <thead>\n",
       "    <tr style=\"text-align: right;\">\n",
       "      <th></th>\n",
       "      <th>geometry</th>\n",
       "      <th>Name</th>\n",
       "    </tr>\n",
       "    <tr>\n",
       "      <th>row_id</th>\n",
       "      <th></th>\n",
       "      <th></th>\n",
       "    </tr>\n",
       "  </thead>\n",
       "  <tbody>\n",
       "    <tr>\n",
       "      <th>0</th>\n",
       "      <td>POLYGON ((-180.00000 -76.00000, -170.00000 -76...</td>\n",
       "      <td>Ross_sea_GPZi_w</td>\n",
       "    </tr>\n",
       "    <tr>\n",
       "      <th>1</th>\n",
       "      <td>POLYGON ((160.00000 -69.10000, 160.00000 -65.0...</td>\n",
       "      <td>Ross_sea_GPZi_e</td>\n",
       "    </tr>\n",
       "    <tr>\n",
       "      <th>2</th>\n",
       "      <td>POLYGON ((163.00000 -62.30000, 163.00000 -60.0...</td>\n",
       "      <td>Ross_sea_GPZii</td>\n",
       "    </tr>\n",
       "    <tr>\n",
       "      <th>3</th>\n",
       "      <td>POLYGON ((178.99000 -69.00000, 178.99000 -66.4...</td>\n",
       "      <td>Ross_sea_GPZiii_e</td>\n",
       "    </tr>\n",
       "    <tr>\n",
       "      <th>4</th>\n",
       "      <td>POLYGON ((-179.00000 -69.00000, -179.00000 -66...</td>\n",
       "      <td>Ross_sea_GPZiii_w</td>\n",
       "    </tr>\n",
       "  </tbody>\n",
       "</table>\n",
       "</div>"
      ],
      "text/plain": [
       "                                                 geometry               Name\n",
       "row_id                                                                      \n",
       "0       POLYGON ((-180.00000 -76.00000, -170.00000 -76...    Ross_sea_GPZi_w\n",
       "1       POLYGON ((160.00000 -69.10000, 160.00000 -65.0...    Ross_sea_GPZi_e\n",
       "2       POLYGON ((163.00000 -62.30000, 163.00000 -60.0...     Ross_sea_GPZii\n",
       "3       POLYGON ((178.99000 -69.00000, 178.99000 -66.4...  Ross_sea_GPZiii_e\n",
       "4       POLYGON ((-179.00000 -69.00000, -179.00000 -66...  Ross_sea_GPZiii_w"
      ]
     },
     "execution_count": 47,
     "metadata": {},
     "output_type": "execute_result"
    }
   ],
   "source": [
    "df = pd.concat([df11, df12, df2, df31, df32])\n",
    "df[\"row_id\"] = df.index-1\n",
    "df.reset_index(drop=True, inplace=True)\n",
    "df.set_index(\"row_id\", inplace = True)\n",
    "\n",
    "df"
   ]
  },
  {
   "cell_type": "code",
   "execution_count": 48,
   "id": "80ab2290-431f-487c-9bb6-1c4f6e5b0e09",
   "metadata": {},
   "outputs": [],
   "source": [
    "#save inshape file\n",
    "df.to_file('Ross_sea_MPA_GPZ.shp') "
   ]
  },
  {
   "cell_type": "code",
   "execution_count": null,
   "id": "f3c1bf8b-3f61-4b49-8d3c-30f5f69f5bce",
   "metadata": {},
   "outputs": [],
   "source": []
  }
 ],
 "metadata": {
  "kernelspec": {
   "display_name": "Python 3 (ipykernel)",
   "language": "python",
   "name": "python3"
  },
  "language_info": {
   "codemirror_mode": {
    "name": "ipython",
    "version": 3
   },
   "file_extension": ".py",
   "mimetype": "text/x-python",
   "name": "python",
   "nbconvert_exporter": "python",
   "pygments_lexer": "ipython3",
   "version": "3.11.5"
  }
 },
 "nbformat": 4,
 "nbformat_minor": 5
}
